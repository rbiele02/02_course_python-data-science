{
  "cells": [
    {
      "metadata": {
        "toc": true
      },
      "cell_type": "markdown",
      "source": "<h1>Table of Contents<span class=\"tocSkip\"></span></h1>\n<div class=\"toc\"><ul class=\"toc-item\"><li><span><a href=\"#Import-data-from--Italian-Protezione-Civile-and-JHU-and-compare-them\" data-toc-modified-id=\"Import-data-from--Italian-Protezione-Civile-and-JHU-and-compare-them-1\"><span class=\"toc-item-num\">1&nbsp;&nbsp;</span>Import data from  Italian Protezione Civile and JHU and compare them</a></span></li><li><span><a href=\"#Analyse-the-data-from-the-IPC\" data-toc-modified-id=\"Analyse-the-data-from-the-IPC-2\"><span class=\"toc-item-num\">2&nbsp;&nbsp;</span>Analyse the data from the IPC</a></span></li><li><span><a href=\"#Explain-scatter-plot-from-the-last-course\" data-toc-modified-id=\"Explain-scatter-plot-from-the-last-course-3\"><span class=\"toc-item-num\">3&nbsp;&nbsp;</span>Explain scatter plot from the last course</a></span><ul class=\"toc-item\"><li><span><a href=\"#Change-of-slope\" data-toc-modified-id=\"Change-of-slope-3.1\"><span class=\"toc-item-num\">3.1&nbsp;&nbsp;</span>Change of slope</a></span></li><li><span><a href=\"#Explain-reversal-behavior\" data-toc-modified-id=\"Explain-reversal-behavior-3.2\"><span class=\"toc-item-num\">3.2&nbsp;&nbsp;</span>Explain reversal behavior</a></span></li><li><span><a href=\"#Comparing-reversal-to-other-countries\" data-toc-modified-id=\"Comparing-reversal-to-other-countries-3.3\"><span class=\"toc-item-num\">3.3&nbsp;&nbsp;</span>Comparing reversal to other countries</a></span></li><li><span><a href=\"#I-am-running-out-of-ideas\" data-toc-modified-id=\"I-am-running-out-of-ideas-3.4\"><span class=\"toc-item-num\">3.4&nbsp;&nbsp;</span>I am running out of ideas</a></span></li></ul></li><li><span><a href=\"#Predicting-the-future-of-the-epidemic\" data-toc-modified-id=\"Predicting-the-future-of-the-epidemic-4\"><span class=\"toc-item-num\">4&nbsp;&nbsp;</span>Predicting the future of the epidemic</a></span></li><li><span><a href=\"#German-local-data\" data-toc-modified-id=\"German-local-data-5\"><span class=\"toc-item-num\">5&nbsp;&nbsp;</span>German local data</a></span></li></ul></div>"
    },
    {
      "metadata": {},
      "cell_type": "markdown",
      "source": "This notebook is about practicing pandas to better understand the COVID-19 outbreak in Italy and worldwide. I will provide 4 questions/problems that you might try to answer by analyzing the data. You don't have to answer all of them. Choose the oneS you are interested in. Anyway, I would appreciate if you could send me your Notebook afterwards (robert.biele1@tu-dresden.de). Looking forward reading them."
    },
    {
      "metadata": {},
      "cell_type": "markdown",
      "source": "## Import data from  Italian Protezione Civile and JHU and compare them"
    },
    {
      "metadata": {
        "trusted": true
      },
      "cell_type": "code",
      "source": "# import the needed libraries\nimport pandas as pd\nimport matplotlib.pyplot as plt\nimport matplotlib as mpl\nimport shutil\n\n# set some plotting styles\n%matplotlib inline\nmpl.rcParams['font.size'] = 12\nmpl.rcParams['figure.dpi'] = 90.",
      "execution_count": 1,
      "outputs": [
        {
          "output_type": "stream",
          "text": "/home/nbuser/anaconda3_420/lib/python3.5/site-packages/matplotlib/font_manager.py:281: UserWarning: Matplotlib is building the font cache using fc-list. This may take a moment.\n  'Matplotlib is building the font cache using fc-list. '\n",
          "name": "stderr"
        }
      ]
    },
    {
      "metadata": {},
      "cell_type": "markdown",
      "source": "Let us first import the data for Italy from the JHU and save it as <code>daily_jhu</code>."
    },
    {
      "metadata": {
        "trusted": true
      },
      "cell_type": "code",
      "source": "# this creates the latest csv files in data/\n%run ./data/create_clean_csv_files_covid.ipynb\n\nshutil.copy2('cases.csv', 'data/')\nshutil.copy2('deaths.csv', 'data/')",
      "execution_count": 2,
      "outputs": [
        {
          "output_type": "stream",
          "text": "The data is from 06/05/2020.\n",
          "name": "stdout"
        },
        {
          "output_type": "execute_result",
          "execution_count": 2,
          "data": {
            "text/plain": "'data/deaths.csv'"
          },
          "metadata": {}
        }
      ]
    },
    {
      "metadata": {
        "trusted": true
      },
      "cell_type": "code",
      "source": "# import the data from the JHU\nfile = 'data/cases.csv'\ncases = pd.read_csv(file,index_col=0)   # Read data from CSV file\ncases.index.name = None\n\nfile = 'data/deaths.csv'   # import cases\ndeaths = pd.read_csv(file,index_col=0)   # Read data from CSV file\ndeaths.index.name = None # no name for index\n\ndaily_cases = cases.diff(axis=1).fillna(0)\ndaily_deaths = deaths.diff(axis=1).fillna(0)\n\n# daily_jhu is a DataFrame containing two columns, daily_cases and daily_deaths in country\ncountry = 'Italy'\n\ndaily_jhu = daily_cases.loc[[country]].transpose()\ndaily_jhu.rename(columns={country: 'daily_cases'}, inplace=True)\ndaily_jhu['daily_deaths'] = daily_deaths.loc[country]\n\n# let's also change the index to a proper DateTime\ndate_format = [pd.to_datetime(d)for d in daily_jhu.index]\ndaily_jhu.index = date_format\ndaily_jhu.tail()",
      "execution_count": 3,
      "outputs": [
        {
          "output_type": "execute_result",
          "execution_count": 3,
          "data": {
            "text/plain": "            daily_cases  daily_deaths\n2020-05-02       1900.0         474.0\n2020-05-03       1389.0         174.0\n2020-05-04       1221.0         195.0\n2020-05-05       1075.0         236.0\n2020-05-06       1444.0         369.0",
            "text/html": "<div>\n<table border=\"1\" class=\"dataframe\">\n  <thead>\n    <tr style=\"text-align: right;\">\n      <th></th>\n      <th>daily_cases</th>\n      <th>daily_deaths</th>\n    </tr>\n  </thead>\n  <tbody>\n    <tr>\n      <th>2020-05-02</th>\n      <td>1900.0</td>\n      <td>474.0</td>\n    </tr>\n    <tr>\n      <th>2020-05-03</th>\n      <td>1389.0</td>\n      <td>174.0</td>\n    </tr>\n    <tr>\n      <th>2020-05-04</th>\n      <td>1221.0</td>\n      <td>195.0</td>\n    </tr>\n    <tr>\n      <th>2020-05-05</th>\n      <td>1075.0</td>\n      <td>236.0</td>\n    </tr>\n    <tr>\n      <th>2020-05-06</th>\n      <td>1444.0</td>\n      <td>369.0</td>\n    </tr>\n  </tbody>\n</table>\n</div>"
          },
          "metadata": {}
        }
      ]
    },
    {
      "metadata": {},
      "cell_type": "markdown",
      "source": "---"
    },
    {
      "metadata": {},
      "cell_type": "markdown",
      "source": "The DataFrame <code>daily_jhu</code> contains the data for Italy from the JHU. Now let's import a csv file about COVID-19 released by the *Italian Protezione Civile* (IPC)."
    },
    {
      "metadata": {
        "trusted": true
      },
      "cell_type": "code",
      "source": "url = 'https://raw.githubusercontent.com/pcm-dpc/COVID-19/master/dati-andamento-nazionale/'\ndaily_ipc = pd.read_csv(url + 'dpc-covid19-ita-andamento-nazionale.csv',index_col=0)\n \n# change index to real dateTime\ndaily_ipc.index = [pd.to_datetime(d).replace(hour=0) for d in daily_ipc.index]\n\ndaily_ipc.head()",
      "execution_count": 4,
      "outputs": [
        {
          "output_type": "execute_result",
          "execution_count": 4,
          "data": {
            "text/plain": "           stato  ricoverati_con_sintomi  terapia_intensiva  \\\n2020-02-24   ITA                     101                 26   \n2020-02-25   ITA                     114                 35   \n2020-02-26   ITA                     128                 36   \n2020-02-27   ITA                     248                 56   \n2020-02-28   ITA                     345                 64   \n\n            totale_ospedalizzati  isolamento_domiciliare  totale_positivi  \\\n2020-02-24                   127                      94              221   \n2020-02-25                   150                     162              311   \n2020-02-26                   164                     221              385   \n2020-02-27                   304                     284              588   \n2020-02-28                   409                     412              821   \n\n            variazione_totale_positivi  nuovi_positivi  dimessi_guariti  \\\n2020-02-24                           0             221                1   \n2020-02-25                          90              93                1   \n2020-02-26                          74              78                3   \n2020-02-27                         203             250               45   \n2020-02-28                         233             238               46   \n\n            deceduti  totale_casi  tamponi  casi_testati note_it note_en  \n2020-02-24         7          229     4324           NaN     NaN     NaN  \n2020-02-25        10          322     8623           NaN     NaN     NaN  \n2020-02-26        12          400     9587           NaN     NaN     NaN  \n2020-02-27        17          650    12014           NaN     NaN     NaN  \n2020-02-28        21          888    15695           NaN     NaN     NaN  ",
            "text/html": "<div>\n<table border=\"1\" class=\"dataframe\">\n  <thead>\n    <tr style=\"text-align: right;\">\n      <th></th>\n      <th>stato</th>\n      <th>ricoverati_con_sintomi</th>\n      <th>terapia_intensiva</th>\n      <th>totale_ospedalizzati</th>\n      <th>isolamento_domiciliare</th>\n      <th>totale_positivi</th>\n      <th>variazione_totale_positivi</th>\n      <th>nuovi_positivi</th>\n      <th>dimessi_guariti</th>\n      <th>deceduti</th>\n      <th>totale_casi</th>\n      <th>tamponi</th>\n      <th>casi_testati</th>\n      <th>note_it</th>\n      <th>note_en</th>\n    </tr>\n  </thead>\n  <tbody>\n    <tr>\n      <th>2020-02-24</th>\n      <td>ITA</td>\n      <td>101</td>\n      <td>26</td>\n      <td>127</td>\n      <td>94</td>\n      <td>221</td>\n      <td>0</td>\n      <td>221</td>\n      <td>1</td>\n      <td>7</td>\n      <td>229</td>\n      <td>4324</td>\n      <td>NaN</td>\n      <td>NaN</td>\n      <td>NaN</td>\n    </tr>\n    <tr>\n      <th>2020-02-25</th>\n      <td>ITA</td>\n      <td>114</td>\n      <td>35</td>\n      <td>150</td>\n      <td>162</td>\n      <td>311</td>\n      <td>90</td>\n      <td>93</td>\n      <td>1</td>\n      <td>10</td>\n      <td>322</td>\n      <td>8623</td>\n      <td>NaN</td>\n      <td>NaN</td>\n      <td>NaN</td>\n    </tr>\n    <tr>\n      <th>2020-02-26</th>\n      <td>ITA</td>\n      <td>128</td>\n      <td>36</td>\n      <td>164</td>\n      <td>221</td>\n      <td>385</td>\n      <td>74</td>\n      <td>78</td>\n      <td>3</td>\n      <td>12</td>\n      <td>400</td>\n      <td>9587</td>\n      <td>NaN</td>\n      <td>NaN</td>\n      <td>NaN</td>\n    </tr>\n    <tr>\n      <th>2020-02-27</th>\n      <td>ITA</td>\n      <td>248</td>\n      <td>56</td>\n      <td>304</td>\n      <td>284</td>\n      <td>588</td>\n      <td>203</td>\n      <td>250</td>\n      <td>45</td>\n      <td>17</td>\n      <td>650</td>\n      <td>12014</td>\n      <td>NaN</td>\n      <td>NaN</td>\n      <td>NaN</td>\n    </tr>\n    <tr>\n      <th>2020-02-28</th>\n      <td>ITA</td>\n      <td>345</td>\n      <td>64</td>\n      <td>409</td>\n      <td>412</td>\n      <td>821</td>\n      <td>233</td>\n      <td>238</td>\n      <td>46</td>\n      <td>21</td>\n      <td>888</td>\n      <td>15695</td>\n      <td>NaN</td>\n      <td>NaN</td>\n      <td>NaN</td>\n    </tr>\n  </tbody>\n</table>\n</div>"
          },
          "metadata": {}
        }
      ]
    },
    {
      "metadata": {},
      "cell_type": "markdown",
      "source": "---"
    },
    {
      "metadata": {},
      "cell_type": "markdown",
      "source": "The columns are in Italian. Let's try to translate this directly in Python. DeepL is only for paying subscribers, however the Google Translate API is free."
    },
    {
      "metadata": {},
      "cell_type": "markdown",
      "source": "> Googletrans is a free and unlimited python library that implemented Google Translate API. This uses the Google Translate Ajax API to make calls to such methods as detect and translate."
    },
    {
      "metadata": {
        "code_folding": [],
        "trusted": true
      },
      "cell_type": "code",
      "source": "# in case you have installed it uncommend the next line\n!pip install googletrans\nfrom googletrans import Translator\n\ncol_list = []\nfor col in daily_ipc.columns:\n    col_list.append( col.replace('_', ' ') ) # we replace '_' by a space for translation\n\nenglish_cols = Translator().translate(col_list, src='it', dest='en') # this translates col_list to english\n\nfor i in range(len(english_cols)):\n    english_cols[i] = english_cols[i].text.replace(' ','_') # we replace now the spaces by '_'\n\ndaily_ipc.columns = english_cols # and set the columns of the DataFrame to the english texts\ndaily_ipc.head()",
      "execution_count": 5,
      "outputs": [
        {
          "output_type": "stream",
          "text": "Collecting googletrans\n  Using cached https://files.pythonhosted.org/packages/fd/f0/a22d41d3846d1f46a4f20086141e0428ccc9c6d644aacbfd30990cf46886/googletrans-2.4.0.tar.gz\nRequirement already satisfied: requests in /home/nbuser/anaconda3_420/lib/python3.5/site-packages (from googletrans) (2.14.2)\nBuilding wheels for collected packages: googletrans\n  Building wheel for googletrans (setup.py) ... \u001b[?25ldone\n\u001b[?25h  Created wheel for googletrans: filename=googletrans-2.4.0-cp35-none-any.whl size=20591 sha256=550f5ecf822e1cc44e86b2c8c97df6dfc6268d82dc92f85d6f6a21ffea7a6039\n  Stored in directory: /home/nbuser/.cache/pip/wheels/50/d6/e7/a8efd5f2427d5eb258070048718fa56ee5ac57fd6f53505f95\nSuccessfully built googletrans\nInstalling collected packages: googletrans\nSuccessfully installed googletrans-2.4.0\n\u001b[33mWARNING: You are using pip version 19.3.1; however, version 20.1 is available.\nYou should consider upgrading via the 'pip install --upgrade pip' command.\u001b[0m\n",
          "name": "stdout"
        },
        {
          "output_type": "execute_result",
          "execution_count": 5,
          "data": {
            "text/plain": "           state  hospitalized_with_symptoms  intensive_care  \\\n2020-02-24   ITA                         101              26   \n2020-02-25   ITA                         114              35   \n2020-02-26   ITA                         128              36   \n2020-02-27   ITA                         248              56   \n2020-02-28   ITA                         345              64   \n\n            total_hospitalized  isolation_at_home  total_positive  \\\n2020-02-24                 127                 94             221   \n2020-02-25                 150                162             311   \n2020-02-26                 164                221             385   \n2020-02-27                 304                284             588   \n2020-02-28                 409                412             821   \n\n            total_positive_variation  new_positive  discharged_healed  \\\n2020-02-24                         0           221                  1   \n2020-02-25                        90            93                  1   \n2020-02-26                        74            78                  3   \n2020-02-27                       203           250                 45   \n2020-02-28                       233           238                 46   \n\n            deceased  total_cases  swabs  cases_tested it_notes notes_en  \n2020-02-24         7          229   4324           NaN      NaN      NaN  \n2020-02-25        10          322   8623           NaN      NaN      NaN  \n2020-02-26        12          400   9587           NaN      NaN      NaN  \n2020-02-27        17          650  12014           NaN      NaN      NaN  \n2020-02-28        21          888  15695           NaN      NaN      NaN  ",
            "text/html": "<div>\n<table border=\"1\" class=\"dataframe\">\n  <thead>\n    <tr style=\"text-align: right;\">\n      <th></th>\n      <th>state</th>\n      <th>hospitalized_with_symptoms</th>\n      <th>intensive_care</th>\n      <th>total_hospitalized</th>\n      <th>isolation_at_home</th>\n      <th>total_positive</th>\n      <th>total_positive_variation</th>\n      <th>new_positive</th>\n      <th>discharged_healed</th>\n      <th>deceased</th>\n      <th>total_cases</th>\n      <th>swabs</th>\n      <th>cases_tested</th>\n      <th>it_notes</th>\n      <th>notes_en</th>\n    </tr>\n  </thead>\n  <tbody>\n    <tr>\n      <th>2020-02-24</th>\n      <td>ITA</td>\n      <td>101</td>\n      <td>26</td>\n      <td>127</td>\n      <td>94</td>\n      <td>221</td>\n      <td>0</td>\n      <td>221</td>\n      <td>1</td>\n      <td>7</td>\n      <td>229</td>\n      <td>4324</td>\n      <td>NaN</td>\n      <td>NaN</td>\n      <td>NaN</td>\n    </tr>\n    <tr>\n      <th>2020-02-25</th>\n      <td>ITA</td>\n      <td>114</td>\n      <td>35</td>\n      <td>150</td>\n      <td>162</td>\n      <td>311</td>\n      <td>90</td>\n      <td>93</td>\n      <td>1</td>\n      <td>10</td>\n      <td>322</td>\n      <td>8623</td>\n      <td>NaN</td>\n      <td>NaN</td>\n      <td>NaN</td>\n    </tr>\n    <tr>\n      <th>2020-02-26</th>\n      <td>ITA</td>\n      <td>128</td>\n      <td>36</td>\n      <td>164</td>\n      <td>221</td>\n      <td>385</td>\n      <td>74</td>\n      <td>78</td>\n      <td>3</td>\n      <td>12</td>\n      <td>400</td>\n      <td>9587</td>\n      <td>NaN</td>\n      <td>NaN</td>\n      <td>NaN</td>\n    </tr>\n    <tr>\n      <th>2020-02-27</th>\n      <td>ITA</td>\n      <td>248</td>\n      <td>56</td>\n      <td>304</td>\n      <td>284</td>\n      <td>588</td>\n      <td>203</td>\n      <td>250</td>\n      <td>45</td>\n      <td>17</td>\n      <td>650</td>\n      <td>12014</td>\n      <td>NaN</td>\n      <td>NaN</td>\n      <td>NaN</td>\n    </tr>\n    <tr>\n      <th>2020-02-28</th>\n      <td>ITA</td>\n      <td>345</td>\n      <td>64</td>\n      <td>409</td>\n      <td>412</td>\n      <td>821</td>\n      <td>233</td>\n      <td>238</td>\n      <td>46</td>\n      <td>21</td>\n      <td>888</td>\n      <td>15695</td>\n      <td>NaN</td>\n      <td>NaN</td>\n      <td>NaN</td>\n    </tr>\n  </tbody>\n</table>\n</div>"
          },
          "metadata": {}
        }
      ]
    },
    {
      "metadata": {},
      "cell_type": "markdown",
      "source": "---"
    },
    {
      "metadata": {},
      "cell_type": "markdown",
      "source": "Great! The DataFrame <code>daily_ipc</code> contains much more information than <code>daily_jhu</code>. What is the name of the column that correspond to daily new infections? Plot it over time and compare it with <code>daily_jhu['daily_cases']</code>. Does they coincide? What is the difference?"
    },
    {
      "metadata": {
        "trusted": true
      },
      "cell_type": "code",
      "source": "# as the data from the JHU starts earlier than the other data, we will just adjust it\ndaily_jhu = daily_jhu.loc[daily_ipc.index]\n#  plot ...\n",
      "execution_count": 6,
      "outputs": []
    },
    {
      "metadata": {},
      "cell_type": "markdown",
      "source": "Click **here** for solution.\n<!--\ndaily_jhu['daily_cases'].plot(kind='line',label = 'JHU')\ndaily_ipc['new_positive'].plot(kind='line',label='IPC')\nplt.legend()\nplt.title('title')\nplt.ylabel('daily new infections');  -->"
    },
    {
      "metadata": {},
      "cell_type": "markdown",
      "source": "---"
    },
    {
      "metadata": {},
      "cell_type": "markdown",
      "source": "Does the data from the IPC contains the information about the daily deaths? If not, please add it to the DataFrame and plot the number of daily deaths from the IPC and JHU."
    },
    {
      "metadata": {
        "trusted": true
      },
      "cell_type": "code",
      "source": "# \ndaily_ipc['daily_deaths'] = daily_ipc['deceased'].diff()\ndaily_ipc.tail()",
      "execution_count": 7,
      "outputs": [
        {
          "output_type": "execute_result",
          "execution_count": 7,
          "data": {
            "text/plain": "2020-05-02    474.0\n2020-05-03    174.0\n2020-05-04    195.0\n2020-05-05    236.0\n2020-05-06    369.0\nName: daily_deaths, dtype: float64"
          },
          "metadata": {}
        }
      ]
    },
    {
      "metadata": {
        "trusted": true
      },
      "cell_type": "code",
      "source": "# plot...\n",
      "execution_count": 8,
      "outputs": []
    },
    {
      "metadata": {},
      "cell_type": "markdown",
      "source": "Click **here** for solution.\n<!--\ndaily_ipc['daily_deaths'].plot(label='IPC')\ndaily_jhu['daily_deaths'].plot(label='JHU')\nplt.legend()-->"
    },
    {
      "metadata": {},
      "cell_type": "markdown",
      "source": "The data are pretty much the same so let us only use daily_ipc in the following."
    },
    {
      "metadata": {},
      "cell_type": "markdown",
      "source": "## Analyse the data from the IPC"
    },
    {
      "metadata": {},
      "cell_type": "markdown",
      "source": "What other columns are contained in <code>daily_ipc</code>? Plot a selection of them which might be important to understand the epidemic in Italy."
    },
    {
      "metadata": {
        "trusted": true
      },
      "cell_type": "code",
      "source": "",
      "execution_count": null,
      "outputs": []
    },
    {
      "metadata": {
        "trusted": true
      },
      "cell_type": "code",
      "source": "",
      "execution_count": null,
      "outputs": []
    },
    {
      "metadata": {},
      "cell_type": "markdown",
      "source": "---"
    },
    {
      "metadata": {},
      "cell_type": "markdown",
      "source": "What relations between those quantities exist? Use scatter plots to search for relations between them. (as we did before with daily deaths and new infections) Do you find something interesting?"
    },
    {
      "metadata": {
        "scrolled": false,
        "trusted": true
      },
      "cell_type": "code",
      "source": "# here is an example\ndaily_ipc.plot(kind='scatter',x = 'intensive_care',y='daily_deaths' );",
      "execution_count": 9,
      "outputs": [
        {
          "output_type": "display_data",
          "data": {
            "image/png": "[encoded data removed]",
            "text/plain": "<matplotlib.figure.Figure at 0x7f0fa6f20dd8>"
          },
          "metadata": {}
        }
      ]
    },
    {
      "metadata": {
        "trusted": true
      },
      "cell_type": "code",
      "source": "# ...",
      "execution_count": 10,
      "outputs": []
    },
    {
      "metadata": {},
      "cell_type": "markdown",
      "source": "## Explain scatter plot from the last course"
    },
    {
      "metadata": {},
      "cell_type": "markdown",
      "source": "### Change of slope"
    },
    {
      "metadata": {
        "trusted": true
      },
      "cell_type": "code",
      "source": "ax = daily_ipc.plot(kind='scatter',x='new_positive',y='daily_deaths');",
      "execution_count": 11,
      "outputs": [
        {
          "output_type": "display_data",
          "data": {
            "image/png": "[encoded data removed]",
            "text/plain": "<matplotlib.figure.Figure at 0x7f0fa2979e10>"
          },
          "metadata": {}
        }
      ]
    },
    {
      "metadata": {},
      "cell_type": "markdown",
      "source": "<img src='images/plot.jpg' width=400>"
    },
    {
      "metadata": {},
      "cell_type": "markdown",
      "source": "We can see a change in the relation at around new_positive=1000: The slope changes and the spread increases. Any idea what is the reason for this? Or is this common for an epidemic? Try to plot just the first 30 days (<code>iloc[]</code>) and apply an average (<code>rolling(7).mean()</code>). Afterwards: What happens if you choose a log scale on y (<code>ax.set_yscale('log')</code>)? "
    },
    {
      "metadata": {
        "trusted": true
      },
      "cell_type": "code",
      "source": "# scatter plot...\n\n",
      "execution_count": 12,
      "outputs": []
    },
    {
      "metadata": {},
      "cell_type": "markdown",
      "source": "Click **here** for a code example.\n<!--\nax = daily_ipc.rolling(7).mean().iloc[:30].plot(kind='scatter',x='new_positive',y='daily_deaths');\nax.set_yscale('log')-->"
    },
    {
      "metadata": {},
      "cell_type": "markdown",
      "source": "### Explain reversal behavior"
    },
    {
      "metadata": {},
      "cell_type": "markdown",
      "source": "Looking at the following scatter plot:"
    },
    {
      "metadata": {
        "trusted": true
      },
      "cell_type": "code",
      "source": "from matplotlib import cm\n# try with 1 and with 7 can you see the pattern in time?\nwindow = 7\n\ntime = range(len(daily_ipc.index))\ncmap = cm.get_cmap('plasma')\n\nfig, ax = plt.subplots()\ndaily_ipc.rolling(window).mean().plot(kind='scatter',\n                        x='new_positive',y='daily_deaths',\n                        c = time, s = 50, cmap = cmap,\n                        ax = ax, figsize=(7, 5),\n                        title='Time-evolution of the epidemic in Italy');\nf = plt.gcf()\ncax = f.get_axes()[1]\ncax.set_ylabel('days from 24/02');",
      "execution_count": 16,
      "outputs": [
        {
          "output_type": "display_data",
          "data": {
            "image/png": "[encoded data removed]",
            "text/plain": "<matplotlib.figure.Figure at 0x7f0fa28afc18>"
          },
          "metadata": {}
        }
      ]
    },
    {
      "metadata": {},
      "cell_type": "markdown",
      "source": "Explain what is shown here and why it is surprising."
    },
    {
      "metadata": {},
      "cell_type": "markdown",
      "source": "...your text"
    },
    {
      "metadata": {},
      "cell_type": "markdown",
      "source": "Can you find any explanation of the behavior by looking at the complete data of the IPC?"
    },
    {
      "metadata": {},
      "cell_type": "markdown",
      "source": "some text"
    },
    {
      "metadata": {
        "trusted": true
      },
      "cell_type": "code",
      "source": "# some code",
      "execution_count": 14,
      "outputs": []
    },
    {
      "metadata": {
        "trusted": true
      },
      "cell_type": "code",
      "source": "",
      "execution_count": null,
      "outputs": []
    },
    {
      "metadata": {},
      "cell_type": "markdown",
      "source": "### Comparing reversal to other countries"
    },
    {
      "metadata": {},
      "cell_type": "markdown",
      "source": "How are other countries behaving? Does it look similar? Try to repeat the scatter plot above for other countries. \nThe data is still in <code>daily_cases</code> and <code>daily_deaths</code>. (You just need to choose the country and plot it). What about South Korea, Sweden, Belgium, Russia,..."
    },
    {
      "metadata": {
        "trusted": true
      },
      "cell_type": "code",
      "source": "",
      "execution_count": null,
      "outputs": []
    },
    {
      "metadata": {
        "trusted": true
      },
      "cell_type": "code",
      "source": "# daily_jhu is a DataFrame containing two columns, daily_cases and daily_deaths in country\ncountry = 'Russia'\n\ndaily_country = daily_cases.loc[[country]].transpose()\ndaily_country.rename(columns={country: 'daily_cases'}, inplace=True)\ndaily_country['daily_deaths'] = daily_deaths.loc[country]\n\n# let's also change the index to a proper DateTime\ndate_format = [pd.to_datetime(d)for d in daily_country.index]\ndaily_country.index = date_format\ndaily_country.tail()\n# ...",
      "execution_count": 15,
      "outputs": [
        {
          "output_type": "execute_result",
          "execution_count": 15,
          "data": {
            "text/plain": "            daily_cases  daily_deaths\n2020-05-02       9623.0          53.0\n2020-05-03      10633.0          58.0\n2020-05-04      10581.0          76.0\n2020-05-05      10102.0          95.0\n2020-05-06      10559.0          86.0",
            "text/html": "<div>\n<table border=\"1\" class=\"dataframe\">\n  <thead>\n    <tr style=\"text-align: right;\">\n      <th></th>\n      <th>daily_cases</th>\n      <th>daily_deaths</th>\n    </tr>\n  </thead>\n  <tbody>\n    <tr>\n      <th>2020-05-02</th>\n      <td>9623.0</td>\n      <td>53.0</td>\n    </tr>\n    <tr>\n      <th>2020-05-03</th>\n      <td>10633.0</td>\n      <td>58.0</td>\n    </tr>\n    <tr>\n      <th>2020-05-04</th>\n      <td>10581.0</td>\n      <td>76.0</td>\n    </tr>\n    <tr>\n      <th>2020-05-05</th>\n      <td>10102.0</td>\n      <td>95.0</td>\n    </tr>\n    <tr>\n      <th>2020-05-06</th>\n      <td>10559.0</td>\n      <td>86.0</td>\n    </tr>\n  </tbody>\n</table>\n</div>"
          },
          "metadata": {}
        }
      ]
    },
    {
      "metadata": {},
      "cell_type": "markdown",
      "source": "What about normalizing the data to inhabitants and plot the reversal behavior of many countries in a single scatter plot. Make some nice plots and write some conclusions."
    },
    {
      "metadata": {
        "trusted": true
      },
      "cell_type": "code",
      "source": "",
      "execution_count": null,
      "outputs": []
    },
    {
      "metadata": {},
      "cell_type": "markdown",
      "source": "### I am running out of ideas"
    },
    {
      "metadata": {},
      "cell_type": "markdown",
      "source": "What else could be interesting to look at and understand? Maybe predicting the future (see next section). Do you have other ideas?"
    },
    {
      "metadata": {},
      "cell_type": "markdown",
      "source": "## Predicting the future of the epidemic"
    },
    {
      "metadata": {},
      "cell_type": "markdown",
      "source": "If you are still interested in the topic, take a look at the following article to get an idea how to investigate further the COVID-19 outbreak in Italy (https://towardsdatascience.com/italian-covid-19-analysis-with-python-1bdb0e64d5ac). As this is an article from the beginning of April that tries to predict the future of the epidemic, try to see with the latest data if this predictions has been fulfilled or not."
    },
    {
      "metadata": {
        "trusted": true
      },
      "cell_type": "markdown",
      "source": "## German local data"
    },
    {
      "metadata": {},
      "cell_type": "markdown",
      "source": "Also if you are interested in the Outbreak in Germany locally, you might analyse this data:\nhttps://www.kaggle.com/headsortails/covid19-tracking-germany"
    },
    {
      "metadata": {
        "trusted": true
      },
      "cell_type": "code",
      "source": "",
      "execution_count": null,
      "outputs": []
    }
  ],
  "metadata": {
    "kernelspec": {
      "name": "python3",
      "display_name": "Python 3",
      "language": "python"
    },
    "language_info": {
      "mimetype": "text/x-python",
      "nbconvert_exporter": "python",
      "name": "python",
      "pygments_lexer": "ipython3",
      "version": "3.5.4",
      "file_extension": ".py",
      "codemirror_mode": {
        "version": 3,
        "name": "ipython"
      }
    },
    "toc": {
      "nav_menu": {},
      "number_sections": true,
      "sideBar": true,
      "skip_h1_title": false,
      "base_numbering": 1,
      "title_cell": "Table of Contents",
      "title_sidebar": "Contents",
      "toc_cell": true,
      "toc_position": {},
      "toc_section_display": true,
      "toc_window_display": false
    },
    "varInspector": {
      "cols": {
        "lenName": 16,
        "lenType": 16,
        "lenVar": 40
      },
      "kernels_config": {
        "python": {
          "delete_cmd_postfix": "",
          "delete_cmd_prefix": "del ",
          "library": "var_list.py",
          "varRefreshCmd": "print(var_dic_list())"
        },
        "r": {
          "delete_cmd_postfix": ") ",
          "delete_cmd_prefix": "rm(",
          "library": "var_list.r",
          "varRefreshCmd": "cat(var_dic_list()) "
        }
      },
      "types_to_exclude": [
        "module",
        "function",
        "builtin_function_or_method",
        "instance",
        "_Feature"
      ],
      "window_display": false
    }
  },
  "nbformat": 4,
  "nbformat_minor": 4
}