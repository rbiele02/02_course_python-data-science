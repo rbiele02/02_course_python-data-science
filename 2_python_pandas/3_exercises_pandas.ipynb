{
  "cells": [
    {
      "metadata": {},
      "cell_type": "markdown",
      "source": "# Exercises - Pandas\n<img src=\"images/pandas_covid.jpg\" width=\"500\">  "
    },
    {
      "metadata": {},
      "cell_type": "markdown",
      "source": "So this Notebook is for you to practice pandas commands and get familiar with them. Place this Notebook inside the folder of the last course (where also the folders <code>data/</code> and <code>images/</code> are located).  \nAs you might want to open the exercise Notebook and the 11_pandas.ipynb at the same time, I suggest you to try Jupyter **Lab**. The Lab is great when you work with several documents at the same time. You can just open them side-by-side. It also allows you to move many cells by click and drop. You can use it either in Azure or on your local computer. A short video might show you some of its possibilities."
    },
    {
      "metadata": {
        "trusted": true
      },
      "cell_type": "code",
      "source": "from IPython.display import YouTubeVideo\nYouTubeVideo('A5YyoCKxEOU')",
      "execution_count": 1,
      "outputs": [
        {
          "output_type": "execute_result",
          "execution_count": 1,
          "data": {
            "text/plain": "<IPython.lib.display.YouTubeVideo at 0x7fc2d326e5f8>",
            "text/html": "\n        <iframe\n            width=\"400\"\n            height=\"300\"\n            src=\"https://www.youtube.com/embed/A5YyoCKxEOU\"\n            frameborder=\"0\"\n            allowfullscreen\n        ></iframe>\n        ",
            "image/jpeg": "[encoded data removed]"
          },
          "metadata": {}
        }
      ]
    },
    {
      "metadata": {},
      "cell_type": "markdown",
      "source": "You can open Jupyter Lab either in Azure (right click on the File and select Lab), or in the Anaconda Navigator. "
    },
    {
      "metadata": {},
      "cell_type": "markdown",
      "source": "## COVID-19 DATA"
    },
    {
      "metadata": {},
      "cell_type": "markdown",
      "source": "- By running the first cell of the Jupyter Notebook '/data/create_clean_csv_files_covid.ipynb' the latest COVID-19 data will downloaded from the JHU and csv files created in the folder 'data/'. Alternatively you can execute the following code: \n\n>import shutil  \n%run ./data/create_clean_csv_files_covid.ipynb  \nshutil.copy2('cases.csv', 'data/')  \nshutil.copy2('deaths.csv', 'data/')\n\n- Import the freshly created cases.csv and deaths.csv containing the number of infections and deaths (the latest data is normally from yesterday). Extract from the data the name of the last column, save it as the variable <code>last_day</code> and print it.\n-  Use the head(n) function to print the first n=6 rows of the two DataFrames."
    },
    {
      "metadata": {
        "trusted": false
      },
      "cell_type": "code",
      "source": "import pandas as pd\nimport matplotlib.pyplot as plt\n\nfile = 'data/cases.csv'   # import cases\ncases = pd.read_csv(file,index_col=0)   # Read data from CSV file\ncases.index.name = None # no name for index\n\n# save the name of the last column to last_day and print it\n# ( lines containing '...' : uncomment them and complete the code)\n\n# last_day = ...\n# print (...\n",
      "execution_count": null,
      "outputs": []
    },
    {
      "metadata": {
        "trusted": false
      },
      "cell_type": "code",
      "source": "# print the first 6 rows of the cases DataFrame (head)\n\n# ...",
      "execution_count": null,
      "outputs": []
    },
    {
      "metadata": {
        "trusted": false
      },
      "cell_type": "code",
      "source": "# do the same with file = 'data/deaths.csv'\n\n# ...\n",
      "execution_count": null,
      "outputs": []
    },
    {
      "metadata": {},
      "cell_type": "markdown",
      "source": "Double click **here** for solution.\n<!--\nimport pandas as pd\nimport matplotlib.pyplot as plt\nfile = 'data/cases.csv'   # import cases\ncases = pd.read_csv(file,index_col=0)   # Read data from CSV file\ncases.index.name = None # no name for index\nfile = 'data/deaths.csv'   # import cases\ndeaths = pd.read_csv(file,index_col=0)   # Read data from CSV file\ndeaths.index.name = None # no name for index\nlast_day = cases.columns[-1]\nprint ('The data is from: ',last_day)-->"
    },
    {
      "metadata": {},
      "cell_type": "markdown",
      "source": "---"
    },
    {
      "metadata": {},
      "cell_type": "markdown",
      "source": "With the help of the **dataframe.diff()** function calculate and define the daily number of new infections and daily deaths. (<code>daily_cases</code> and <code>daily_deahts</code>)."
    },
    {
      "metadata": {
        "trusted": false
      },
      "cell_type": "code",
      "source": "# daily new infections with diff(axis= )\n\n# daily_cases = ...\n# daily_cases.head()",
      "execution_count": null,
      "outputs": []
    },
    {
      "metadata": {
        "trusted": false
      },
      "cell_type": "code",
      "source": "# daily deaths\n# ...\n",
      "execution_count": null,
      "outputs": []
    },
    {
      "metadata": {},
      "cell_type": "markdown",
      "source": "click **here** for solution\n<!--\ndaily_cases = cases.diff(axis=1)  \ndaily_deaths = deaths.diff(axis=1) -->\n"
    },
    {
      "metadata": {},
      "cell_type": "markdown",
      "source": "---"
    },
    {
      "metadata": {},
      "cell_type": "markdown",
      "source": "Use the <code>iloc[:,-4:]</code> function in combination with head(5). To show the number of daily infections for 5 countries for the last 4 days. "
    },
    {
      "metadata": {
        "trusted": false
      },
      "cell_type": "code",
      "source": "# print the daily new infections for the last 4 days\n",
      "execution_count": null,
      "outputs": []
    },
    {
      "metadata": {},
      "cell_type": "markdown",
      "source": "Click **here** for solution.\n<!--\ndaily_cases.iloc[:,-4:].head(5) -->"
    },
    {
      "metadata": {},
      "cell_type": "markdown",
      "source": "---"
    },
    {
      "metadata": {},
      "cell_type": "markdown",
      "source": "The countries are ordered like the <code>cases</code> DataFrame (US, Spain,...). Use the <code>sort_values</code> function to sort the DataFrame (highest number of daily infections of the last day up). Print the 7 countries with the highest number of daily infections for the last 4 days."
    },
    {
      "metadata": {
        "trusted": false
      },
      "cell_type": "code",
      "source": "# sort the dataFrame with .sort_values(column_name, axis= ....)\n\n# and apply afterwards the selection .iloc[] and head(7)\n# Try to do it piece by piece\n",
      "execution_count": 1,
      "outputs": []
    },
    {
      "metadata": {},
      "cell_type": "markdown",
      "source": "Click **here** for solution.\n<!-- \ndaily_cases.sort_values(last_day,ascending=False).head(7).iloc[:,-4:] -->"
    },
    {
      "metadata": {},
      "cell_type": "markdown",
      "source": "---"
    },
    {
      "metadata": {},
      "cell_type": "markdown",
      "source": "Now print the number of daily infections of the last 7 days for the countries Italy, Germany and Russia. (Hint: use the <code>.loc[ ['country1','country2',...]]</code> method to get access to the countries and apply afterwards a <code>.iloc[:,-days:]</code> method to choose the days)"
    },
    {
      "metadata": {
        "trusted": false
      },
      "cell_type": "code",
      "source": "# \n",
      "execution_count": null,
      "outputs": []
    },
    {
      "metadata": {},
      "cell_type": "markdown",
      "source": "Click **here** for solution.\n<!-- \ncountries = [ 'Italy', 'Germany', 'Russia']\ndaily_cases.loc[countries].iloc[:,-7:]-->"
    },
    {
      "metadata": {},
      "cell_type": "markdown",
      "source": "---"
    },
    {
      "metadata": {},
      "cell_type": "markdown",
      "source": "Calculate the mean number of daily infections for the last 7 days for those countries (Hint: use the <code>.mean(axis=....)</code> function)"
    },
    {
      "metadata": {
        "trusted": false
      },
      "cell_type": "code",
      "source": "",
      "execution_count": null,
      "outputs": []
    },
    {
      "metadata": {},
      "cell_type": "markdown",
      "source": "Double click for **Solution**\n<!--\ndaily_cases.loc[countries].iloc[:,-7:].mean(axis=1) -->"
    },
    {
      "metadata": {},
      "cell_type": "markdown",
      "source": "---"
    },
    {
      "metadata": {},
      "cell_type": "markdown",
      "source": "Try to plot the daily new cases for those countries as a line plot for all days (Hint, you need to <code>.transpose()</code> the DataFrame to bring it to the right format for the line plot)"
    },
    {
      "metadata": {
        "trusted": false
      },
      "cell_type": "code",
      "source": "# line plot\n",
      "execution_count": null,
      "outputs": []
    },
    {
      "metadata": {},
      "cell_type": "markdown",
      "source": "**Solution**\n<!--\ndaily_cases.loc[countries].transpose().plot(kind='line'); -->"
    },
    {
      "metadata": {},
      "cell_type": "markdown",
      "source": "As these are quite noisy: plot instead the averaged values for 7 days , add a title, increase the figure size and label the axes. (Hint:<code>rolling(window).mean().plot()</code>)"
    },
    {
      "metadata": {
        "trusted": false
      },
      "cell_type": "code",
      "source": "# plotting the average values\n",
      "execution_count": null,
      "outputs": []
    },
    {
      "metadata": {},
      "cell_type": "markdown",
      "source": "Click **here** for solution.\n<!--\ndaily_cases.loc[countries].transpose().rolling(7).mean().plot(kind='line',figsize=(7,5))\nplt.title('title',fontsize=14)\nplt.ylabel('...')\nplt.xlabel('...'); -->"
    },
    {
      "metadata": {},
      "cell_type": "markdown",
      "source": "You might also plot only the last days, as biggest part of the data is zero at the beginning."
    },
    {
      "metadata": {},
      "cell_type": "markdown",
      "source": "---"
    },
    {
      "metadata": {},
      "cell_type": "markdown",
      "source": "In order to compare one country with another it makes sense to normalize the data to the number of inhabitants in those countries.\nImport the csv file containing the populations of 2018 and normalize the 4 DataFrames to 'number per 100000 inhabitants':"
    },
    {
      "metadata": {
        "trusted": false
      },
      "cell_type": "code",
      "source": "# importing the DataFrame containing populations of all countries\n",
      "execution_count": null,
      "outputs": []
    },
    {
      "metadata": {},
      "cell_type": "markdown",
      "source": "Click **here** for solution.\n<!--\npopulation_2018 = pd.read_csv('data/population_2018.csv',index_col=0)\npopulation_2018.index.name = None\npopulation_2018,head() -->"
    },
    {
      "metadata": {
        "trusted": false
      },
      "cell_type": "code",
      "source": "# normalise the cases to cases per 100.000 inhabitants\n# normalise the cases to cases per 100k inhabitants\n\n# transform to a series\npopulation_2018 = population_2018['Value']\ncases_pI = cases.div(population_2018.loc[cases.index],axis=0) * 100000\ndeaths_pI = deaths.div(population_2018.loc[deaths.index],axis=0) * 100000\n\ndaily_cases_pI = cases_pI.diff(axis=1)\ndaily_deaths_pI = deaths_pI.diff(axis=1)\n\n# the code below works on the latest pandas version, the upper one at azure\n# cases_pI = cases / population_2018.loc[cases.index].values * 100000\n\n# deaths_pI = deaths / population_2018.loc[deaths.index].values * 100000\n\n# daily_cases_pI = cases_pI.diff(axis=1)\n# daily_deaths_pI = deaths_pI.diff(axis=1)",
      "execution_count": null,
      "outputs": []
    },
    {
      "metadata": {},
      "cell_type": "markdown",
      "source": "Now create a bar plot showing the number of deaths per 100 000 inhabitants for the 10 countries with the highest numbers. Give it a title and change the figure size accordingly."
    },
    {
      "metadata": {
        "trusted": false
      },
      "cell_type": "code",
      "source": "# bar plot\n",
      "execution_count": null,
      "outputs": []
    },
    {
      "metadata": {},
      "cell_type": "markdown",
      "source": "---"
    },
    {
      "metadata": {},
      "cell_type": "markdown",
      "source": "## Final Exercise \nAs you have access to all the 8 DataFrames (a huge amount of interesting data), create any stimulating plot you can think of (over time, or whatever comparison you want to see or understand, maybe a scatter plot,...).  \n**Here is the point where you should become creative.**   \nWith those plots and some text, try to tell a little story about it (use heading, bold,...). Also you might try to save the figure as a pdf, or jpg file. (Hint: search in google:'pandas save plot'). "
    },
    {
      "metadata": {},
      "cell_type": "markdown",
      "source": "some heading"
    },
    {
      "metadata": {},
      "cell_type": "markdown",
      "source": "some text"
    },
    {
      "metadata": {
        "trusted": false
      },
      "cell_type": "code",
      "source": "# some plots or calculations\n\n\n",
      "execution_count": null,
      "outputs": []
    },
    {
      "metadata": {},
      "cell_type": "markdown",
      "source": "and a little conclusion"
    },
    {
      "metadata": {},
      "cell_type": "markdown",
      "source": "## Final Remark\n**After completing this exercise send the Notebook to robert.biele1@tu-dresden.de. Any comments or ideas for the next courses are most welcome! Thanks.**"
    }
  ],
  "metadata": {
    "kernelspec": {
      "name": "python3",
      "display_name": "Python 3",
      "language": "python"
    },
    "language_info": {
      "mimetype": "text/x-python",
      "nbconvert_exporter": "python",
      "name": "python",
      "file_extension": ".py",
      "version": "3.5.4",
      "pygments_lexer": "ipython3",
      "codemirror_mode": {
        "version": 3,
        "name": "ipython"
      }
    },
    "toc": {
      "nav_menu": {},
      "number_sections": true,
      "sideBar": true,
      "skip_h1_title": false,
      "base_numbering": 1,
      "title_cell": "Table of Contents",
      "title_sidebar": "Contents",
      "toc_cell": false,
      "toc_position": {},
      "toc_section_display": true,
      "toc_window_display": false
    },
    "varInspector": {
      "cols": {
        "lenName": 16,
        "lenType": 16,
        "lenVar": 40
      },
      "kernels_config": {
        "python": {
          "delete_cmd_postfix": "",
          "delete_cmd_prefix": "del ",
          "library": "var_list.py",
          "varRefreshCmd": "print(var_dic_list())"
        },
        "r": {
          "delete_cmd_postfix": ") ",
          "delete_cmd_prefix": "rm(",
          "library": "var_list.r",
          "varRefreshCmd": "cat(var_dic_list()) "
        }
      },
      "types_to_exclude": [
        "module",
        "function",
        "builtin_function_or_method",
        "instance",
        "_Feature"
      ],
      "window_display": false
    }
  },
  "nbformat": 4,
  "nbformat_minor": 4
}