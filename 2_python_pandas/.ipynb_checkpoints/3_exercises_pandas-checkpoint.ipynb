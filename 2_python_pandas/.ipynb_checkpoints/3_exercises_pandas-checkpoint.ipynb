{
 "cells": [
  {
   "cell_type": "markdown",
   "metadata": {},
   "source": [
    "# Exercises - Pandas\n",
    "<img src=\"images/pandas_covid.jpg\" width=\"500\">  "
   ]
  },
  {
   "cell_type": "markdown",
   "metadata": {},
   "source": [
    "So this Notebook is for you to practice pandas commands and get familiar with them. Place this Notebook inside the folder of the last course (where also the folders <code>data/</code> and <code>images/</code> are located).  \n",
    "As you might want to open the exercise Notebook and the 11_pandas.ipynb at the same time, I suggest you to try Jupyter **Lab**. The Lab is great when you work with several documents at the same time. You can just open them side-by-side. It also allows you to move many cells by click and drop. You can use it either in Azure or on your local computer. A short video might show you some of its possibilities."
   ]
  },
  {
   "cell_type": "code",
   "execution_count": null,
   "metadata": {},
   "outputs": [],
   "source": [
    "from IPython.display import YouTubeVideo\n",
    "YouTubeVideo('A5YyoCKxEOU')"
   ]
  },
  {
   "cell_type": "markdown",
   "metadata": {},
   "source": [
    "You can open Jupyter Lab either in Azure (right click on the File and select Lab), or in the Anaconda Navigator. "
   ]
  },
  {
   "cell_type": "markdown",
   "metadata": {},
   "source": [
    "## COVID-19 DATA"
   ]
  },
  {
   "cell_type": "markdown",
   "metadata": {},
   "source": [
    "- By running the first cell of the Jupyter Notebook '/data/create_clean_csv_files_covid.ipynb' the latest COVID-19 data will downloaded from the JHU and csv files created in the folder 'data/'. Alternatively you can execute the following code: \n",
    "\n",
    ">import shutil  \n",
    "%run ./data/create_clean_csv_files_covid.ipynb  \n",
    "shutil.copy2('cases.csv', 'data/')  \n",
    "shutil.copy2('deaths.csv', 'data/')\n",
    "\n",
    "- Import the freshly created cases.csv and deaths.csv containing the number of infections and deaths (the latest data is normally from yesterday). Extract from the data the name of the last column, save it as the variable <code>last_day</code> and print it.\n",
    "-  Use the head(n) function to print the first n=6 rows of the two DataFrames."
   ]
  },
  {
   "cell_type": "code",
   "execution_count": null,
   "metadata": {},
   "outputs": [],
   "source": [
    "import pandas as pd\n",
    "import matplotlib.pyplot as plt\n",
    "\n",
    "file = 'data/cases.csv'   # import cases\n",
    "cases = pd.read_csv(file,index_col=0)   # Read data from CSV file\n",
    "cases.index.name = None # no name for index\n",
    "\n",
    "# save the name of the last column to last_day and print it\n",
    "# ( lines containing '...' : uncomment them and complete the code)\n",
    "\n",
    "# last_day = ...\n",
    "# print (...\n"
   ]
  },
  {
   "cell_type": "code",
   "execution_count": null,
   "metadata": {},
   "outputs": [],
   "source": [
    "# print the first 6 rows of the cases DataFrame (head)\n",
    "\n",
    "# ..."
   ]
  },
  {
   "cell_type": "code",
   "execution_count": null,
   "metadata": {},
   "outputs": [],
   "source": [
    "# do the same with file = 'data/deaths.csv'\n",
    "\n",
    "# ...\n"
   ]
  },
  {
   "cell_type": "markdown",
   "metadata": {},
   "source": [
    "Double click **here** for solution.\n",
    "<!--\n",
    "import pandas as pd\n",
    "import matplotlib.pyplot as plt\n",
    "file = 'data/cases.csv'   # import cases\n",
    "cases = pd.read_csv(file,index_col=0)   # Read data from CSV file\n",
    "cases.index.name = None # no name for index\n",
    "file = 'data/deaths.csv'   # import cases\n",
    "deaths = pd.read_csv(file,index_col=0)   # Read data from CSV file\n",
    "deaths.index.name = None # no name for index\n",
    "last_day = cases.columns[-1]\n",
    "print ('The data is from: ',last_day)-->"
   ]
  },
  {
   "cell_type": "markdown",
   "metadata": {},
   "source": [
    "---"
   ]
  },
  {
   "cell_type": "markdown",
   "metadata": {},
   "source": [
    "With the help of the **dataframe.diff()** function calculate and define the daily number of new infections and daily deaths. (<code>daily_cases</code> and <code>daily_deahts</code>)."
   ]
  },
  {
   "cell_type": "code",
   "execution_count": null,
   "metadata": {},
   "outputs": [],
   "source": [
    "# daily new infections with diff(axis= )\n",
    "\n",
    "# daily_cases = ...\n",
    "# daily_cases.head()"
   ]
  },
  {
   "cell_type": "code",
   "execution_count": null,
   "metadata": {},
   "outputs": [],
   "source": [
    "# daily deaths\n",
    "# ...\n"
   ]
  },
  {
   "cell_type": "markdown",
   "metadata": {},
   "source": [
    "click **here** for solution\n",
    "<!--\n",
    "daily_cases = cases.diff(axis=1)  \n",
    "daily_deaths = deaths.diff(axis=1) -->\n"
   ]
  },
  {
   "cell_type": "markdown",
   "metadata": {},
   "source": [
    "---"
   ]
  },
  {
   "cell_type": "markdown",
   "metadata": {},
   "source": [
    "Use the <code>iloc[:,-4:]</code> function in combination with head(5). To show the number of daily infections for 5 countries for the last 4 days. "
   ]
  },
  {
   "cell_type": "code",
   "execution_count": null,
   "metadata": {},
   "outputs": [],
   "source": [
    "# print the daily new infections for the last 4 days\n"
   ]
  },
  {
   "cell_type": "markdown",
   "metadata": {},
   "source": [
    "Click **here** for solution.\n",
    "<!--\n",
    "daily_cases.iloc[:,-4:].head(5) -->"
   ]
  },
  {
   "cell_type": "markdown",
   "metadata": {},
   "source": [
    "---"
   ]
  },
  {
   "cell_type": "markdown",
   "metadata": {},
   "source": [
    "The countries are ordered like the <code>cases</code> DataFrame (US, Spain,...). Use the <code>sort_values</code> function to sort the DataFrame (highest number of daily infections of the last day up). Print the 7 countries with the highest number of daily infections for the last 4 days."
   ]
  },
  {
   "cell_type": "code",
   "execution_count": null,
   "metadata": {},
   "outputs": [],
   "source": [
    "# sort the dataFrame with .sort_values(column_name, axis= ....)\n",
    "\n",
    "# and apply afterwards the selection .iloc[] and head(7)\n",
    "# Try to do it piece by piece\n"
   ]
  },
  {
   "cell_type": "markdown",
   "metadata": {},
   "source": [
    "Click **here** for solution.\n",
    "<!-- \n",
    "daily_cases.sort_values(last_day,ascending=False).head(7).iloc[:,-4:] -->"
   ]
  },
  {
   "cell_type": "markdown",
   "metadata": {},
   "source": [
    "---"
   ]
  },
  {
   "cell_type": "markdown",
   "metadata": {},
   "source": [
    "Now print the number of daily infections of the last 7 days for the countries Italy, Germany and Russia. (Hint: use the <code>.loc[ ['country1','country2',...]]</code> method to get access to the countries and apply afterwards a <code>.iloc[:,-days:]</code> method to choose the days)"
   ]
  },
  {
   "cell_type": "code",
   "execution_count": null,
   "metadata": {},
   "outputs": [],
   "source": [
    "# \n"
   ]
  },
  {
   "cell_type": "markdown",
   "metadata": {},
   "source": [
    "Click **here** for solution.\n",
    "<!-- \n",
    "countries = [ 'Italy', 'Germany', 'Russia']\n",
    "daily_cases.loc[countries].iloc[:,-7:]-->"
   ]
  },
  {
   "cell_type": "markdown",
   "metadata": {},
   "source": [
    "---"
   ]
  },
  {
   "cell_type": "markdown",
   "metadata": {},
   "source": [
    "Calculate the mean number of daily infections for the last 7 days for those countries (Hint: use the <code>.mean(axis=....)</code> function)"
   ]
  },
  {
   "cell_type": "code",
   "execution_count": null,
   "metadata": {},
   "outputs": [],
   "source": []
  },
  {
   "cell_type": "markdown",
   "metadata": {},
   "source": [
    "Double click for **Solution**\n",
    "<!--\n",
    "daily_cases.loc[countries].iloc[:,-7:].mean(axis=1) -->"
   ]
  },
  {
   "cell_type": "markdown",
   "metadata": {},
   "source": [
    "---"
   ]
  },
  {
   "cell_type": "markdown",
   "metadata": {},
   "source": [
    "Try to plot the daily new cases for those countries as a line plot for all days (Hint, you need to <code>.transpose()</code> the DataFrame to bring it to the right format for the line plot)"
   ]
  },
  {
   "cell_type": "code",
   "execution_count": null,
   "metadata": {},
   "outputs": [],
   "source": [
    "# line plot\n"
   ]
  },
  {
   "cell_type": "markdown",
   "metadata": {},
   "source": [
    "**Solution**\n",
    "<!--\n",
    "daily_cases.loc[countries].transpose().plot(kind='line'); -->"
   ]
  },
  {
   "cell_type": "markdown",
   "metadata": {},
   "source": [
    "As these are quite noisy: plot instead the averaged values for 7 days , add a title, increase the figure size and label the axes. (Hint:<code>rolling(window).mean().plot()</code>)"
   ]
  },
  {
   "cell_type": "code",
   "execution_count": null,
   "metadata": {},
   "outputs": [],
   "source": [
    "# plotting the average values\n"
   ]
  },
  {
   "cell_type": "markdown",
   "metadata": {},
   "source": [
    "Click **here** for solution.\n",
    "<!--\n",
    "daily_cases.loc[countries].transpose().rolling(7).mean().plot(kind='line',figsize=(7,5))\n",
    "plt.title('title',fontsize=14)\n",
    "plt.ylabel('...')\n",
    "plt.xlabel('...'); -->"
   ]
  },
  {
   "cell_type": "markdown",
   "metadata": {},
   "source": [
    "You might also plot only the last days, as biggest part of the data is zero at the beginning."
   ]
  },
  {
   "cell_type": "markdown",
   "metadata": {},
   "source": [
    "---"
   ]
  },
  {
   "cell_type": "markdown",
   "metadata": {},
   "source": [
    "In order to compare one country with another it makes sense to normalize the data to the number of inhabitants in those countries.\n",
    "Import the csv file containing the populations of 2018 and normalize the 4 DataFrames to 'number per 100000 inhabitants':"
   ]
  },
  {
   "cell_type": "code",
   "execution_count": null,
   "metadata": {},
   "outputs": [],
   "source": [
    "# importing the DataFrame containing populations of all countries\n"
   ]
  },
  {
   "cell_type": "markdown",
   "metadata": {},
   "source": [
    "Click **here** for solution.\n",
    "<!--\n",
    "population_2018 = pd.read_csv('data/population_2018.csv',index_col=0)\n",
    "population_2018.index.name = None\n",
    "population_2018,head() -->"
   ]
  },
  {
   "cell_type": "code",
   "execution_count": null,
   "metadata": {},
   "outputs": [],
   "source": [
    "# normalise the cases to cases per 100.000 inhabitants\n",
    "# normalise the cases to cases per 100k inhabitants\n",
    "\n",
    "# transform to a series\n",
    "population_2018 = population_2018['Value']\n",
    "cases_pI = cases.div(population_2018.loc[cases.index],axis=0) * 100000\n",
    "deaths_pI = deaths.div(population_2018.loc[deaths.index],axis=0) * 100000\n",
    "\n",
    "daily_cases_pI = cases_pI.diff(axis=1)\n",
    "daily_deaths_pI = deaths_pI.diff(axis=1)\n",
    "\n",
    "# the code below works on the latest pandas version, the upper one at azure\n",
    "# cases_pI = cases / population_2018.loc[cases.index].values * 100000\n",
    "\n",
    "# deaths_pI = deaths / population_2018.loc[deaths.index].values * 100000\n",
    "\n",
    "# daily_cases_pI = cases_pI.diff(axis=1)\n",
    "# daily_deaths_pI = deaths_pI.diff(axis=1)"
   ]
  },
  {
   "cell_type": "markdown",
   "metadata": {},
   "source": [
    "Now create a bar plot showing the number of deaths per 100 000 inhabitants for the 10 countries with the highest numbers. Give it a title and change the figure size accordingly."
   ]
  },
  {
   "cell_type": "code",
   "execution_count": null,
   "metadata": {},
   "outputs": [],
   "source": [
    "# bar plot\n"
   ]
  },
  {
   "cell_type": "markdown",
   "metadata": {},
   "source": [
    "---"
   ]
  },
  {
   "cell_type": "markdown",
   "metadata": {},
   "source": [
    "## Final Exercise \n",
    "As you have access to all the 8 DataFrames (a huge amount of interesting data), create any stimulating plot you can think of (over time, or whatever comparison you want to see or understand, maybe a scatter plot,...).  \n",
    "**Here is the point where you should become creative.**   \n",
    "With those plots and some text, try to tell a little story about it (use heading, bold,...). Also you might try to save the figure as a pdf, or jpg file. (Hint: search in google:'pandas save plot'). "
   ]
  },
  {
   "cell_type": "markdown",
   "metadata": {},
   "source": [
    "some heading"
   ]
  },
  {
   "cell_type": "markdown",
   "metadata": {},
   "source": [
    "some text"
   ]
  },
  {
   "cell_type": "code",
   "execution_count": null,
   "metadata": {},
   "outputs": [],
   "source": [
    "# some plots or calculations\n",
    "\n",
    "\n"
   ]
  },
  {
   "cell_type": "markdown",
   "metadata": {},
   "source": [
    "and a little conclusion"
   ]
  },
  {
   "cell_type": "markdown",
   "metadata": {},
   "source": [
    "## Final Remark\n",
    "**After completing this exercise send the Notebook to robert.biele1@tu-dresden.de. Any comments or ideas for the next courses are most welcome! Thanks.**"
   ]
  }
 ],
 "metadata": {
  "kernelspec": {
   "display_name": "Python 3",
   "language": "python",
   "name": "python3"
  },
  "language_info": {
   "codemirror_mode": {
    "name": "ipython",
    "version": 3
   },
   "file_extension": ".py",
   "mimetype": "text/x-python",
   "name": "python",
   "nbconvert_exporter": "python",
   "pygments_lexer": "ipython3",
   "version": "3.7.6"
  },
  "toc": {
   "base_numbering": 1,
   "nav_menu": {},
   "number_sections": true,
   "sideBar": true,
   "skip_h1_title": false,
   "title_cell": "Table of Contents",
   "title_sidebar": "Contents",
   "toc_cell": false,
   "toc_position": {},
   "toc_section_display": true,
   "toc_window_display": false
  },
  "varInspector": {
   "cols": {
    "lenName": 16,
    "lenType": 16,
    "lenVar": 40
   },
   "kernels_config": {
    "python": {
     "delete_cmd_postfix": "",
     "delete_cmd_prefix": "del ",
     "library": "var_list.py",
     "varRefreshCmd": "print(var_dic_list())"
    },
    "r": {
     "delete_cmd_postfix": ") ",
     "delete_cmd_prefix": "rm(",
     "library": "var_list.r",
     "varRefreshCmd": "cat(var_dic_list()) "
    }
   },
   "types_to_exclude": [
    "module",
    "function",
    "builtin_function_or_method",
    "instance",
    "_Feature"
   ],
   "window_display": false
  }
 },
 "nbformat": 4,
 "nbformat_minor": 4
}
