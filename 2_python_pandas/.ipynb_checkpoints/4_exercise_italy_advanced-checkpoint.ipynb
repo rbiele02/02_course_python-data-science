{
 "cells": [
  {
   "cell_type": "markdown",
   "metadata": {
    "toc": true
   },
   "source": [
    "<h1>Table of Contents<span class=\"tocSkip\"></span></h1>\n",
    "<div class=\"toc\"><ul class=\"toc-item\"><li><span><a href=\"#Import-data-from--Italian-Protezione-Civile-and-JHU-and-compare-them\" data-toc-modified-id=\"Import-data-from--Italian-Protezione-Civile-and-JHU-and-compare-them-1\"><span class=\"toc-item-num\">1&nbsp;&nbsp;</span>Import data from  Italian Protezione Civile and JHU and compare them</a></span></li><li><span><a href=\"#Analyse-the-data-from-the-IPC\" data-toc-modified-id=\"Analyse-the-data-from-the-IPC-2\"><span class=\"toc-item-num\">2&nbsp;&nbsp;</span>Analyse the data from the IPC</a></span></li><li><span><a href=\"#Explain-scatter-plot-from-the-last-course\" data-toc-modified-id=\"Explain-scatter-plot-from-the-last-course-3\"><span class=\"toc-item-num\">3&nbsp;&nbsp;</span>Explain scatter plot from the last course</a></span><ul class=\"toc-item\"><li><span><a href=\"#Change-of-slope\" data-toc-modified-id=\"Change-of-slope-3.1\"><span class=\"toc-item-num\">3.1&nbsp;&nbsp;</span>Change of slope</a></span></li><li><span><a href=\"#Explain-reversal-behavior\" data-toc-modified-id=\"Explain-reversal-behavior-3.2\"><span class=\"toc-item-num\">3.2&nbsp;&nbsp;</span>Explain reversal behavior</a></span></li><li><span><a href=\"#Comparing-reversal-to-other-countries\" data-toc-modified-id=\"Comparing-reversal-to-other-countries-3.3\"><span class=\"toc-item-num\">3.3&nbsp;&nbsp;</span>Comparing reversal to other countries</a></span></li><li><span><a href=\"#I-am-running-out-of-ideas\" data-toc-modified-id=\"I-am-running-out-of-ideas-3.4\"><span class=\"toc-item-num\">3.4&nbsp;&nbsp;</span>I am running out of ideas</a></span></li></ul></li><li><span><a href=\"#Predicting-the-future-of-the-epidemic\" data-toc-modified-id=\"Predicting-the-future-of-the-epidemic-4\"><span class=\"toc-item-num\">4&nbsp;&nbsp;</span>Predicting the future of the epidemic</a></span></li><li><span><a href=\"#German-local-data\" data-toc-modified-id=\"German-local-data-5\"><span class=\"toc-item-num\">5&nbsp;&nbsp;</span>German local data</a></span></li></ul></div>"
   ]
  },
  {
   "cell_type": "markdown",
   "metadata": {},
   "source": [
    "This notebook is about practicing pandas to better understand the COVID-19 outbreak in Italy and worldwide. I will provide 4 questions/problems that you might try to answer by analyzing the data. You don't have to answer all of them. Choose the oneS you are interested in. Anyway, I would appreciate if you could send me your Notebook afterwards (robert.biele1@tu-dresden.de). Looking forward reading them."
   ]
  },
  {
   "cell_type": "markdown",
   "metadata": {},
   "source": [
    "## Import data from  Italian Protezione Civile and JHU and compare them"
   ]
  },
  {
   "cell_type": "code",
   "execution_count": null,
   "metadata": {},
   "outputs": [],
   "source": [
    "# import the needed libraries\n",
    "import pandas as pd\n",
    "import matplotlib.pyplot as plt\n",
    "import matplotlib as mpl\n",
    "import shutil\n",
    "\n",
    "# set some plotting styles\n",
    "%matplotlib inline\n",
    "mpl.rcParams['font.size'] = 12\n",
    "mpl.rcParams['figure.dpi'] = 90."
   ]
  },
  {
   "cell_type": "markdown",
   "metadata": {},
   "source": [
    "Let us first import the data for Italy from the JHU and save it as <code>daily_jhu</code>."
   ]
  },
  {
   "cell_type": "code",
   "execution_count": null,
   "metadata": {},
   "outputs": [],
   "source": [
    "# this creates the latest csv files in data/\n",
    "%run ./data/create_clean_csv_files_covid.ipynb\n",
    "\n",
    "shutil.copy2('cases.csv', 'data/')\n",
    "shutil.copy2('deaths.csv', 'data/')"
   ]
  },
  {
   "cell_type": "code",
   "execution_count": null,
   "metadata": {},
   "outputs": [],
   "source": [
    "# import the data from the JHU\n",
    "file = 'data/cases.csv'\n",
    "cases = pd.read_csv(file,index_col=0)   # Read data from CSV file\n",
    "cases.index.name = None\n",
    "\n",
    "file = 'data/deaths.csv'   # import cases\n",
    "deaths = pd.read_csv(file,index_col=0)   # Read data from CSV file\n",
    "deaths.index.name = None # no name for index\n",
    "\n",
    "daily_cases = cases.diff(axis=1).fillna(0)\n",
    "daily_deaths = deaths.diff(axis=1).fillna(0)\n",
    "\n",
    "# daily_jhu is a DataFrame containing two columns, daily_cases and daily_deaths in country\n",
    "country = 'Italy'\n",
    "\n",
    "daily_jhu = daily_cases.loc[[country]].transpose()\n",
    "daily_jhu.rename(columns={country: 'daily_cases'}, inplace=True)\n",
    "daily_jhu['daily_deaths'] = daily_deaths.loc[country]\n",
    "\n",
    "# let's also change the index to a proper DateTime\n",
    "date_format = [pd.to_datetime(d)for d in daily_jhu.index]\n",
    "daily_jhu.index = date_format\n",
    "daily_jhu.tail()"
   ]
  },
  {
   "cell_type": "markdown",
   "metadata": {},
   "source": [
    "---"
   ]
  },
  {
   "cell_type": "markdown",
   "metadata": {},
   "source": [
    "The DataFrame <code>daily_jhu</code> contains the data for Italy from the JHU. Now let's import a csv file about COVID-19 released by the *Italian Protezione Civile* (IPC)."
   ]
  },
  {
   "cell_type": "code",
   "execution_count": null,
   "metadata": {},
   "outputs": [],
   "source": [
    "url = 'https://raw.githubusercontent.com/pcm-dpc/COVID-19/master/dati-andamento-nazionale/'\n",
    "daily_ipc = pd.read_csv(url + 'dpc-covid19-ita-andamento-nazionale.csv',index_col=0)\n",
    " \n",
    "# change index to real dateTime\n",
    "daily_ipc.index = [pd.to_datetime(d).replace(hour=0) for d in daily_ipc.index]\n",
    "\n",
    "daily_ipc.head()"
   ]
  },
  {
   "cell_type": "markdown",
   "metadata": {},
   "source": [
    "---"
   ]
  },
  {
   "cell_type": "markdown",
   "metadata": {},
   "source": [
    "The columns are in Italian. Let's try to translate this directly in Python. DeepL is only for paying subscribers, however the Google Translate API is free."
   ]
  },
  {
   "cell_type": "markdown",
   "metadata": {},
   "source": [
    "> Googletrans is a free and unlimited python library that implemented Google Translate API. This uses the Google Translate Ajax API to make calls to such methods as detect and translate."
   ]
  },
  {
   "cell_type": "code",
   "execution_count": null,
   "metadata": {
    "code_folding": []
   },
   "outputs": [],
   "source": [
    "# in case you have installed it uncommend the next line\n",
    "!pip install googletrans\n",
    "from googletrans import Translator\n",
    "\n",
    "col_list = []\n",
    "for col in daily_ipc.columns:\n",
    "    col_list.append( col.replace('_', ' ') ) # we replace '_' by a space for translation\n",
    "\n",
    "english_cols = Translator().translate(col_list, src='it', dest='en') # this translates col_list to english\n",
    "\n",
    "for i in range(len(english_cols)):\n",
    "    english_cols[i] = english_cols[i].text.replace(' ','_') # we replace now the spaces by '_'\n",
    "\n",
    "daily_ipc.columns = english_cols # and set the columns of the DataFrame to the english texts\n",
    "daily_ipc.head()"
   ]
  },
  {
   "cell_type": "markdown",
   "metadata": {},
   "source": [
    "---"
   ]
  },
  {
   "cell_type": "markdown",
   "metadata": {},
   "source": [
    "Great! The DataFrame <code>daily_ipc</code> contains much more information than <code>daily_jhu</code>. What is the name of the column that correspond to daily new infections? Plot it over time and compare it with <code>daily_jhu['daily_cases']</code>. Does they coincide? What is the difference?"
   ]
  },
  {
   "cell_type": "code",
   "execution_count": null,
   "metadata": {},
   "outputs": [],
   "source": [
    "# as the data from the JHU starts earlier than the other data, we will just adjust it\n",
    "daily_jhu = daily_jhu.loc[daily_ipc.index]\n",
    "#  plot ...\n"
   ]
  },
  {
   "cell_type": "markdown",
   "metadata": {},
   "source": [
    "Click **here** for solution.\n",
    "<!--\n",
    "daily_jhu['daily_cases'].plot(kind='line',label = 'JHU')\n",
    "daily_ipc['new_positive'].plot(kind='line',label='IPC')\n",
    "plt.legend()\n",
    "plt.title('title')\n",
    "plt.ylabel('daily new infections');  -->"
   ]
  },
  {
   "cell_type": "markdown",
   "metadata": {},
   "source": [
    "---"
   ]
  },
  {
   "cell_type": "markdown",
   "metadata": {},
   "source": [
    "Does the data from the IPC contains the information about the daily deaths? If not, please add it to the DataFrame and plot the number of daily deaths from the IPC and JHU."
   ]
  },
  {
   "cell_type": "code",
   "execution_count": null,
   "metadata": {},
   "outputs": [],
   "source": [
    "# \n",
    "daily_ipc['daily_deaths'] = daily_ipc['deceased'].diff()\n",
    "daily_ipc.tail()"
   ]
  },
  {
   "cell_type": "code",
   "execution_count": null,
   "metadata": {},
   "outputs": [],
   "source": [
    "# plot...\n"
   ]
  },
  {
   "cell_type": "markdown",
   "metadata": {},
   "source": [
    "Click **here** for solution.\n",
    "<!--\n",
    "daily_ipc['daily_deaths'].plot(label='IPC')\n",
    "daily_jhu['daily_deaths'].plot(label='JHU')\n",
    "plt.legend()-->"
   ]
  },
  {
   "cell_type": "markdown",
   "metadata": {},
   "source": [
    "The data are pretty much the same so let us only use daily_ipc in the following."
   ]
  },
  {
   "cell_type": "markdown",
   "metadata": {},
   "source": [
    "## Analyse the data from the IPC"
   ]
  },
  {
   "cell_type": "markdown",
   "metadata": {},
   "source": [
    "What other columns are contained in <code>daily_ipc</code>? Plot a selection of them which might be important to understand the epidemic in Italy."
   ]
  },
  {
   "cell_type": "code",
   "execution_count": null,
   "metadata": {},
   "outputs": [],
   "source": []
  },
  {
   "cell_type": "code",
   "execution_count": null,
   "metadata": {},
   "outputs": [],
   "source": []
  },
  {
   "cell_type": "markdown",
   "metadata": {},
   "source": [
    "---"
   ]
  },
  {
   "cell_type": "markdown",
   "metadata": {},
   "source": [
    "What relations between those quantities exist? Use scatter plots to search for relations between them. (as we did before with daily deaths and new infections) Do you find something interesting?"
   ]
  },
  {
   "cell_type": "code",
   "execution_count": null,
   "metadata": {},
   "outputs": [],
   "source": [
    "# here is an example\n",
    "daily_ipc.plot(kind='scatter',x = 'intensive_care',y='daily_deaths' );"
   ]
  },
  {
   "cell_type": "code",
   "execution_count": null,
   "metadata": {},
   "outputs": [],
   "source": [
    "# ..."
   ]
  },
  {
   "cell_type": "markdown",
   "metadata": {},
   "source": [
    "## Explain scatter plot from the last course"
   ]
  },
  {
   "cell_type": "markdown",
   "metadata": {},
   "source": [
    "### Change of slope"
   ]
  },
  {
   "cell_type": "code",
   "execution_count": null,
   "metadata": {},
   "outputs": [],
   "source": [
    "ax = daily_ipc.plot(kind='scatter',x='new_positive',y='daily_deaths');"
   ]
  },
  {
   "cell_type": "markdown",
   "metadata": {},
   "source": [
    "<img src='images/plot.jpg' width=400>"
   ]
  },
  {
   "cell_type": "markdown",
   "metadata": {},
   "source": [
    "We can see a change in the relation at around new_positive=1000: The slope changes and the spread increases. Any idea what is the reason for this? Or is this common for an epidemic? Try to plot just the first 30 days (<code>iloc[]</code>) and apply an average (<code>rolling(7).mean()</code>). Afterwards: What happens if you choose a log scale on y (<code>ax.set_yscale('log')</code>)? "
   ]
  },
  {
   "cell_type": "code",
   "execution_count": null,
   "metadata": {},
   "outputs": [],
   "source": [
    "# scatter plot...\n",
    "\n"
   ]
  },
  {
   "cell_type": "markdown",
   "metadata": {},
   "source": [
    "Click **here** for a code example.\n",
    "<!--\n",
    "ax = daily_ipc.rolling(7).mean().iloc[:30].plot(kind='scatter',x='new_positive',y='daily_deaths');\n",
    "ax.set_yscale('log')-->"
   ]
  },
  {
   "cell_type": "markdown",
   "metadata": {},
   "source": [
    "### Explain reversal behavior"
   ]
  },
  {
   "cell_type": "markdown",
   "metadata": {},
   "source": [
    "Looking at the following scatter plot:"
   ]
  },
  {
   "cell_type": "code",
   "execution_count": null,
   "metadata": {},
   "outputs": [],
   "source": [
    "from matplotlib import cm\n",
    "# try with 1 and with 7 can you see the pattern in time?\n",
    "window = 7\n",
    "\n",
    "time = range(len(daily_ipc.index))\n",
    "cmap = cm.get_cmap('plasma')\n",
    "\n",
    "fig, ax = plt.subplots()\n",
    "daily_ipc.rolling(window).mean().plot(kind='scatter',\n",
    "                        x='new_positive',y='daily_deaths',\n",
    "                        c = time, s = 50, cmap = cmap,\n",
    "                        ax = ax, figsize=(7, 5),\n",
    "                        title='Time-evolution of the epidemic in Italy');\n",
    "f = plt.gcf()\n",
    "cax = f.get_axes()[1]\n",
    "cax.set_ylabel('days from 24/02');"
   ]
  },
  {
   "cell_type": "markdown",
   "metadata": {},
   "source": [
    "Explain what is shown here and why it is surprising."
   ]
  },
  {
   "cell_type": "markdown",
   "metadata": {},
   "source": [
    "...your text"
   ]
  },
  {
   "cell_type": "markdown",
   "metadata": {},
   "source": [
    "Can you find any explanation of the behavior by looking at the complete data of the IPC?"
   ]
  },
  {
   "cell_type": "markdown",
   "metadata": {},
   "source": [
    "some text"
   ]
  },
  {
   "cell_type": "code",
   "execution_count": null,
   "metadata": {},
   "outputs": [],
   "source": [
    "# some code"
   ]
  },
  {
   "cell_type": "code",
   "execution_count": null,
   "metadata": {},
   "outputs": [],
   "source": []
  },
  {
   "cell_type": "markdown",
   "metadata": {},
   "source": [
    "### Comparing reversal to other countries"
   ]
  },
  {
   "cell_type": "markdown",
   "metadata": {},
   "source": [
    "How are other countries behaving? Does it look similar? Try to repeat the scatter plot above for other countries. \n",
    "The data is still in <code>daily_cases</code> and <code>daily_deaths</code>. (You just need to choose the country and plot it). What about South Korea, Sweden, Belgium, Russia,..."
   ]
  },
  {
   "cell_type": "code",
   "execution_count": null,
   "metadata": {},
   "outputs": [],
   "source": []
  },
  {
   "cell_type": "code",
   "execution_count": null,
   "metadata": {},
   "outputs": [],
   "source": [
    "# daily_jhu is a DataFrame containing two columns, daily_cases and daily_deaths in country\n",
    "country = 'Russia'\n",
    "\n",
    "daily_country = daily_cases.loc[[country]].transpose()\n",
    "daily_country.rename(columns={country: 'daily_cases'}, inplace=True)\n",
    "daily_country['daily_deaths'] = daily_deaths.loc[country]\n",
    "\n",
    "# let's also change the index to a proper DateTime\n",
    "date_format = [pd.to_datetime(d)for d in daily_country.index]\n",
    "daily_country.index = date_format\n",
    "daily_country.tail()\n",
    "# ..."
   ]
  },
  {
   "cell_type": "markdown",
   "metadata": {},
   "source": [
    "What about normalizing the data to inhabitants and plot the reversal behavior of many countries in a single scatter plot. Make some nice plots and write some conclusions."
   ]
  },
  {
   "cell_type": "code",
   "execution_count": null,
   "metadata": {},
   "outputs": [],
   "source": []
  },
  {
   "cell_type": "markdown",
   "metadata": {},
   "source": [
    "### I am running out of ideas"
   ]
  },
  {
   "cell_type": "markdown",
   "metadata": {},
   "source": [
    "What else could be interesting to look at and understand? Maybe predicting the future (see next section). Do you have other ideas?"
   ]
  },
  {
   "cell_type": "markdown",
   "metadata": {},
   "source": [
    "## Predicting the future of the epidemic"
   ]
  },
  {
   "cell_type": "markdown",
   "metadata": {},
   "source": [
    "If you are still interested in the topic, take a look at the following article to get an idea how to investigate further the COVID-19 outbreak in Italy (https://towardsdatascience.com/italian-covid-19-analysis-with-python-1bdb0e64d5ac). As this is an article from the beginning of April that tries to predict the future of the epidemic, try to see with the latest data if this predictions has been fulfilled or not."
   ]
  },
  {
   "cell_type": "markdown",
   "metadata": {},
   "source": [
    "## German local data"
   ]
  },
  {
   "cell_type": "markdown",
   "metadata": {},
   "source": [
    "Also if you are interested in the Outbreak in Germany locally, you might analyse this data:\n",
    "https://www.kaggle.com/headsortails/covid19-tracking-germany"
   ]
  },
  {
   "cell_type": "code",
   "execution_count": null,
   "metadata": {},
   "outputs": [],
   "source": []
  }
 ],
 "metadata": {
  "kernelspec": {
   "display_name": "Python 3",
   "language": "python",
   "name": "python3"
  },
  "language_info": {
   "codemirror_mode": {
    "name": "ipython",
    "version": 3
   },
   "file_extension": ".py",
   "mimetype": "text/x-python",
   "name": "python",
   "nbconvert_exporter": "python",
   "pygments_lexer": "ipython3",
   "version": "3.7.6"
  },
  "toc": {
   "base_numbering": 1,
   "nav_menu": {},
   "number_sections": true,
   "sideBar": true,
   "skip_h1_title": false,
   "title_cell": "Table of Contents",
   "title_sidebar": "Contents",
   "toc_cell": true,
   "toc_position": {},
   "toc_section_display": true,
   "toc_window_display": false
  },
  "varInspector": {
   "cols": {
    "lenName": 16,
    "lenType": 16,
    "lenVar": 40
   },
   "kernels_config": {
    "python": {
     "delete_cmd_postfix": "",
     "delete_cmd_prefix": "del ",
     "library": "var_list.py",
     "varRefreshCmd": "print(var_dic_list())"
    },
    "r": {
     "delete_cmd_postfix": ") ",
     "delete_cmd_prefix": "rm(",
     "library": "var_list.r",
     "varRefreshCmd": "cat(var_dic_list()) "
    }
   },
   "types_to_exclude": [
    "module",
    "function",
    "builtin_function_or_method",
    "instance",
    "_Feature"
   ],
   "window_display": false
  }
 },
 "nbformat": 4,
 "nbformat_minor": 4
}
