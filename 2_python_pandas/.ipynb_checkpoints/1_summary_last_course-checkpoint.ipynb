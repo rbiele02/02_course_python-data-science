{
 "cells": [
  {
   "cell_type": "markdown",
   "metadata": {},
   "source": [
    "<img src=\"images/logochair_hr.png\" width=\"300\">  "
   ]
  },
  {
   "cell_type": "markdown",
   "metadata": {},
   "source": [
    "# Summary from last class"
   ]
  },
  {
   "cell_type": "markdown",
   "metadata": {},
   "source": [
    "## Jupyter\n",
    "<img src=\"images/jupyter.png\" width=\"400\">  "
   ]
  },
  {
   "cell_type": "markdown",
   "metadata": {},
   "source": [
    "What we have learned:\n",
    "- what is a Jupyter Notebook\n",
    "- Insert Code- or Markdown Cells\n",
    "- Run Cells (order is important)\n",
    "- access to operating system with <code> ! </code> command\n",
    "- Shortcuts (<code> Shift+Enter</code>,...)\n",
    "\n",
    "We used the Cloud-Computing-Plattform <code>Microsoft Azure</code> to run our Notebooks. This is convenient as you do not need to install anything and you can share data and Notebooks easily. However, I also advice you to install Python + Jupyter locally on your own working station. There are various ways of doing so. I recommend using the anaconda distribution of Python (Jupyter Notebook and many other important libraries included). The downloads can be found here:\n",
    "- <a href='https://repo.anaconda.com/archive/Anaconda3-2020.02-Windows-x86_64.exe'> For Windows </a>\n",
    "- <a href='https://repo.anaconda.com/archive/Anaconda3-2020.02-MacOSX-x86_64.pkg'> For Mac </a>\n",
    "- <a href='https://repo.anaconda.com/archive/Anaconda3-2020.02-Linux-x86_64.sh'> For Linux </a>  \n",
    "\n",
    "After installing you can open the <code>Anaconda-Navigator</code>, click on <code>Home</code> and launch the Jupyter Notebook.!\n",
    "\n"
   ]
  },
  {
   "cell_type": "markdown",
   "metadata": {},
   "source": [
    "<img src=\"images/anaconda_navigator_2.png\" width=\"800\"> "
   ]
  },
  {
   "cell_type": "markdown",
   "metadata": {},
   "source": [
    "**Markdown cells** are for writing text or showing images, we talked about the following:\n",
    "- Headings (<code>#</code>,<code>##</code>,..)\n",
    "- Blockquotes (citations) (<code>></code>) \n",
    "- Mathematical Symbol (<code>$\\int_0^\\infty x^2$</code> = $\\int_0^\\infty x^2$)\n",
    "- Bold and italic text (<code> * * </code>,<code>*</code>)\n",
    "- <code>...</code>\n",
    "For further information and more possibilities <a href='https://www.google.com/search?q=markdown+commands+jupyter'> look here.</a>"
   ]
  },
  {
   "cell_type": "markdown",
   "metadata": {},
   "source": [
    "## Python"
   ]
  },
  {
   "cell_type": "markdown",
   "metadata": {},
   "source": [
    "**<code> print ('Hello')</code>**"
   ]
  },
  {
   "cell_type": "code",
   "execution_count": 1,
   "metadata": {},
   "outputs": [
    {
     "name": "stdout",
     "output_type": "stream",
     "text": [
      "My favorite number is 3\n"
     ]
    }
   ],
   "source": [
    "# this prints the string and a number\n",
    "print (\"My favorite number is\" , 3)"
   ]
  },
  {
   "cell_type": "markdown",
   "metadata": {},
   "source": [
    "**Standard types in Python**"
   ]
  },
  {
   "cell_type": "code",
   "execution_count": 2,
   "metadata": {},
   "outputs": [
    {
     "data": {
      "text/plain": [
       "float"
      ]
     },
     "execution_count": 2,
     "metadata": {},
     "output_type": "execute_result"
    }
   ],
   "source": [
    "# the build-in function type gives you the type of the object in its parenthesis\n",
    "type(12.0)\n",
    "\n",
    "# type('Hello')"
   ]
  },
  {
   "cell_type": "code",
   "execution_count": 3,
   "metadata": {},
   "outputs": [
    {
     "data": {
      "text/plain": [
       "False"
      ]
     },
     "execution_count": 3,
     "metadata": {},
     "output_type": "execute_result"
    }
   ],
   "source": [
    "# there exist also Boolean types False and True\n",
    "a = True\n",
    "b = False\n",
    "# this is a condition , is a equal to b? we will deal later with this\n",
    "a == b\n",
    "\n",
    "# \n",
    "# 5>4"
   ]
  },
  {
   "cell_type": "markdown",
   "metadata": {},
   "source": [
    "**Lists**"
   ]
  },
  {
   "cell_type": "code",
   "execution_count": 4,
   "metadata": {},
   "outputs": [
    {
     "data": {
      "text/plain": [
       "['Michael Jackson', 10.1, 1982, 'MJ', 1]"
      ]
     },
     "execution_count": 4,
     "metadata": {},
     "output_type": "execute_result"
    }
   ],
   "source": [
    "# L is a list that contains numbers and strings\n",
    "L = [\"Michael Jackson\", 10.1, 1982, \"MJ\", 1]\n",
    "L"
   ]
  },
  {
   "cell_type": "markdown",
   "metadata": {},
   "source": [
    "**Indexing and slicing**"
   ]
  },
  {
   "cell_type": "code",
   "execution_count": 5,
   "metadata": {},
   "outputs": [
    {
     "data": {
      "text/plain": [
       "'Michael Jackson'"
      ]
     },
     "execution_count": 5,
     "metadata": {},
     "output_type": "execute_result"
    }
   ],
   "source": [
    "# Lists or strings can be accessed by its index (0 is the first one!)\n",
    "L[0]"
   ]
  },
  {
   "cell_type": "code",
   "execution_count": 6,
   "metadata": {},
   "outputs": [
    {
     "name": "stdout",
     "output_type": "stream",
     "text": [
      "b\n",
      "t\n"
     ]
    }
   ],
   "source": [
    "name = \"Robert\"\n",
    "print (name[2])\n",
    "print (name[-1])"
   ]
  },
  {
   "cell_type": "code",
   "execution_count": 7,
   "metadata": {},
   "outputs": [
    {
     "data": {
      "text/plain": [
       "'Rob'"
      ]
     },
     "execution_count": 7,
     "metadata": {},
     "output_type": "execute_result"
    }
   ],
   "source": [
    "# here we slice from the second element to the fourth\n",
    "name[0:3]"
   ]
  },
  {
   "cell_type": "markdown",
   "metadata": {},
   "source": [
    "**Loops**"
   ]
  },
  {
   "cell_type": "code",
   "execution_count": 8,
   "metadata": {},
   "outputs": [
    {
     "name": "stdout",
     "output_type": "stream",
     "text": [
      "0\n",
      "1\n",
      "2\n"
     ]
    }
   ],
   "source": [
    "# this is a simple for loop over the range function\n",
    "for i in range(3):\n",
    "    print (i)"
   ]
  },
  {
   "cell_type": "code",
   "execution_count": 9,
   "metadata": {},
   "outputs": [
    {
     "name": "stdout",
     "output_type": "stream",
     "text": [
      "Robert\n",
      "is\n",
      "1523\n",
      "This is the end of the loop\n"
     ]
    }
   ],
   "source": [
    "# you can also loop over lists in Python, please note the intention\n",
    "L=['Robert','is',1523]\n",
    "for element in L:\n",
    "    print (element)\n",
    "print ('This is the end of the loop')"
   ]
  },
  {
   "cell_type": "markdown",
   "metadata": {},
   "source": [
    "To learn more about Python basics, take a look here https://wiki.python.org/moin/BeginnersGuide/Programmers."
   ]
  }
 ],
 "metadata": {
  "kernelspec": {
   "display_name": "Python 3",
   "language": "python",
   "name": "python3"
  },
  "language_info": {
   "codemirror_mode": {
    "name": "ipython",
    "version": 3
   },
   "file_extension": ".py",
   "mimetype": "text/x-python",
   "name": "python",
   "nbconvert_exporter": "python",
   "pygments_lexer": "ipython3",
   "version": "3.7.6"
  },
  "toc": {
   "base_numbering": 1,
   "nav_menu": {},
   "number_sections": true,
   "sideBar": true,
   "skip_h1_title": false,
   "title_cell": "Table of Contents",
   "title_sidebar": "Contents",
   "toc_cell": false,
   "toc_position": {},
   "toc_section_display": true,
   "toc_window_display": false
  },
  "varInspector": {
   "cols": {
    "lenName": 16,
    "lenType": 16,
    "lenVar": 40
   },
   "kernels_config": {
    "python": {
     "delete_cmd_postfix": "",
     "delete_cmd_prefix": "del ",
     "library": "var_list.py",
     "varRefreshCmd": "print(var_dic_list())"
    },
    "r": {
     "delete_cmd_postfix": ") ",
     "delete_cmd_prefix": "rm(",
     "library": "var_list.r",
     "varRefreshCmd": "cat(var_dic_list()) "
    }
   },
   "types_to_exclude": [
    "module",
    "function",
    "builtin_function_or_method",
    "instance",
    "_Feature"
   ],
   "window_display": false
  }
 },
 "nbformat": 4,
 "nbformat_minor": 4
}
