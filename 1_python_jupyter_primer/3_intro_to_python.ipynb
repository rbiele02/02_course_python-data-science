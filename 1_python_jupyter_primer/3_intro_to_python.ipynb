{
  "cells": [
    {
      "metadata": {
        "toc": true
      },
      "cell_type": "markdown",
      "source": "<h1>Table of Contents<span class=\"tocSkip\"></span></h1>\n<div class=\"toc\"><ul class=\"toc-item\"><li><span><a href=\"#Say-&quot;Hello&quot;-to-the-world-in-Python\" data-toc-modified-id=\"Say-&quot;Hello&quot;-to-the-world-in-Python-1\"><span class=\"toc-item-num\">1&nbsp;&nbsp;</span>Say \"Hello\" to the world in Python</a></span><ul class=\"toc-item\"><li><span><a href=\"#What-version-of-Python-are-we-using?\" data-toc-modified-id=\"What-version-of-Python-are-we-using?-1.1\"><span class=\"toc-item-num\">1.1&nbsp;&nbsp;</span>What version of Python are we using?</a></span></li><li><span><a href=\"#Writing-comments-in-Python\" data-toc-modified-id=\"Writing-comments-in-Python-1.2\"><span class=\"toc-item-num\">1.2&nbsp;&nbsp;</span>Writing comments in Python</a></span></li><li><span><a href=\"#Errors-in-Python\" data-toc-modified-id=\"Errors-in-Python-1.3\"><span class=\"toc-item-num\">1.3&nbsp;&nbsp;</span>Errors in Python</a></span></li><li><span><a href=\"#-Exercise:-Your-First-Program\" data-toc-modified-id=\"-Exercise:-Your-First-Program-1.4\"><span class=\"toc-item-num\">1.4&nbsp;&nbsp;</span><font color=\"blue\"> Exercise: Your First Program</font></a></span></li></ul></li><li><span><a href=\"#Basic-Types-of-objects-in-Python\" data-toc-modified-id=\"Basic-Types-of-objects-in-Python-2\"><span class=\"toc-item-num\">2&nbsp;&nbsp;</span>Basic Types of objects in Python</a></span><ul class=\"toc-item\"><li><span><a href=\"#Exercise:-Types\" data-toc-modified-id=\"Exercise:-Types-2.1\"><span class=\"toc-item-num\">2.1&nbsp;&nbsp;</span><font color=\"blue\">Exercise: Types</font></a></span></li></ul></li><li><span><a href=\"#Expression-and-Variables\" data-toc-modified-id=\"Expression-and-Variables-3\"><span class=\"toc-item-num\">3&nbsp;&nbsp;</span>Expression and Variables</a></span><ul class=\"toc-item\"><li><span><a href=\"#Exercise:-Expression-and-Variables-in-Python\" data-toc-modified-id=\"Exercise:-Expression-and-Variables-in-Python-3.1\"><span class=\"toc-item-num\">3.1&nbsp;&nbsp;</span><font color=\"blue\">Exercise: Expression and Variables in Python</font></a></span></li></ul></li><li><span><a href=\"#Strings\" data-toc-modified-id=\"Strings-4\"><span class=\"toc-item-num\">4&nbsp;&nbsp;</span>Strings</a></span><ul class=\"toc-item\"><li><span><a href=\"#Concatenate-and-replicate-Strings\" data-toc-modified-id=\"Concatenate-and-replicate-Strings-4.1\"><span class=\"toc-item-num\">4.1&nbsp;&nbsp;</span>Concatenate and replicate Strings</a></span></li><li><span><a href=\"#Indexing\" data-toc-modified-id=\"Indexing-4.2\"><span class=\"toc-item-num\">4.2&nbsp;&nbsp;</span>Indexing</a></span></li><li><span><a href=\"#Slicing\" data-toc-modified-id=\"Slicing-4.3\"><span class=\"toc-item-num\">4.3&nbsp;&nbsp;</span>Slicing</a></span></li><li><span><a href=\"#Escape-Sequences\" data-toc-modified-id=\"Escape-Sequences-4.4\"><span class=\"toc-item-num\">4.4&nbsp;&nbsp;</span>Escape Sequences</a></span></li><li><span><a href=\"#String-Operations\" data-toc-modified-id=\"String-Operations-4.5\"><span class=\"toc-item-num\">4.5&nbsp;&nbsp;</span>String Operations</a></span></li><li><span><a href=\"#Quiz-on-Strings\" data-toc-modified-id=\"Quiz-on-Strings-4.6\"><span class=\"toc-item-num\">4.6&nbsp;&nbsp;</span><font color=\"blue\">Quiz on Strings</font></a></span></li></ul></li><li><span><a href=\"#Advanced-Python-Objects\" data-toc-modified-id=\"Advanced-Python-Objects-5\"><span class=\"toc-item-num\">5&nbsp;&nbsp;</span>Advanced Python Objects</a></span><ul class=\"toc-item\"><li><span><a href=\"#Lists\" data-toc-modified-id=\"Lists-5.1\"><span class=\"toc-item-num\">5.1&nbsp;&nbsp;</span>Lists</a></span></li></ul></li><li><span><a href=\"#For-and-while-Loops\" data-toc-modified-id=\"For-and-while-Loops-6\"><span class=\"toc-item-num\">6&nbsp;&nbsp;</span>For and while Loops</a></span><ul class=\"toc-item\"><li><span><a href=\"#Quiz-on-Loops\" data-toc-modified-id=\"Quiz-on-Loops-6.1\"><span class=\"toc-item-num\">6.1&nbsp;&nbsp;</span><font color=\"blue\">Quiz on Loops</font></a></span></li></ul></li><li><span><a href=\"#Conditions\" data-toc-modified-id=\"Conditions-7\"><span class=\"toc-item-num\">7&nbsp;&nbsp;</span>Conditions</a></span></li></ul></div>"
    },
    {
      "metadata": {},
      "cell_type": "markdown",
      "source": "# Python - In General!"
    },
    {
      "metadata": {},
      "cell_type": "markdown",
      "source": "<strong>Welcome!</strong> This notebook will teach you the basics of the Python programming language. Although the information presented here is quite basic, it is an important foundation that will help you read and write Python code.  \n  \n  \nAs Python can do almost everything, such as\n- solving Schrödingers equation\n- data visualization handling\n- solving everyday problems\n- mobile apps\n- checking when your next Bahn to the office comes (API)\n- ...  \nI will just give you an understanding of how Python works.\n\n**<font color=blue>If you already know some Python, then this is the moment to get out and enjoy the sun!**"
    },
    {
      "metadata": {},
      "cell_type": "markdown",
      "source": "## Say \"Hello\" to the world in Python"
    },
    {
      "metadata": {},
      "cell_type": "markdown",
      "source": "When learning a new programming language, it is customary to start with an \"hello world\" example. As simple as it is, this one line of code will ensure that we know how to print a string in output and how to execute code within cells in a notebook."
    },
    {
      "metadata": {},
      "cell_type": "markdown",
      "source": "<hr/>\n<div class=\"alert alert-success alertsuccess\" style=\"margin-top: 20px\">\n[Tip]: To execute the Python code in the code cell below, click on the cell to select it and press <kbd>Shift</kbd> + <kbd>Enter</kbd>.\n</div>\n<hr/>"
    },
    {
      "metadata": {
        "trusted": true
      },
      "cell_type": "code",
      "source": "# Try your first Python output\n\nprint('Hello, Python!')",
      "execution_count": null,
      "outputs": []
    },
    {
      "metadata": {},
      "cell_type": "markdown",
      "source": "After executing the cell above, you should see that Python prints <code>Hello, Python!</code>. Congratulations on running your first Python code!"
    },
    {
      "metadata": {},
      "cell_type": "markdown",
      "source": "<hr/>\n<div class=\"alert alert-success alertsuccess\" style=\"margin-top: 20px\">\n    [Tip:] <code>print()</code> is a function. You passed the string <code>'Hello, Python!'</code> as an argument to instruct Python on what to print.\n</div>\n<hr/>"
    },
    {
      "metadata": {},
      "cell_type": "markdown",
      "source": "### What version of Python are we using?"
    },
    {
      "metadata": {
        "trusted": true
      },
      "cell_type": "code",
      "source": "# Check the Python Version\n\nimport sys\nprint(sys.version)",
      "execution_count": null,
      "outputs": []
    },
    {
      "metadata": {},
      "cell_type": "markdown",
      "source": "<hr/>\n<div class=\"alert alert-success alertsuccess\" style=\"margin-top: 20px\">\n    [Tip:] <code>sys</code> is a built-in module that contains many system-specific parameters and functions, including the Python version in use. Before using it, we must explictly <code>import</code> it.\n</div>\n<hr/>"
    },
    {
      "metadata": {},
      "cell_type": "markdown",
      "source": "### Writing comments in Python"
    },
    {
      "metadata": {},
      "cell_type": "markdown",
      "source": "Comments will help others (and you after a couple of month) understand what you were trying to accomplish (the reason why you wrote a given snippet of code).  \n\nTo write comments in Python, use the number symbol <code>#</code> before writing your comment. When you run your code, Python will ignore everything past the <code>#</code> on a given line."
    },
    {
      "metadata": {
        "trusted": true
      },
      "cell_type": "code",
      "source": "# Practice on writing comments\n\nprint('1.2') # This line prints a string\n# print('Hi')",
      "execution_count": null,
      "outputs": []
    },
    {
      "metadata": {},
      "cell_type": "markdown",
      "source": "After executing the cell above, you should notice that <code>This line prints a string</code> did not appear in the output, because it was a comment (and thus ignored by Python)."
    },
    {
      "metadata": {},
      "cell_type": "markdown",
      "source": "### Errors in Python"
    },
    {
      "metadata": {},
      "cell_type": "markdown",
      "source": "<p>Everyone makes mistakes. For many types of mistakes, Python will tell you that you have made a mistake by giving you an error message. It is important to read error messages carefully to really understand where you made a mistake and how you may go about correcting it.</p>\n<p>For example, if you spell <code>print</code> as <code>frint</code>, Python will display an error message. Give it a try:</p>"
    },
    {
      "metadata": {
        "trusted": true
      },
      "cell_type": "code",
      "source": "# Print string as error message\n\nfrint(\"Hello, Python!\")\n\n# Try to see build in error message\n\n# print(\"Hello, Python!)",
      "execution_count": null,
      "outputs": []
    },
    {
      "metadata": {},
      "cell_type": "markdown",
      "source": "<p>The error message tells you: \n<ol>\n    <li>where the error occurred (more useful in large notebook cells or scripts), and</li> \n    <li>what kind of error it was (NameError)</li> \n</ol>\n<p>Here, Python attempted to run the function <code>frint</code>, but could not determine what <code>frint</code> is since it's not a built-in function and it has not been previously defined by us either.</p>"
    },
    {
      "metadata": {
        "trusted": true
      },
      "cell_type": "code",
      "source": "# Print string and error to see the running order\n\nprint(\"This will be printed\")\nfrint(\"This will cause an error\")\nprint(\"This will NOT be printed\")",
      "execution_count": null,
      "outputs": []
    },
    {
      "metadata": {},
      "cell_type": "markdown",
      "source": " ### <font color=blue > Exercise: Your First Program "
    },
    {
      "metadata": {},
      "cell_type": "markdown",
      "source": "<p>Generations of programmers have started their coding careers by simply printing \"Hello, world!\". You will be following in their footsteps.</p>\n<p>In the code cell below, use the <code>print()</code> function to print out the phrase: <code>Hello, world!</code></p>"
    },
    {
      "metadata": {
        "trusted": true
      },
      "cell_type": "code",
      "source": "# Write your code below and press Shift+Enter to execute\n",
      "execution_count": null,
      "outputs": []
    },
    {
      "metadata": {},
      "cell_type": "markdown",
      "source": "Double-click __here__ for the solution.\n\n<!-- Your answer is below:\n\nprint(\"Hello, world!\")\n\n-->"
    },
    {
      "metadata": {},
      "cell_type": "markdown",
      "source": "<p>Now, let's enhance your code with a comment. In the code cell below, print out the phrase: <code>Hello, world!</code> and comment it with the phrase <code>Print the traditional hello world</code> all in one line of code.</p>"
    },
    {
      "metadata": {
        "trusted": true
      },
      "cell_type": "code",
      "source": "# Write your code below and press Shift+Enter to execute ",
      "execution_count": null,
      "outputs": []
    },
    {
      "metadata": {},
      "cell_type": "markdown",
      "source": "Double-click __here__ for the solution.\n\n<!-- Your answer is below:\n\nprint(\"Hello, world!\") # Print the traditional hello world\n\n-->\n"
    },
    {
      "metadata": {},
      "cell_type": "markdown",
      "source": "<hr>"
    },
    {
      "metadata": {},
      "cell_type": "markdown",
      "source": "## Basic Types of objects in Python"
    },
    {
      "metadata": {},
      "cell_type": "markdown",
      "source": "<p>Python is an object-oriented language. There are many different types of objects in Python. Let's start with the most common object types: <i>strings</i>, <i>integers</i> and <i>floats</i>."
    },
    {
      "metadata": {},
      "cell_type": "markdown",
      "source": "<a align=\"center\">\n    <img src=\"https://s3-api.us-geo.objectstorage.softlayer.net/cf-courses-data/CognitiveClass/PY0101EN/Chapter%201/Images/TypesObjects.png\" width=\"600\">\n</a>"
    },
    {
      "metadata": {},
      "cell_type": "markdown",
      "source": "<p>You can get Python to tell you the type of an expression by using the built-in <code>type()</code> function. You'll notice that Python refers to integers as <code>int</code>, floats as <code>float</code>, and character strings as <code>str</code>.</p>"
    },
    {
      "metadata": {
        "trusted": true
      },
      "cell_type": "code",
      "source": "# Try the following out : Type of 12, 2.14, 1.0, 'Hello, Python 101!'\n\ntype(10.)\n# ...",
      "execution_count": null,
      "outputs": []
    },
    {
      "metadata": {},
      "cell_type": "markdown",
      "source": "**Boolean data type**"
    },
    {
      "metadata": {},
      "cell_type": "markdown",
      "source": "<i>Boolean</i> is another important type in Python. An object of type <i>Boolean</i> can take on one of two values: <code>True</code> or <code>False</code>:</p>"
    },
    {
      "metadata": {
        "trusted": true
      },
      "cell_type": "code",
      "source": "# Value true\n\nTrue",
      "execution_count": null,
      "outputs": []
    },
    {
      "metadata": {
        "trusted": true
      },
      "cell_type": "code",
      "source": "# Type of True\n\ntype(False)",
      "execution_count": null,
      "outputs": []
    },
    {
      "metadata": {},
      "cell_type": "markdown",
      "source": "Notice that the value <code>True</code> has an uppercase \"T\". The same is true for <code>False</code> (i.e. you must use the uppercase \"F\")."
    },
    {
      "metadata": {},
      "cell_type": "markdown",
      "source": "<font color=blue><h3 id=\"exer_type\">Exercise: Types</h3>"
    },
    {
      "metadata": {},
      "cell_type": "markdown",
      "source": "<p>What is the data type of the result of: <code>6 / 2</code>?</p>"
    },
    {
      "metadata": {
        "trusted": true
      },
      "cell_type": "code",
      "source": "# Write your code below. Don't forget to press Shift+Enter to execute the cell",
      "execution_count": null,
      "outputs": []
    },
    {
      "metadata": {},
      "cell_type": "markdown",
      "source": "Double-click __here__ for the solution.\n\n<!-- Your answer is below:\ntype(6/2) # float\n-->"
    },
    {
      "metadata": {},
      "cell_type": "markdown",
      "source": "<p>What is the type of the result of: <code>6 // 2</code>? (Note the double slash <code>//</code>.)</p>"
    },
    {
      "metadata": {
        "trusted": true
      },
      "cell_type": "code",
      "source": "# Write your code below. Don't forget to press Shift+Enter to execute the cell",
      "execution_count": null,
      "outputs": []
    },
    {
      "metadata": {},
      "cell_type": "markdown",
      "source": "Double-click __here__ for the solution.\n\n<!-- Your answer is below:\ntype(6//2) # int, as the double slashes stand for integer division \n-->"
    },
    {
      "metadata": {},
      "cell_type": "markdown",
      "source": "<hr>"
    },
    {
      "metadata": {},
      "cell_type": "markdown",
      "source": "## Expression and Variables"
    },
    {
      "metadata": {},
      "cell_type": "markdown",
      "source": "<p>And just like mathematics, expressions enclosed in parentheses have priority. So the following multiplies 32 by 60."
    },
    {
      "metadata": {
        "trusted": true
      },
      "cell_type": "code",
      "source": "# Mathematical expression\n\n(30 + 2) * 60",
      "execution_count": null,
      "outputs": []
    },
    {
      "metadata": {},
      "cell_type": "markdown",
      "source": "<p>We can also perform division with the forward slash:"
    },
    {
      "metadata": {
        "trusted": true
      },
      "cell_type": "code",
      "source": "# Division operation expression\n\n25 / 6\n# 25 / 5",
      "execution_count": null,
      "outputs": []
    },
    {
      "metadata": {},
      "cell_type": "markdown",
      "source": "<p>Just like with most programming languages, we can store values in <i>variables</i>, so we can use them later on. For example:</p>"
    },
    {
      "metadata": {
        "trusted": true
      },
      "cell_type": "code",
      "source": "# Store value into variable\n\nx = 43 + 60 + 16 + 41\nx",
      "execution_count": null,
      "outputs": []
    },
    {
      "metadata": {},
      "cell_type": "markdown",
      "source": "<p>We can also perform operations on <code>x</code> and save the result to a new variable:</p>"
    },
    {
      "metadata": {
        "trusted": true
      },
      "cell_type": "code",
      "source": "# Use another variable to store the result of the operation between variable and value\n\ntotal_hours = x / 60\ntotal_hours",
      "execution_count": null,
      "outputs": []
    },
    {
      "metadata": {
        "trusted": true
      },
      "cell_type": "code",
      "source": "# the order in a cell is important, and also the order in which you execute cells\nx = 5\nprint (y)\ny = 5 + x",
      "execution_count": null,
      "outputs": []
    },
    {
      "metadata": {},
      "cell_type": "markdown",
      "source": "### <font color=blue>Exercise: Expression and Variables in Python"
    },
    {
      "metadata": {},
      "cell_type": "markdown",
      "source": "Double-click __here__ for the solution.\n\n<!-- Your answer is below:\n10\n-->"
    },
    {
      "metadata": {},
      "cell_type": "markdown",
      "source": "What is the value of <code>z</code> where <code>z = x + y</code>, <code>x = 3 + 2 * 2</code>, <code>y = (3 + 2) * 2</code>?"
    },
    {
      "metadata": {
        "trusted": true
      },
      "cell_type": "code",
      "source": "# Write your code below. Don't forget to press Shift+Enter to execute the cell\nx =  ",
      "execution_count": null,
      "outputs": []
    },
    {
      "metadata": {
        "trusted": true
      },
      "cell_type": "code",
      "source": "# Write your code below. Don't forget to press Shift+Enter to execute the cell\ny = ",
      "execution_count": null,
      "outputs": []
    },
    {
      "metadata": {
        "trusted": true
      },
      "cell_type": "code",
      "source": "# Write your code below. Don't forget to press Shift+Enter to execute the cell",
      "execution_count": null,
      "outputs": []
    },
    {
      "metadata": {},
      "cell_type": "markdown",
      "source": "Double-click __here__ for the solution.\n\n<!-- Your answer is below:\n17\n-->"
    },
    {
      "metadata": {},
      "cell_type": "markdown",
      "source": "## Strings"
    },
    {
      "metadata": {
        "trusted": true
      },
      "cell_type": "code",
      "source": "# Assign string to variable\n\nName = \"Michael Jackson\"\nName",
      "execution_count": null,
      "outputs": []
    },
    {
      "metadata": {},
      "cell_type": "markdown",
      "source": "### Concatenate and replicate Strings"
    },
    {
      "metadata": {
        "trusted": true
      },
      "cell_type": "code",
      "source": "# adding strings\nnew_string = 'Mein Name ist ' + Name \nprint (new_string)\n\n# multiplying strings\n10*Name",
      "execution_count": null,
      "outputs": []
    },
    {
      "metadata": {},
      "cell_type": "markdown",
      "source": "### Indexing"
    },
    {
      "metadata": {
        "trusted": true
      },
      "cell_type": "code",
      "source": "Name='Michael Jackson'",
      "execution_count": null,
      "outputs": []
    },
    {
      "metadata": {},
      "cell_type": "markdown",
      "source": "It is helpful to think of a string as an ordered sequence. Each element in the sequence can be accessed using an index represented by the array of numbers:  \n<img src=\"https://s3-api.us-geo.objectstorage.softlayer.net/cf-courses-data/CognitiveClass/PY0101EN/Chapter%201/Images/StringsIndex.png\" width=\"600\" align=\"center\" />"
    },
    {
      "metadata": {},
      "cell_type": "markdown",
      "source": "<hr/>\n<div class=\"alert alert-success alertsuccess\" style=\"margin-top: 20px\">\n[Tip]: Because indexing starts at 0, it means the first index is on the index 0.\n</div>\n<hr/>"
    },
    {
      "metadata": {
        "trusted": true
      },
      "cell_type": "code",
      "source": "# Print the first element in the string\n\nprint(Name[0])",
      "execution_count": null,
      "outputs": []
    },
    {
      "metadata": {
        "trusted": true
      },
      "cell_type": "code",
      "source": "# Negative Indexing\n\n",
      "execution_count": null,
      "outputs": []
    },
    {
      "metadata": {},
      "cell_type": "markdown",
      "source": "We can find the number of characters in a string by using <code>len</code>, short for length:"
    },
    {
      "metadata": {
        "trusted": true
      },
      "cell_type": "code",
      "source": "# Find the length of string\n\nlen(\"Michael Jackson\")",
      "execution_count": null,
      "outputs": []
    },
    {
      "metadata": {},
      "cell_type": "markdown",
      "source": "### Slicing"
    },
    {
      "metadata": {},
      "cell_type": "markdown",
      "source": "<img src=\"https://s3-api.us-geo.objectstorage.softlayer.net/cf-courses-data/CognitiveClass/PY0101EN/Chapter%201/Images/StringsSlice.png\" width=\"600\" align=\"center\" />"
    },
    {
      "metadata": {
        "trusted": true
      },
      "cell_type": "code",
      "source": "# Take the slice on variable Name with only index 0 to index 3\n\nName[0:4]",
      "execution_count": null,
      "outputs": []
    },
    {
      "metadata": {
        "trusted": true
      },
      "cell_type": "code",
      "source": "# Get every second element. The elments on index 1, 3, 5 ...\n\nName[::2]",
      "execution_count": null,
      "outputs": []
    },
    {
      "metadata": {},
      "cell_type": "markdown",
      "source": "### Escape Sequences"
    },
    {
      "metadata": {
        "trusted": true
      },
      "cell_type": "code",
      "source": "# New line escape sequence\n\nprint(\" Michael Jackson \\n is the best\" )\n\n# Tab escape sequence\n\nprint(\" Michael Jackson \\t is the best\" )",
      "execution_count": null,
      "outputs": []
    },
    {
      "metadata": {},
      "cell_type": "markdown",
      "source": "### String Operations"
    },
    {
      "metadata": {
        "trusted": true
      },
      "cell_type": "code",
      "source": "# Convert all the characters in string to upper case\n\nA = \"Thriller is the sixth studio album\"\nprint(\"before upper:\", A)\nB = A.upper()\nprint(\"After upper:\", B)",
      "execution_count": null,
      "outputs": []
    },
    {
      "metadata": {
        "trusted": true
      },
      "cell_type": "code",
      "source": "# Replace the old substring with the new target substring is the segment has been found in the string\nname = \nname.replace()",
      "execution_count": null,
      "outputs": []
    },
    {
      "metadata": {},
      "cell_type": "markdown",
      "source": "### <font color=blue>Quiz on Strings"
    },
    {
      "metadata": {},
      "cell_type": "markdown",
      "source": "What is the value of the variable <code>C</code> after the following code is executed?"
    },
    {
      "metadata": {
        "trusted": true
      },
      "cell_type": "code",
      "source": "# Write your code below and press Shift+Enter to execute \nA = \"1\"\nB = \"2\"\nC = A + B",
      "execution_count": null,
      "outputs": []
    },
    {
      "metadata": {},
      "cell_type": "markdown",
      "source": "Double-click <b>here</b> for the solution.\n\n<!-- Your answer is below:\n\"12\"\n-->"
    },
    {
      "metadata": {},
      "cell_type": "markdown",
      "source": "<hr>"
    },
    {
      "metadata": {},
      "cell_type": "markdown",
      "source": "Consider the variable <code>D</code> use slicing to print out the first three elements:"
    },
    {
      "metadata": {
        "trusted": true
      },
      "cell_type": "code",
      "source": "# Write your code below and press Shift+Enter to execute\n\nD = \"ABCDEFG\"",
      "execution_count": null,
      "outputs": []
    },
    {
      "metadata": {},
      "cell_type": "markdown",
      "source": "Double-click <b>here</b> for the solution.\n\n<!-- Your answer is below:\nprint(D[:3]) \n# or \nprint(D[0:3])\n-->"
    },
    {
      "metadata": {},
      "cell_type": "markdown",
      "source": "<hr>"
    },
    {
      "metadata": {},
      "cell_type": "markdown",
      "source": "Use a stride value of 2 to print out every second character of the string <code>E</code>: "
    },
    {
      "metadata": {
        "trusted": true
      },
      "cell_type": "code",
      "source": "# Write your code below and press Shift+Enter to execute\n\nE = 'clocrkr1e1c1t'",
      "execution_count": null,
      "outputs": []
    },
    {
      "metadata": {},
      "cell_type": "markdown",
      "source": "Double-click <b>here</b> for the solution.\n\n<!-- Your answer is below:\nprint(E[::2])\n-->"
    },
    {
      "metadata": {},
      "cell_type": "markdown",
      "source": "<hr>"
    },
    {
      "metadata": {},
      "cell_type": "markdown",
      "source": "Convert the variable <code>F</code> to uppercase:"
    },
    {
      "metadata": {
        "trusted": true
      },
      "cell_type": "code",
      "source": "# Write your code below and press Shift+Enter to execute\n\nF = \"You are wrong\"",
      "execution_count": null,
      "outputs": []
    },
    {
      "metadata": {},
      "cell_type": "markdown",
      "source": "Double-click <b>here</b> for the solution.\n\n<!-- Your answer is below:\nF.upper()\n-->"
    },
    {
      "metadata": {},
      "cell_type": "markdown",
      "source": "<hr>"
    },
    {
      "metadata": {},
      "cell_type": "markdown",
      "source": "Consider the variable <code>G</code>, and find the first index of the sub-string <code>snow</code>:"
    },
    {
      "metadata": {
        "trusted": true
      },
      "cell_type": "code",
      "source": "# Write your code below and press Shift+Enter to execute\n\nG = \"Mary had a little lamb Little lamb, little lamb Mary had a little lamb \\\nIts fleece was white as snow And everywhere that Mary went Mary went, Mary went \\\nEverywhere that Mary went The lamb was sure to go\"",
      "execution_count": null,
      "outputs": []
    },
    {
      "metadata": {},
      "cell_type": "markdown",
      "source": "Double-click __here__ for the solution.\n\n<!-- Your answer is below:\nG.find(\"snow\")\n-->"
    },
    {
      "metadata": {},
      "cell_type": "markdown",
      "source": "In the variable <code>G</code>, replace the sub-string <code>Mary</code> with <code>Bob</code>:"
    },
    {
      "metadata": {
        "trusted": true
      },
      "cell_type": "code",
      "source": "# Write your code below and press Shift+Enter to execute",
      "execution_count": null,
      "outputs": []
    },
    {
      "metadata": {},
      "cell_type": "markdown",
      "source": "Double-click __here__ for the solution.\n\n<!-- Your answer is below:\nG.replace(\"Mary\", \"Bob\")\n-->"
    },
    {
      "metadata": {},
      "cell_type": "markdown",
      "source": "## Advanced Python Objects"
    },
    {
      "metadata": {},
      "cell_type": "markdown",
      "source": "### Lists"
    },
    {
      "metadata": {},
      "cell_type": "markdown",
      "source": "A list is a sequenced collection of different objects such as integers, strings, and other lists as well. The address of each element within a list is called an index. An index is used to access and refer to items within a list."
    },
    {
      "metadata": {},
      "cell_type": "markdown",
      "source": " To create a list, type the list within square brackets <b>[ ]</b>, with your content inside the parenthesis and separated by commas. Let’s try it!"
    },
    {
      "metadata": {
        "trusted": true
      },
      "cell_type": "code",
      "source": "# Sample List\n\nL = [\"Michael Jackson\", 10.1,1982,\"MJ\",1]\nL",
      "execution_count": null,
      "outputs": []
    },
    {
      "metadata": {},
      "cell_type": "markdown",
      "source": "<img src=\"https://s3-api.us-geo.objectstorage.softlayer.net/cf-courses-data/CognitiveClass/PY0101EN/Chapter%202/Images/ListsSlice.png\" width=\"1000\">\nWe can use negative and regular indexing with a list :"
    },
    {
      "metadata": {
        "trusted": true
      },
      "cell_type": "code",
      "source": "L[0]",
      "execution_count": null,
      "outputs": []
    },
    {
      "metadata": {
        "trusted": true
      },
      "cell_type": "code",
      "source": "# List slicing\n\nL[3:5]",
      "execution_count": null,
      "outputs": []
    },
    {
      "metadata": {},
      "cell_type": "markdown",
      "source": "As lists are mutable, we can change them. For example, we can change the first element as follows:"
    },
    {
      "metadata": {
        "trusted": true
      },
      "cell_type": "code",
      "source": "# Change the element based on the index\n\nA = [\"disco\", 10, 1.2]\nprint('Before change:', A)\nA[0] = 'hard rock'\nprint('After change:', A)",
      "execution_count": null,
      "outputs": []
    },
    {
      "metadata": {
        "trusted": true
      },
      "cell_type": "code",
      "source": "# Delete the element based on the index\n\nprint('Before change:', A)\ndel(A[0])\nprint('After change:', A)",
      "execution_count": null,
      "outputs": []
    },
    {
      "metadata": {},
      "cell_type": "markdown",
      "source": "## For and while Loops"
    },
    {
      "metadata": {
        "trusted": true
      },
      "cell_type": "code",
      "source": "# the is a for Loop: \nfor name in ['Alex','Michael',1]:\n    print (name)\nprint('The loop has finished!')",
      "execution_count": null,
      "outputs": []
    },
    {
      "metadata": {
        "trusted": true
      },
      "cell_type": "code",
      "source": "# the is a for Loop: \nfor name in ['Alex','Michael',1]:\n    print (name)\n    print('This is now inside the loop')",
      "execution_count": null,
      "outputs": []
    },
    {
      "metadata": {
        "trusted": true
      },
      "cell_type": "code",
      "source": "# the range function is really useful for looping\n\nfor i in range(5):\n    print (i)",
      "execution_count": null,
      "outputs": []
    },
    {
      "metadata": {
        "trusted": true
      },
      "cell_type": "code",
      "source": "# what does the following does?\nfor i in range(5):\n    for j in range(2):\n        print (i+1,j)",
      "execution_count": null,
      "outputs": []
    },
    {
      "metadata": {
        "trusted": true
      },
      "cell_type": "code",
      "source": "# Loop through the list and iterate on both index and element value\n\nsquares=['red', 'yellow', 'green', 'purple', 'blue']\n\nfor i, square in enumerate(squares):\n    print(i, square)",
      "execution_count": null,
      "outputs": []
    },
    {
      "metadata": {},
      "cell_type": "markdown",
      "source": "### <font color=blue>Quiz on Loops "
    },
    {
      "metadata": {},
      "cell_type": "markdown",
      "source": "Write a <code>for</code> loop the prints out all the element between <b>-5</b> and <b>5</b> using the range function."
    },
    {
      "metadata": {
        "trusted": true
      },
      "cell_type": "code",
      "source": "# Write your code below and press Shift+Enter to execute",
      "execution_count": null,
      "outputs": []
    },
    {
      "metadata": {},
      "cell_type": "markdown",
      "source": "Double-click __here__ for the solution.\n<!-- \nfor i in range(-5, 6):\n    print(i)\n-->"
    },
    {
      "metadata": {},
      "cell_type": "markdown",
      "source": "Print the elements of the following list:\n<code>Genres=[ 'rock', 'R&B', 'Soundtrack', 'R&B', 'soul', 'pop']</code>\nMake sure you follow Python conventions."
    },
    {
      "metadata": {
        "trusted": true
      },
      "cell_type": "code",
      "source": "# Write your code below and press Shift+Enter to execute",
      "execution_count": null,
      "outputs": []
    },
    {
      "metadata": {},
      "cell_type": "markdown",
      "source": "Double-click __here__ for the solution.\n<!-- \nGenres = ['rock', 'R&B', 'Soundtrack', 'R&B', 'soul', 'pop']\nfor Genre in Genres:\n    print(Genre)\n-->"
    },
    {
      "metadata": {},
      "cell_type": "markdown",
      "source": "<hr>"
    },
    {
      "metadata": {},
      "cell_type": "markdown",
      "source": "Write a for loop that prints out the following list: <code>squares=['red', 'yellow', 'green', 'purple', 'blue']</code>"
    },
    {
      "metadata": {
        "trusted": true
      },
      "cell_type": "code",
      "source": "# Write your code below and press Shift+Enter to execute",
      "execution_count": null,
      "outputs": []
    },
    {
      "metadata": {},
      "cell_type": "markdown",
      "source": "Double-click __here__ for the solution.\n<!-- \nsquares=['red', 'yellow', 'green', 'purple', 'blue']\nfor square in squares:\n    print(square)\n -->"
    },
    {
      "metadata": {},
      "cell_type": "markdown",
      "source": "<hr>"
    },
    {
      "metadata": {},
      "cell_type": "markdown",
      "source": "Write a while loop to display the values of the Rating of an album playlist stored in the list <code>PlayListRatings</code>. If the score is less than 6, exit the loop. The list <code>PlayListRatings</code> is given by: <code>PlayListRatings = [10, 9.5, 10, 8, 7.5, 5, 10, 10]</code>"
    },
    {
      "metadata": {
        "trusted": true
      },
      "cell_type": "code",
      "source": "# Write your code below and press Shift+Enter to execute",
      "execution_count": null,
      "outputs": []
    },
    {
      "metadata": {},
      "cell_type": "markdown",
      "source": "Double-click __here__ for the solution.\n<!-- \nPlayListRatings = [10, 9.5, 10, 8, 7.5, 5, 10, 10]\ni = 1\nRating = PlayListRatings[0]\nwhile(Rating >= 6):\n    print(Rating)\n    Rating = PlayListRatings[i]\n    i = i + 1\n -->"
    },
    {
      "metadata": {},
      "cell_type": "markdown",
      "source": "<hr>"
    },
    {
      "metadata": {},
      "cell_type": "markdown",
      "source": "Write a while loop to copy the strings <code>'orange'</code> of the list <code>squares</code> to the list <code>new_squares</code>. Stop and exit the loop if the value on the list is not <code>'orange'</code>:"
    },
    {
      "metadata": {
        "trusted": true
      },
      "cell_type": "code",
      "source": "# Write your code below and press Shift+Enter to execute\n\nsquares = ['orange', 'orange', 'purple', 'blue ', 'orange']\nnew_squares = []",
      "execution_count": null,
      "outputs": []
    },
    {
      "metadata": {},
      "cell_type": "markdown",
      "source": "Double-click __here__ for the solution.\n<!-- \nsquares = ['orange', 'orange', 'purple', 'blue ', 'orange']\nnew_squares = []\ni = 0\nwhile(squares[i] == 'orange'):\n    new_squares.append(squares[i])\n    i = i + 1\nprint (new_squares)\n -->"
    },
    {
      "metadata": {},
      "cell_type": "markdown",
      "source": "## Conditions"
    },
    {
      "metadata": {},
      "cell_type": "markdown",
      "source": "Comparison operations compare some value or operand and, based on a condition, they produce a Boolean. When comparing two values you can use these operators:\n\n<ul>\n    <li>equal: <b>==</b></li>\n    <li>not equal: <b>!=</b></li>\n    <li>greater than: <b>></b></li>\n    <li>less than: <b>&lt;</b></li>\n    <li>greater than or equal to: <b>>=</b></li>\n    <li>less than or equal to: <b>&lt;=</b></li>\n</ul>"
    },
    {
      "metadata": {
        "trusted": true
      },
      "cell_type": "code",
      "source": "# Greater than Sign\n\ni = 6\ni > 5",
      "execution_count": null,
      "outputs": []
    },
    {
      "metadata": {
        "trusted": true
      },
      "cell_type": "code",
      "source": "# Inequality Sign\n\ni = 2\ni != 6",
      "execution_count": null,
      "outputs": []
    }
  ],
  "metadata": {
    "kernelspec": {
      "name": "python3",
      "display_name": "Python 3",
      "language": "python"
    },
    "language_info": {
      "mimetype": "text/x-python",
      "nbconvert_exporter": "python",
      "name": "python",
      "pygments_lexer": "ipython3",
      "version": "3.5.4",
      "file_extension": ".py",
      "codemirror_mode": {
        "version": 3,
        "name": "ipython"
      }
    },
    "toc": {
      "nav_menu": {},
      "number_sections": true,
      "sideBar": true,
      "skip_h1_title": true,
      "base_numbering": 1,
      "title_cell": "Table of Contents",
      "title_sidebar": "Contents",
      "toc_cell": true,
      "toc_position": {},
      "toc_section_display": true,
      "toc_window_display": false
    },
    "varInspector": {
      "cols": {
        "lenName": 16,
        "lenType": 16,
        "lenVar": 40
      },
      "kernels_config": {
        "python": {
          "delete_cmd_postfix": "",
          "delete_cmd_prefix": "del ",
          "library": "var_list.py",
          "varRefreshCmd": "print(var_dic_list())"
        },
        "r": {
          "delete_cmd_postfix": ") ",
          "delete_cmd_prefix": "rm(",
          "library": "var_list.r",
          "varRefreshCmd": "cat(var_dic_list()) "
        }
      },
      "types_to_exclude": [
        "module",
        "function",
        "builtin_function_or_method",
        "instance",
        "_Feature"
      ],
      "window_display": false
    }
  },
  "nbformat": 4,
  "nbformat_minor": 4
}