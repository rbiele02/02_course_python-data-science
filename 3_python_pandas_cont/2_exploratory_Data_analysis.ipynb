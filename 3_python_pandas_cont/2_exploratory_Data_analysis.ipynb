{
 "cells": [
  {
   "cell_type": "markdown",
   "metadata": {
    "toc": true
   },
   "source": [
    "<h1>Table of Contents<span class=\"tocSkip\"></span></h1>\n",
    "<div class=\"toc\"><ul class=\"toc-item\"><li><span><a href=\"#EDA(Exploratory-Data-Analysis)\" data-toc-modified-id=\"EDA(Exploratory-Data-Analysis)-1\"><span class=\"toc-item-num\">1&nbsp;&nbsp;</span>EDA(Exploratory Data Analysis)</a></span><ul class=\"toc-item\"><li><span><a href=\"#Numerical-variables-(int64-and-float64)\" data-toc-modified-id=\"Numerical-variables-(int64-and-float64)-1.1\"><span class=\"toc-item-num\">1.1&nbsp;&nbsp;</span>Numerical variables (int64 and float64)</a></span></li><li><span><a href=\"#Which-features-are-important-to-determine-the-price?\" data-toc-modified-id=\"Which-features-are-important-to-determine-the-price?-1.2\"><span class=\"toc-item-num\">1.2&nbsp;&nbsp;</span>Which features are important to determine the price?</a></span></li></ul></li><li><span><a href=\"#What-to-do-with-categorical-data?\" data-toc-modified-id=\"What-to-do-with-categorical-data?-2\"><span class=\"toc-item-num\">2&nbsp;&nbsp;</span>What to do with categorical data?</a></span><ul class=\"toc-item\"><li><span><a href=\"#Relationship-between-categorical-variable-and-numerical\" data-toc-modified-id=\"Relationship-between-categorical-variable-and-numerical-2.1\"><span class=\"toc-item-num\">2.1&nbsp;&nbsp;</span>Relationship between categorical variable and numerical</a></span></li><li><span><a href=\"#Value-Counts\" data-toc-modified-id=\"Value-Counts-2.2\"><span class=\"toc-item-num\">2.2&nbsp;&nbsp;</span>Value Counts</a></span></li><li><span><a href=\"#Basics-of-Grouping\" data-toc-modified-id=\"Basics-of-Grouping-2.3\"><span class=\"toc-item-num\">2.3&nbsp;&nbsp;</span>Basics of Grouping</a></span></li></ul></li><li><span><a href=\"#Correlation\" data-toc-modified-id=\"Correlation-3\"><span class=\"toc-item-num\">3&nbsp;&nbsp;</span>Correlation</a></span><ul class=\"toc-item\"><li><span><a href=\"#Pearson-Correlation\" data-toc-modified-id=\"Pearson-Correlation-3.1\"><span class=\"toc-item-num\">3.1&nbsp;&nbsp;</span>Pearson Correlation</a></span></li></ul></li><li><span><a href=\"#ANOVA\" data-toc-modified-id=\"ANOVA-4\"><span class=\"toc-item-num\">4&nbsp;&nbsp;</span>ANOVA</a></span><ul class=\"toc-item\"><li><span><a href=\"#ANOVA:-Analysis-of-Variance\" data-toc-modified-id=\"ANOVA:-Analysis-of-Variance-4.1\"><span class=\"toc-item-num\">4.1&nbsp;&nbsp;</span>ANOVA: Analysis of Variance</a></span></li><li><span><a href=\"#Drive-Wheels\" data-toc-modified-id=\"Drive-Wheels-4.2\"><span class=\"toc-item-num\">4.2&nbsp;&nbsp;</span>Drive Wheels</a></span></li></ul></li><li><span><a href=\"#Conclusion:-Important-Variables\" data-toc-modified-id=\"Conclusion:-Important-Variables-5\"><span class=\"toc-item-num\">5&nbsp;&nbsp;</span>Conclusion: Important Variables</a></span></li><li><span><a href=\"#Data-from-JARVIS-DFT-material-science-database-for-transport\" data-toc-modified-id=\"Data-from-JARVIS-DFT-material-science-database-for-transport-6\"><span class=\"toc-item-num\">6&nbsp;&nbsp;</span>Data from JARVIS-DFT material science database for transport</a></span></li><li><span><a href=\"#A-little-bit-more-about-getting-data.\" data-toc-modified-id=\"A-little-bit-more-about-getting-data.-7\"><span class=\"toc-item-num\">7&nbsp;&nbsp;</span>A little bit more about getting data.</a></span></li></ul></div>"
   ]
  },
  {
   "cell_type": "markdown",
   "metadata": {},
   "source": [
    "## EDA(Exploratory Data Analysis)"
   ]
  },
  {
   "cell_type": "markdown",
   "metadata": {},
   "source": [
    "Exploratory Data Analysis, or in short “EDA”, is an approach to analyze data in order to:\n",
    "- summarize main characteristics of the data\n",
    "- gain better understanding of the data-set,\n",
    "- uncover relationships between different variables, and\n",
    "- extract important variables for the problem we are trying to solve  \n",
    "\n",
    "The question here is to find “What are the characteristics that have the most impact on the car price?”\n",
    "We just go through a couple of different useful exploratory data analysis techniques in order to answer this question."
   ]
  },
  {
   "cell_type": "code",
   "execution_count": 1,
   "metadata": {},
   "outputs": [],
   "source": [
    "import pandas as pd\n",
    "import numpy as np\n",
    "import matplotlib as mpl\n",
    "import matplotlib.pylab as plt\n",
    "\n",
    "%matplotlib inline\n",
    "mpl.rcParams['font.size'] = 12\n",
    "mpl.rcParams['figure.dpi'] = 90."
   ]
  },
  {
   "cell_type": "code",
   "execution_count": 2,
   "metadata": {},
   "outputs": [],
   "source": [
    "# ! pip install seaborn\n",
    "import seaborn as sns\n"
   ]
  },
  {
   "cell_type": "code",
   "execution_count": 3,
   "metadata": {},
   "outputs": [
    {
     "data": {
      "text/html": [
       "<div>\n",
       "<style scoped>\n",
       "    .dataframe tbody tr th:only-of-type {\n",
       "        vertical-align: middle;\n",
       "    }\n",
       "\n",
       "    .dataframe tbody tr th {\n",
       "        vertical-align: top;\n",
       "    }\n",
       "\n",
       "    .dataframe thead th {\n",
       "        text-align: right;\n",
       "    }\n",
       "</style>\n",
       "<table border=\"1\" class=\"dataframe\">\n",
       "  <thead>\n",
       "    <tr style=\"text-align: right;\">\n",
       "      <th></th>\n",
       "      <th>symboling</th>\n",
       "      <th>normalized-losses</th>\n",
       "      <th>make</th>\n",
       "      <th>fuel-type</th>\n",
       "      <th>aspiration</th>\n",
       "      <th>num-of-doors</th>\n",
       "      <th>body-style</th>\n",
       "      <th>drive-wheels</th>\n",
       "      <th>engine-location</th>\n",
       "      <th>wheel-base</th>\n",
       "      <th>...</th>\n",
       "      <th>bore</th>\n",
       "      <th>stroke</th>\n",
       "      <th>compression-ratio</th>\n",
       "      <th>horsepower</th>\n",
       "      <th>peak-rpm</th>\n",
       "      <th>city-mpg</th>\n",
       "      <th>highway-mpg</th>\n",
       "      <th>price</th>\n",
       "      <th>city-L/100km</th>\n",
       "      <th>highway-L/100km</th>\n",
       "    </tr>\n",
       "  </thead>\n",
       "  <tbody>\n",
       "    <tr>\n",
       "      <th>0</th>\n",
       "      <td>3</td>\n",
       "      <td>122.0</td>\n",
       "      <td>alfa-romero</td>\n",
       "      <td>gas</td>\n",
       "      <td>std</td>\n",
       "      <td>two</td>\n",
       "      <td>convertible</td>\n",
       "      <td>rwd</td>\n",
       "      <td>front</td>\n",
       "      <td>88.6</td>\n",
       "      <td>...</td>\n",
       "      <td>3.47</td>\n",
       "      <td>2.68</td>\n",
       "      <td>9.0</td>\n",
       "      <td>111.0</td>\n",
       "      <td>5000.0</td>\n",
       "      <td>21</td>\n",
       "      <td>27</td>\n",
       "      <td>13495.0</td>\n",
       "      <td>11.190476</td>\n",
       "      <td>8.703704</td>\n",
       "    </tr>\n",
       "    <tr>\n",
       "      <th>1</th>\n",
       "      <td>3</td>\n",
       "      <td>122.0</td>\n",
       "      <td>alfa-romero</td>\n",
       "      <td>gas</td>\n",
       "      <td>std</td>\n",
       "      <td>two</td>\n",
       "      <td>convertible</td>\n",
       "      <td>rwd</td>\n",
       "      <td>front</td>\n",
       "      <td>88.6</td>\n",
       "      <td>...</td>\n",
       "      <td>3.47</td>\n",
       "      <td>2.68</td>\n",
       "      <td>9.0</td>\n",
       "      <td>111.0</td>\n",
       "      <td>5000.0</td>\n",
       "      <td>21</td>\n",
       "      <td>27</td>\n",
       "      <td>16500.0</td>\n",
       "      <td>11.190476</td>\n",
       "      <td>8.703704</td>\n",
       "    </tr>\n",
       "    <tr>\n",
       "      <th>2</th>\n",
       "      <td>1</td>\n",
       "      <td>122.0</td>\n",
       "      <td>alfa-romero</td>\n",
       "      <td>gas</td>\n",
       "      <td>std</td>\n",
       "      <td>two</td>\n",
       "      <td>hatchback</td>\n",
       "      <td>rwd</td>\n",
       "      <td>front</td>\n",
       "      <td>94.5</td>\n",
       "      <td>...</td>\n",
       "      <td>2.68</td>\n",
       "      <td>3.47</td>\n",
       "      <td>9.0</td>\n",
       "      <td>154.0</td>\n",
       "      <td>5000.0</td>\n",
       "      <td>19</td>\n",
       "      <td>26</td>\n",
       "      <td>16500.0</td>\n",
       "      <td>12.368421</td>\n",
       "      <td>9.038462</td>\n",
       "    </tr>\n",
       "    <tr>\n",
       "      <th>3</th>\n",
       "      <td>2</td>\n",
       "      <td>164.0</td>\n",
       "      <td>audi</td>\n",
       "      <td>gas</td>\n",
       "      <td>std</td>\n",
       "      <td>four</td>\n",
       "      <td>sedan</td>\n",
       "      <td>fwd</td>\n",
       "      <td>front</td>\n",
       "      <td>99.8</td>\n",
       "      <td>...</td>\n",
       "      <td>3.19</td>\n",
       "      <td>3.40</td>\n",
       "      <td>10.0</td>\n",
       "      <td>102.0</td>\n",
       "      <td>5500.0</td>\n",
       "      <td>24</td>\n",
       "      <td>30</td>\n",
       "      <td>13950.0</td>\n",
       "      <td>9.791667</td>\n",
       "      <td>7.833333</td>\n",
       "    </tr>\n",
       "    <tr>\n",
       "      <th>4</th>\n",
       "      <td>2</td>\n",
       "      <td>164.0</td>\n",
       "      <td>audi</td>\n",
       "      <td>gas</td>\n",
       "      <td>std</td>\n",
       "      <td>four</td>\n",
       "      <td>sedan</td>\n",
       "      <td>4wd</td>\n",
       "      <td>front</td>\n",
       "      <td>99.4</td>\n",
       "      <td>...</td>\n",
       "      <td>3.19</td>\n",
       "      <td>3.40</td>\n",
       "      <td>8.0</td>\n",
       "      <td>115.0</td>\n",
       "      <td>5500.0</td>\n",
       "      <td>18</td>\n",
       "      <td>22</td>\n",
       "      <td>17450.0</td>\n",
       "      <td>13.055556</td>\n",
       "      <td>10.681818</td>\n",
       "    </tr>\n",
       "  </tbody>\n",
       "</table>\n",
       "<p>5 rows × 28 columns</p>\n",
       "</div>"
      ],
      "text/plain": [
       "   symboling  normalized-losses         make fuel-type aspiration  \\\n",
       "0          3              122.0  alfa-romero       gas        std   \n",
       "1          3              122.0  alfa-romero       gas        std   \n",
       "2          1              122.0  alfa-romero       gas        std   \n",
       "3          2              164.0         audi       gas        std   \n",
       "4          2              164.0         audi       gas        std   \n",
       "\n",
       "  num-of-doors   body-style drive-wheels engine-location  wheel-base  ...  \\\n",
       "0          two  convertible          rwd           front        88.6  ...   \n",
       "1          two  convertible          rwd           front        88.6  ...   \n",
       "2          two    hatchback          rwd           front        94.5  ...   \n",
       "3         four        sedan          fwd           front        99.8  ...   \n",
       "4         four        sedan          4wd           front        99.4  ...   \n",
       "\n",
       "   bore  stroke  compression-ratio  horsepower peak-rpm city-mpg  highway-mpg  \\\n",
       "0  3.47    2.68                9.0       111.0   5000.0       21           27   \n",
       "1  3.47    2.68                9.0       111.0   5000.0       21           27   \n",
       "2  2.68    3.47                9.0       154.0   5000.0       19           26   \n",
       "3  3.19    3.40               10.0       102.0   5500.0       24           30   \n",
       "4  3.19    3.40                8.0       115.0   5500.0       18           22   \n",
       "\n",
       "     price  city-L/100km  highway-L/100km  \n",
       "0  13495.0     11.190476         8.703704  \n",
       "1  16500.0     11.190476         8.703704  \n",
       "2  16500.0     12.368421         9.038462  \n",
       "3  13950.0      9.791667         7.833333  \n",
       "4  17450.0     13.055556        10.681818  \n",
       "\n",
       "[5 rows x 28 columns]"
      ]
     },
     "execution_count": 3,
     "metadata": {},
     "output_type": "execute_result"
    }
   ],
   "source": [
    "df = pd.read_csv('data/auto_cleaned.csv', index_col=0)\n",
    "df.head(5) # displays the first 5 rows of the dataframe"
   ]
  },
  {
   "cell_type": "markdown",
   "metadata": {},
   "source": [
    "**How to choose the right visualization method?**"
   ]
  },
  {
   "cell_type": "markdown",
   "metadata": {},
   "source": [
    "When visualizing individual variables, it is important to first understand what type of variable you are dealing with. This will help us find the right visualization method for that variable.</p>"
   ]
  },
  {
   "cell_type": "code",
   "execution_count": 4,
   "metadata": {},
   "outputs": [
    {
     "name": "stdout",
     "output_type": "stream",
     "text": [
      "symboling              int64\n",
      "normalized-losses    float64\n",
      "make                  object\n",
      "fuel-type             object\n",
      "aspiration            object\n",
      "num-of-doors          object\n",
      "body-style            object\n",
      "drive-wheels          object\n",
      "engine-location       object\n",
      "wheel-base           float64\n",
      "length               float64\n",
      "width                float64\n",
      "height               float64\n",
      "curb-weight            int64\n",
      "engine-type           object\n",
      "num-of-cylinders      object\n",
      "engine-size            int64\n",
      "fuel-system           object\n",
      "bore                 float64\n",
      "stroke               float64\n",
      "compression-ratio    float64\n",
      "horsepower           float64\n",
      "peak-rpm             float64\n",
      "city-mpg               int64\n",
      "highway-mpg            int64\n",
      "price                float64\n",
      "city-L/100km         float64\n",
      "highway-L/100km      float64\n",
      "dtype: object\n"
     ]
    }
   ],
   "source": [
    "# list the data types for each column\n",
    "print(df.dtypes)"
   ]
  },
  {
   "cell_type": "markdown",
   "metadata": {},
   "source": [
    "### Numerical variables (int64 and float64)"
   ]
  },
  {
   "cell_type": "markdown",
   "metadata": {},
   "source": [
    "Descriptive statistics describes basic features of a data-set and obtains a short summary about the sample and measures of the data.\n",
    "The **<code>describe()</code>** function in pandas computes basic statistics for all numerical variables. It shows the mean, the total number of data points, the standard deviation, the quartiles and the extreme values. Any NaN values are\n",
    "automatically skipped in these statistics. This function will give you a clearer idea of the distribution of your different variables."
   ]
  },
  {
   "cell_type": "code",
   "execution_count": 5,
   "metadata": {},
   "outputs": [
    {
     "data": {
      "text/html": [
       "<div>\n",
       "<style scoped>\n",
       "    .dataframe tbody tr th:only-of-type {\n",
       "        vertical-align: middle;\n",
       "    }\n",
       "\n",
       "    .dataframe tbody tr th {\n",
       "        vertical-align: top;\n",
       "    }\n",
       "\n",
       "    .dataframe thead th {\n",
       "        text-align: right;\n",
       "    }\n",
       "</style>\n",
       "<table border=\"1\" class=\"dataframe\">\n",
       "  <thead>\n",
       "    <tr style=\"text-align: right;\">\n",
       "      <th></th>\n",
       "      <th>symboling</th>\n",
       "      <th>normalized-losses</th>\n",
       "      <th>wheel-base</th>\n",
       "      <th>length</th>\n",
       "      <th>width</th>\n",
       "      <th>height</th>\n",
       "      <th>curb-weight</th>\n",
       "      <th>engine-size</th>\n",
       "      <th>bore</th>\n",
       "      <th>stroke</th>\n",
       "      <th>compression-ratio</th>\n",
       "      <th>horsepower</th>\n",
       "      <th>peak-rpm</th>\n",
       "      <th>city-mpg</th>\n",
       "      <th>highway-mpg</th>\n",
       "      <th>price</th>\n",
       "      <th>city-L/100km</th>\n",
       "      <th>highway-L/100km</th>\n",
       "    </tr>\n",
       "  </thead>\n",
       "  <tbody>\n",
       "    <tr>\n",
       "      <th>count</th>\n",
       "      <td>199.000000</td>\n",
       "      <td>199.000000</td>\n",
       "      <td>199.000000</td>\n",
       "      <td>199.000000</td>\n",
       "      <td>199.000000</td>\n",
       "      <td>199.000000</td>\n",
       "      <td>199.000000</td>\n",
       "      <td>199.000000</td>\n",
       "      <td>199.000000</td>\n",
       "      <td>199.000000</td>\n",
       "      <td>199.000000</td>\n",
       "      <td>199.000000</td>\n",
       "      <td>199.000000</td>\n",
       "      <td>199.000000</td>\n",
       "      <td>199.000000</td>\n",
       "      <td>199.000000</td>\n",
       "      <td>199.000000</td>\n",
       "      <td>199.000000</td>\n",
       "    </tr>\n",
       "    <tr>\n",
       "      <th>mean</th>\n",
       "      <td>0.839196</td>\n",
       "      <td>122.000000</td>\n",
       "      <td>98.824121</td>\n",
       "      <td>174.151256</td>\n",
       "      <td>65.882412</td>\n",
       "      <td>53.775879</td>\n",
       "      <td>2556.030151</td>\n",
       "      <td>126.824121</td>\n",
       "      <td>3.329392</td>\n",
       "      <td>3.250411</td>\n",
       "      <td>10.178995</td>\n",
       "      <td>103.396985</td>\n",
       "      <td>5117.587940</td>\n",
       "      <td>25.201005</td>\n",
       "      <td>30.683417</td>\n",
       "      <td>13243.432161</td>\n",
       "      <td>9.941399</td>\n",
       "      <td>8.049623</td>\n",
       "    </tr>\n",
       "    <tr>\n",
       "      <th>std</th>\n",
       "      <td>1.257009</td>\n",
       "      <td>32.157441</td>\n",
       "      <td>6.090838</td>\n",
       "      <td>12.371905</td>\n",
       "      <td>2.110996</td>\n",
       "      <td>2.447039</td>\n",
       "      <td>519.855544</td>\n",
       "      <td>41.752932</td>\n",
       "      <td>0.269106</td>\n",
       "      <td>0.310926</td>\n",
       "      <td>4.022424</td>\n",
       "      <td>37.553843</td>\n",
       "      <td>480.521824</td>\n",
       "      <td>6.451826</td>\n",
       "      <td>6.849410</td>\n",
       "      <td>7978.707609</td>\n",
       "      <td>2.547219</td>\n",
       "      <td>1.849417</td>\n",
       "    </tr>\n",
       "    <tr>\n",
       "      <th>min</th>\n",
       "      <td>-2.000000</td>\n",
       "      <td>65.000000</td>\n",
       "      <td>86.600000</td>\n",
       "      <td>141.100000</td>\n",
       "      <td>60.300000</td>\n",
       "      <td>47.800000</td>\n",
       "      <td>1488.000000</td>\n",
       "      <td>61.000000</td>\n",
       "      <td>2.540000</td>\n",
       "      <td>2.070000</td>\n",
       "      <td>7.000000</td>\n",
       "      <td>48.000000</td>\n",
       "      <td>4150.000000</td>\n",
       "      <td>13.000000</td>\n",
       "      <td>16.000000</td>\n",
       "      <td>5118.000000</td>\n",
       "      <td>4.795918</td>\n",
       "      <td>4.351852</td>\n",
       "    </tr>\n",
       "    <tr>\n",
       "      <th>25%</th>\n",
       "      <td>0.000000</td>\n",
       "      <td>99.500000</td>\n",
       "      <td>94.500000</td>\n",
       "      <td>166.550000</td>\n",
       "      <td>64.100000</td>\n",
       "      <td>52.000000</td>\n",
       "      <td>2157.000000</td>\n",
       "      <td>97.500000</td>\n",
       "      <td>3.150000</td>\n",
       "      <td>3.110000</td>\n",
       "      <td>8.550000</td>\n",
       "      <td>70.000000</td>\n",
       "      <td>4800.000000</td>\n",
       "      <td>19.000000</td>\n",
       "      <td>25.000000</td>\n",
       "      <td>7775.000000</td>\n",
       "      <td>7.833333</td>\n",
       "      <td>6.911765</td>\n",
       "    </tr>\n",
       "    <tr>\n",
       "      <th>50%</th>\n",
       "      <td>1.000000</td>\n",
       "      <td>122.000000</td>\n",
       "      <td>97.000000</td>\n",
       "      <td>173.200000</td>\n",
       "      <td>65.500000</td>\n",
       "      <td>54.100000</td>\n",
       "      <td>2414.000000</td>\n",
       "      <td>119.000000</td>\n",
       "      <td>3.310000</td>\n",
       "      <td>3.290000</td>\n",
       "      <td>9.000000</td>\n",
       "      <td>95.000000</td>\n",
       "      <td>5200.000000</td>\n",
       "      <td>24.000000</td>\n",
       "      <td>30.000000</td>\n",
       "      <td>10345.000000</td>\n",
       "      <td>9.791667</td>\n",
       "      <td>7.833333</td>\n",
       "    </tr>\n",
       "    <tr>\n",
       "      <th>75%</th>\n",
       "      <td>2.000000</td>\n",
       "      <td>139.500000</td>\n",
       "      <td>102.400000</td>\n",
       "      <td>183.500000</td>\n",
       "      <td>66.700000</td>\n",
       "      <td>55.550000</td>\n",
       "      <td>2930.500000</td>\n",
       "      <td>143.000000</td>\n",
       "      <td>3.585000</td>\n",
       "      <td>3.410000</td>\n",
       "      <td>9.400000</td>\n",
       "      <td>116.000000</td>\n",
       "      <td>5500.000000</td>\n",
       "      <td>30.000000</td>\n",
       "      <td>34.000000</td>\n",
       "      <td>16501.500000</td>\n",
       "      <td>12.368421</td>\n",
       "      <td>9.400000</td>\n",
       "    </tr>\n",
       "    <tr>\n",
       "      <th>max</th>\n",
       "      <td>3.000000</td>\n",
       "      <td>256.000000</td>\n",
       "      <td>120.900000</td>\n",
       "      <td>208.100000</td>\n",
       "      <td>72.000000</td>\n",
       "      <td>59.800000</td>\n",
       "      <td>4066.000000</td>\n",
       "      <td>326.000000</td>\n",
       "      <td>3.940000</td>\n",
       "      <td>4.170000</td>\n",
       "      <td>23.000000</td>\n",
       "      <td>262.000000</td>\n",
       "      <td>6600.000000</td>\n",
       "      <td>49.000000</td>\n",
       "      <td>54.000000</td>\n",
       "      <td>45400.000000</td>\n",
       "      <td>18.076923</td>\n",
       "      <td>14.687500</td>\n",
       "    </tr>\n",
       "  </tbody>\n",
       "</table>\n",
       "</div>"
      ],
      "text/plain": [
       "        symboling  normalized-losses  wheel-base      length       width  \\\n",
       "count  199.000000         199.000000  199.000000  199.000000  199.000000   \n",
       "mean     0.839196         122.000000   98.824121  174.151256   65.882412   \n",
       "std      1.257009          32.157441    6.090838   12.371905    2.110996   \n",
       "min     -2.000000          65.000000   86.600000  141.100000   60.300000   \n",
       "25%      0.000000          99.500000   94.500000  166.550000   64.100000   \n",
       "50%      1.000000         122.000000   97.000000  173.200000   65.500000   \n",
       "75%      2.000000         139.500000  102.400000  183.500000   66.700000   \n",
       "max      3.000000         256.000000  120.900000  208.100000   72.000000   \n",
       "\n",
       "           height  curb-weight  engine-size        bore      stroke  \\\n",
       "count  199.000000   199.000000   199.000000  199.000000  199.000000   \n",
       "mean    53.775879  2556.030151   126.824121    3.329392    3.250411   \n",
       "std      2.447039   519.855544    41.752932    0.269106    0.310926   \n",
       "min     47.800000  1488.000000    61.000000    2.540000    2.070000   \n",
       "25%     52.000000  2157.000000    97.500000    3.150000    3.110000   \n",
       "50%     54.100000  2414.000000   119.000000    3.310000    3.290000   \n",
       "75%     55.550000  2930.500000   143.000000    3.585000    3.410000   \n",
       "max     59.800000  4066.000000   326.000000    3.940000    4.170000   \n",
       "\n",
       "       compression-ratio  horsepower     peak-rpm    city-mpg  highway-mpg  \\\n",
       "count         199.000000  199.000000   199.000000  199.000000   199.000000   \n",
       "mean           10.178995  103.396985  5117.587940   25.201005    30.683417   \n",
       "std             4.022424   37.553843   480.521824    6.451826     6.849410   \n",
       "min             7.000000   48.000000  4150.000000   13.000000    16.000000   \n",
       "25%             8.550000   70.000000  4800.000000   19.000000    25.000000   \n",
       "50%             9.000000   95.000000  5200.000000   24.000000    30.000000   \n",
       "75%             9.400000  116.000000  5500.000000   30.000000    34.000000   \n",
       "max            23.000000  262.000000  6600.000000   49.000000    54.000000   \n",
       "\n",
       "              price  city-L/100km  highway-L/100km  \n",
       "count    199.000000    199.000000       199.000000  \n",
       "mean   13243.432161      9.941399         8.049623  \n",
       "std     7978.707609      2.547219         1.849417  \n",
       "min     5118.000000      4.795918         4.351852  \n",
       "25%     7775.000000      7.833333         6.911765  \n",
       "50%    10345.000000      9.791667         7.833333  \n",
       "75%    16501.500000     12.368421         9.400000  \n",
       "max    45400.000000     18.076923        14.687500  "
      ]
     },
     "execution_count": 5,
     "metadata": {},
     "output_type": "execute_result"
    }
   ],
   "source": [
    "df.describe()"
   ]
  },
  {
   "cell_type": "code",
   "execution_count": 6,
   "metadata": {},
   "outputs": [],
   "source": [
    "# plot a histogram of the horsepower distribution\n",
    "#  ..."
   ]
  },
  {
   "cell_type": "markdown",
   "metadata": {},
   "source": [
    "<font color=blue>Click here for **Solution**\n",
    "<!-- \n",
    "df['horsepower'].plot(kind='hist',bins=10); -->"
   ]
  },
  {
   "cell_type": "markdown",
   "metadata": {},
   "source": [
    "### Which features are important to determine the price?"
   ]
  },
  {
   "cell_type": "markdown",
   "metadata": {},
   "source": [
    "We can calculate the correlation between variables  of type \"int64\" or \"float64\" using the method \"corr\":"
   ]
  },
  {
   "cell_type": "code",
   "execution_count": 7,
   "metadata": {},
   "outputs": [
    {
     "data": {
      "text/html": [
       "<div>\n",
       "<style scoped>\n",
       "    .dataframe tbody tr th:only-of-type {\n",
       "        vertical-align: middle;\n",
       "    }\n",
       "\n",
       "    .dataframe tbody tr th {\n",
       "        vertical-align: top;\n",
       "    }\n",
       "\n",
       "    .dataframe thead th {\n",
       "        text-align: right;\n",
       "    }\n",
       "</style>\n",
       "<table border=\"1\" class=\"dataframe\">\n",
       "  <thead>\n",
       "    <tr style=\"text-align: right;\">\n",
       "      <th></th>\n",
       "      <th>symboling</th>\n",
       "      <th>normalized-losses</th>\n",
       "      <th>wheel-base</th>\n",
       "      <th>length</th>\n",
       "      <th>width</th>\n",
       "      <th>height</th>\n",
       "      <th>curb-weight</th>\n",
       "      <th>engine-size</th>\n",
       "      <th>bore</th>\n",
       "      <th>stroke</th>\n",
       "      <th>compression-ratio</th>\n",
       "      <th>horsepower</th>\n",
       "      <th>peak-rpm</th>\n",
       "      <th>city-mpg</th>\n",
       "      <th>highway-mpg</th>\n",
       "      <th>price</th>\n",
       "      <th>city-L/100km</th>\n",
       "      <th>highway-L/100km</th>\n",
       "    </tr>\n",
       "  </thead>\n",
       "  <tbody>\n",
       "    <tr>\n",
       "      <th>symboling</th>\n",
       "      <td>1.000000</td>\n",
       "      <td>0.467790</td>\n",
       "      <td>-0.537706</td>\n",
       "      <td>-0.365957</td>\n",
       "      <td>-0.243933</td>\n",
       "      <td>-0.546717</td>\n",
       "      <td>-0.232893</td>\n",
       "      <td>-0.111110</td>\n",
       "      <td>-0.141264</td>\n",
       "      <td>-0.011029</td>\n",
       "      <td>-0.182446</td>\n",
       "      <td>0.076038</td>\n",
       "      <td>0.280635</td>\n",
       "      <td>-0.035228</td>\n",
       "      <td>0.036293</td>\n",
       "      <td>-0.082465</td>\n",
       "      <td>0.066253</td>\n",
       "      <td>-0.029590</td>\n",
       "    </tr>\n",
       "    <tr>\n",
       "      <th>normalized-losses</th>\n",
       "      <td>0.467790</td>\n",
       "      <td>1.000000</td>\n",
       "      <td>-0.056718</td>\n",
       "      <td>0.019443</td>\n",
       "      <td>0.086846</td>\n",
       "      <td>-0.375740</td>\n",
       "      <td>0.099413</td>\n",
       "      <td>0.112369</td>\n",
       "      <td>-0.029898</td>\n",
       "      <td>0.056234</td>\n",
       "      <td>-0.114791</td>\n",
       "      <td>0.217300</td>\n",
       "      <td>0.239544</td>\n",
       "      <td>-0.225147</td>\n",
       "      <td>-0.181879</td>\n",
       "      <td>0.134140</td>\n",
       "      <td>0.238581</td>\n",
       "      <td>0.181247</td>\n",
       "    </tr>\n",
       "    <tr>\n",
       "      <th>wheel-base</th>\n",
       "      <td>-0.537706</td>\n",
       "      <td>-0.056718</td>\n",
       "      <td>1.000000</td>\n",
       "      <td>0.879582</td>\n",
       "      <td>0.817145</td>\n",
       "      <td>0.592809</td>\n",
       "      <td>0.782636</td>\n",
       "      <td>0.573197</td>\n",
       "      <td>0.496489</td>\n",
       "      <td>0.170935</td>\n",
       "      <td>0.249088</td>\n",
       "      <td>0.371621</td>\n",
       "      <td>-0.360593</td>\n",
       "      <td>-0.472877</td>\n",
       "      <td>-0.543647</td>\n",
       "      <td>0.583797</td>\n",
       "      <td>0.477141</td>\n",
       "      <td>0.577205</td>\n",
       "    </tr>\n",
       "    <tr>\n",
       "      <th>length</th>\n",
       "      <td>-0.365957</td>\n",
       "      <td>0.019443</td>\n",
       "      <td>0.879582</td>\n",
       "      <td>1.000000</td>\n",
       "      <td>0.857225</td>\n",
       "      <td>0.494880</td>\n",
       "      <td>0.881688</td>\n",
       "      <td>0.685260</td>\n",
       "      <td>0.608335</td>\n",
       "      <td>0.118313</td>\n",
       "      <td>0.161486</td>\n",
       "      <td>0.580309</td>\n",
       "      <td>-0.286321</td>\n",
       "      <td>-0.664865</td>\n",
       "      <td>-0.699033</td>\n",
       "      <td>0.693965</td>\n",
       "      <td>0.657629</td>\n",
       "      <td>0.709066</td>\n",
       "    </tr>\n",
       "    <tr>\n",
       "      <th>width</th>\n",
       "      <td>-0.243933</td>\n",
       "      <td>0.086846</td>\n",
       "      <td>0.817145</td>\n",
       "      <td>0.857225</td>\n",
       "      <td>1.000000</td>\n",
       "      <td>0.309223</td>\n",
       "      <td>0.866965</td>\n",
       "      <td>0.729466</td>\n",
       "      <td>0.544266</td>\n",
       "      <td>0.186389</td>\n",
       "      <td>0.191254</td>\n",
       "      <td>0.615315</td>\n",
       "      <td>-0.245975</td>\n",
       "      <td>-0.633139</td>\n",
       "      <td>-0.681131</td>\n",
       "      <td>0.753871</td>\n",
       "      <td>0.673398</td>\n",
       "      <td>0.738137</td>\n",
       "    </tr>\n",
       "    <tr>\n",
       "      <th>height</th>\n",
       "      <td>-0.546717</td>\n",
       "      <td>-0.375740</td>\n",
       "      <td>0.592809</td>\n",
       "      <td>0.494880</td>\n",
       "      <td>0.309223</td>\n",
       "      <td>1.000000</td>\n",
       "      <td>0.307881</td>\n",
       "      <td>0.075569</td>\n",
       "      <td>0.183466</td>\n",
       "      <td>-0.054399</td>\n",
       "      <td>0.259914</td>\n",
       "      <td>-0.087407</td>\n",
       "      <td>-0.311574</td>\n",
       "      <td>-0.051387</td>\n",
       "      <td>-0.105200</td>\n",
       "      <td>0.134990</td>\n",
       "      <td>0.004241</td>\n",
       "      <td>0.083821</td>\n",
       "    </tr>\n",
       "    <tr>\n",
       "      <th>curb-weight</th>\n",
       "      <td>-0.232893</td>\n",
       "      <td>0.099413</td>\n",
       "      <td>0.782636</td>\n",
       "      <td>0.881688</td>\n",
       "      <td>0.866965</td>\n",
       "      <td>0.307881</td>\n",
       "      <td>1.000000</td>\n",
       "      <td>0.849301</td>\n",
       "      <td>0.645218</td>\n",
       "      <td>0.172537</td>\n",
       "      <td>0.156294</td>\n",
       "      <td>0.758063</td>\n",
       "      <td>-0.279375</td>\n",
       "      <td>-0.750287</td>\n",
       "      <td>-0.794937</td>\n",
       "      <td>0.835090</td>\n",
       "      <td>0.785547</td>\n",
       "      <td>0.837088</td>\n",
       "    </tr>\n",
       "    <tr>\n",
       "      <th>engine-size</th>\n",
       "      <td>-0.111110</td>\n",
       "      <td>0.112369</td>\n",
       "      <td>0.573197</td>\n",
       "      <td>0.685260</td>\n",
       "      <td>0.729466</td>\n",
       "      <td>0.075569</td>\n",
       "      <td>0.849301</td>\n",
       "      <td>1.000000</td>\n",
       "      <td>0.572726</td>\n",
       "      <td>0.207801</td>\n",
       "      <td>0.029366</td>\n",
       "      <td>0.822713</td>\n",
       "      <td>-0.256773</td>\n",
       "      <td>-0.650552</td>\n",
       "      <td>-0.679688</td>\n",
       "      <td>0.873887</td>\n",
       "      <td>0.745026</td>\n",
       "      <td>0.784091</td>\n",
       "    </tr>\n",
       "    <tr>\n",
       "      <th>bore</th>\n",
       "      <td>-0.141264</td>\n",
       "      <td>-0.029898</td>\n",
       "      <td>0.496489</td>\n",
       "      <td>0.608335</td>\n",
       "      <td>0.544266</td>\n",
       "      <td>0.183466</td>\n",
       "      <td>0.645218</td>\n",
       "      <td>0.572726</td>\n",
       "      <td>1.000000</td>\n",
       "      <td>-0.066793</td>\n",
       "      <td>0.003050</td>\n",
       "      <td>0.567493</td>\n",
       "      <td>-0.267785</td>\n",
       "      <td>-0.581395</td>\n",
       "      <td>-0.592236</td>\n",
       "      <td>0.546586</td>\n",
       "      <td>0.554770</td>\n",
       "      <td>0.561181</td>\n",
       "    </tr>\n",
       "    <tr>\n",
       "      <th>stroke</th>\n",
       "      <td>-0.011029</td>\n",
       "      <td>0.056234</td>\n",
       "      <td>0.170935</td>\n",
       "      <td>0.118313</td>\n",
       "      <td>0.186389</td>\n",
       "      <td>-0.054399</td>\n",
       "      <td>0.172537</td>\n",
       "      <td>0.207801</td>\n",
       "      <td>-0.066793</td>\n",
       "      <td>1.000000</td>\n",
       "      <td>0.199740</td>\n",
       "      <td>0.099911</td>\n",
       "      <td>-0.065272</td>\n",
       "      <td>-0.027582</td>\n",
       "      <td>-0.036350</td>\n",
       "      <td>0.093688</td>\n",
       "      <td>0.034652</td>\n",
       "      <td>0.053419</td>\n",
       "    </tr>\n",
       "    <tr>\n",
       "      <th>compression-ratio</th>\n",
       "      <td>-0.182446</td>\n",
       "      <td>-0.114791</td>\n",
       "      <td>0.249088</td>\n",
       "      <td>0.161486</td>\n",
       "      <td>0.191254</td>\n",
       "      <td>0.259914</td>\n",
       "      <td>0.156294</td>\n",
       "      <td>0.029366</td>\n",
       "      <td>0.003050</td>\n",
       "      <td>0.199740</td>\n",
       "      <td>1.000000</td>\n",
       "      <td>-0.214576</td>\n",
       "      <td>-0.436015</td>\n",
       "      <td>0.330587</td>\n",
       "      <td>0.268819</td>\n",
       "      <td>0.069549</td>\n",
       "      <td>-0.299193</td>\n",
       "      <td>-0.224516</td>\n",
       "    </tr>\n",
       "    <tr>\n",
       "      <th>horsepower</th>\n",
       "      <td>0.076038</td>\n",
       "      <td>0.217300</td>\n",
       "      <td>0.371621</td>\n",
       "      <td>0.580309</td>\n",
       "      <td>0.615315</td>\n",
       "      <td>-0.087407</td>\n",
       "      <td>0.758063</td>\n",
       "      <td>0.822713</td>\n",
       "      <td>0.567493</td>\n",
       "      <td>0.099911</td>\n",
       "      <td>-0.214576</td>\n",
       "      <td>1.000000</td>\n",
       "      <td>0.107882</td>\n",
       "      <td>-0.822617</td>\n",
       "      <td>-0.804596</td>\n",
       "      <td>0.810533</td>\n",
       "      <td>0.889518</td>\n",
       "      <td>0.840939</td>\n",
       "    </tr>\n",
       "    <tr>\n",
       "      <th>peak-rpm</th>\n",
       "      <td>0.280635</td>\n",
       "      <td>0.239544</td>\n",
       "      <td>-0.360593</td>\n",
       "      <td>-0.286321</td>\n",
       "      <td>-0.245975</td>\n",
       "      <td>-0.311574</td>\n",
       "      <td>-0.279375</td>\n",
       "      <td>-0.256773</td>\n",
       "      <td>-0.267785</td>\n",
       "      <td>-0.065272</td>\n",
       "      <td>-0.436015</td>\n",
       "      <td>0.107882</td>\n",
       "      <td>1.000000</td>\n",
       "      <td>-0.115425</td>\n",
       "      <td>-0.058606</td>\n",
       "      <td>-0.101649</td>\n",
       "      <td>0.115819</td>\n",
       "      <td>0.017741</td>\n",
       "    </tr>\n",
       "    <tr>\n",
       "      <th>city-mpg</th>\n",
       "      <td>-0.035228</td>\n",
       "      <td>-0.225147</td>\n",
       "      <td>-0.472877</td>\n",
       "      <td>-0.664865</td>\n",
       "      <td>-0.633139</td>\n",
       "      <td>-0.051387</td>\n",
       "      <td>-0.750287</td>\n",
       "      <td>-0.650552</td>\n",
       "      <td>-0.581395</td>\n",
       "      <td>-0.027582</td>\n",
       "      <td>0.330587</td>\n",
       "      <td>-0.822617</td>\n",
       "      <td>-0.115425</td>\n",
       "      <td>1.000000</td>\n",
       "      <td>0.972777</td>\n",
       "      <td>-0.689253</td>\n",
       "      <td>-0.949952</td>\n",
       "      <td>-0.910710</td>\n",
       "    </tr>\n",
       "    <tr>\n",
       "      <th>highway-mpg</th>\n",
       "      <td>0.036293</td>\n",
       "      <td>-0.181879</td>\n",
       "      <td>-0.543647</td>\n",
       "      <td>-0.699033</td>\n",
       "      <td>-0.681131</td>\n",
       "      <td>-0.105200</td>\n",
       "      <td>-0.794937</td>\n",
       "      <td>-0.679688</td>\n",
       "      <td>-0.592236</td>\n",
       "      <td>-0.036350</td>\n",
       "      <td>0.268819</td>\n",
       "      <td>-0.804596</td>\n",
       "      <td>-0.058606</td>\n",
       "      <td>0.972777</td>\n",
       "      <td>1.000000</td>\n",
       "      <td>-0.705230</td>\n",
       "      <td>-0.930142</td>\n",
       "      <td>-0.951299</td>\n",
       "    </tr>\n",
       "    <tr>\n",
       "      <th>price</th>\n",
       "      <td>-0.082465</td>\n",
       "      <td>0.134140</td>\n",
       "      <td>0.583797</td>\n",
       "      <td>0.693965</td>\n",
       "      <td>0.753871</td>\n",
       "      <td>0.134990</td>\n",
       "      <td>0.835090</td>\n",
       "      <td>0.873887</td>\n",
       "      <td>0.546586</td>\n",
       "      <td>0.093688</td>\n",
       "      <td>0.069549</td>\n",
       "      <td>0.810533</td>\n",
       "      <td>-0.101649</td>\n",
       "      <td>-0.689253</td>\n",
       "      <td>-0.705230</td>\n",
       "      <td>1.000000</td>\n",
       "      <td>0.791270</td>\n",
       "      <td>0.801059</td>\n",
       "    </tr>\n",
       "    <tr>\n",
       "      <th>city-L/100km</th>\n",
       "      <td>0.066253</td>\n",
       "      <td>0.238581</td>\n",
       "      <td>0.477141</td>\n",
       "      <td>0.657629</td>\n",
       "      <td>0.673398</td>\n",
       "      <td>0.004241</td>\n",
       "      <td>0.785547</td>\n",
       "      <td>0.745026</td>\n",
       "      <td>0.554770</td>\n",
       "      <td>0.034652</td>\n",
       "      <td>-0.299193</td>\n",
       "      <td>0.889518</td>\n",
       "      <td>0.115819</td>\n",
       "      <td>-0.949952</td>\n",
       "      <td>-0.930142</td>\n",
       "      <td>0.791270</td>\n",
       "      <td>1.000000</td>\n",
       "      <td>0.958945</td>\n",
       "    </tr>\n",
       "    <tr>\n",
       "      <th>highway-L/100km</th>\n",
       "      <td>-0.029590</td>\n",
       "      <td>0.181247</td>\n",
       "      <td>0.577205</td>\n",
       "      <td>0.709066</td>\n",
       "      <td>0.738137</td>\n",
       "      <td>0.083821</td>\n",
       "      <td>0.837088</td>\n",
       "      <td>0.784091</td>\n",
       "      <td>0.561181</td>\n",
       "      <td>0.053419</td>\n",
       "      <td>-0.224516</td>\n",
       "      <td>0.840939</td>\n",
       "      <td>0.017741</td>\n",
       "      <td>-0.910710</td>\n",
       "      <td>-0.951299</td>\n",
       "      <td>0.801059</td>\n",
       "      <td>0.958945</td>\n",
       "      <td>1.000000</td>\n",
       "    </tr>\n",
       "  </tbody>\n",
       "</table>\n",
       "</div>"
      ],
      "text/plain": [
       "                   symboling  normalized-losses  wheel-base    length  \\\n",
       "symboling           1.000000           0.467790   -0.537706 -0.365957   \n",
       "normalized-losses   0.467790           1.000000   -0.056718  0.019443   \n",
       "wheel-base         -0.537706          -0.056718    1.000000  0.879582   \n",
       "length             -0.365957           0.019443    0.879582  1.000000   \n",
       "width              -0.243933           0.086846    0.817145  0.857225   \n",
       "height             -0.546717          -0.375740    0.592809  0.494880   \n",
       "curb-weight        -0.232893           0.099413    0.782636  0.881688   \n",
       "engine-size        -0.111110           0.112369    0.573197  0.685260   \n",
       "bore               -0.141264          -0.029898    0.496489  0.608335   \n",
       "stroke             -0.011029           0.056234    0.170935  0.118313   \n",
       "compression-ratio  -0.182446          -0.114791    0.249088  0.161486   \n",
       "horsepower          0.076038           0.217300    0.371621  0.580309   \n",
       "peak-rpm            0.280635           0.239544   -0.360593 -0.286321   \n",
       "city-mpg           -0.035228          -0.225147   -0.472877 -0.664865   \n",
       "highway-mpg         0.036293          -0.181879   -0.543647 -0.699033   \n",
       "price              -0.082465           0.134140    0.583797  0.693965   \n",
       "city-L/100km        0.066253           0.238581    0.477141  0.657629   \n",
       "highway-L/100km    -0.029590           0.181247    0.577205  0.709066   \n",
       "\n",
       "                      width    height  curb-weight  engine-size      bore  \\\n",
       "symboling         -0.243933 -0.546717    -0.232893    -0.111110 -0.141264   \n",
       "normalized-losses  0.086846 -0.375740     0.099413     0.112369 -0.029898   \n",
       "wheel-base         0.817145  0.592809     0.782636     0.573197  0.496489   \n",
       "length             0.857225  0.494880     0.881688     0.685260  0.608335   \n",
       "width              1.000000  0.309223     0.866965     0.729466  0.544266   \n",
       "height             0.309223  1.000000     0.307881     0.075569  0.183466   \n",
       "curb-weight        0.866965  0.307881     1.000000     0.849301  0.645218   \n",
       "engine-size        0.729466  0.075569     0.849301     1.000000  0.572726   \n",
       "bore               0.544266  0.183466     0.645218     0.572726  1.000000   \n",
       "stroke             0.186389 -0.054399     0.172537     0.207801 -0.066793   \n",
       "compression-ratio  0.191254  0.259914     0.156294     0.029366  0.003050   \n",
       "horsepower         0.615315 -0.087407     0.758063     0.822713  0.567493   \n",
       "peak-rpm          -0.245975 -0.311574    -0.279375    -0.256773 -0.267785   \n",
       "city-mpg          -0.633139 -0.051387    -0.750287    -0.650552 -0.581395   \n",
       "highway-mpg       -0.681131 -0.105200    -0.794937    -0.679688 -0.592236   \n",
       "price              0.753871  0.134990     0.835090     0.873887  0.546586   \n",
       "city-L/100km       0.673398  0.004241     0.785547     0.745026  0.554770   \n",
       "highway-L/100km    0.738137  0.083821     0.837088     0.784091  0.561181   \n",
       "\n",
       "                     stroke  compression-ratio  horsepower  peak-rpm  \\\n",
       "symboling         -0.011029          -0.182446    0.076038  0.280635   \n",
       "normalized-losses  0.056234          -0.114791    0.217300  0.239544   \n",
       "wheel-base         0.170935           0.249088    0.371621 -0.360593   \n",
       "length             0.118313           0.161486    0.580309 -0.286321   \n",
       "width              0.186389           0.191254    0.615315 -0.245975   \n",
       "height            -0.054399           0.259914   -0.087407 -0.311574   \n",
       "curb-weight        0.172537           0.156294    0.758063 -0.279375   \n",
       "engine-size        0.207801           0.029366    0.822713 -0.256773   \n",
       "bore              -0.066793           0.003050    0.567493 -0.267785   \n",
       "stroke             1.000000           0.199740    0.099911 -0.065272   \n",
       "compression-ratio  0.199740           1.000000   -0.214576 -0.436015   \n",
       "horsepower         0.099911          -0.214576    1.000000  0.107882   \n",
       "peak-rpm          -0.065272          -0.436015    0.107882  1.000000   \n",
       "city-mpg          -0.027582           0.330587   -0.822617 -0.115425   \n",
       "highway-mpg       -0.036350           0.268819   -0.804596 -0.058606   \n",
       "price              0.093688           0.069549    0.810533 -0.101649   \n",
       "city-L/100km       0.034652          -0.299193    0.889518  0.115819   \n",
       "highway-L/100km    0.053419          -0.224516    0.840939  0.017741   \n",
       "\n",
       "                   city-mpg  highway-mpg     price  city-L/100km  \\\n",
       "symboling         -0.035228     0.036293 -0.082465      0.066253   \n",
       "normalized-losses -0.225147    -0.181879  0.134140      0.238581   \n",
       "wheel-base        -0.472877    -0.543647  0.583797      0.477141   \n",
       "length            -0.664865    -0.699033  0.693965      0.657629   \n",
       "width             -0.633139    -0.681131  0.753871      0.673398   \n",
       "height            -0.051387    -0.105200  0.134990      0.004241   \n",
       "curb-weight       -0.750287    -0.794937  0.835090      0.785547   \n",
       "engine-size       -0.650552    -0.679688  0.873887      0.745026   \n",
       "bore              -0.581395    -0.592236  0.546586      0.554770   \n",
       "stroke            -0.027582    -0.036350  0.093688      0.034652   \n",
       "compression-ratio  0.330587     0.268819  0.069549     -0.299193   \n",
       "horsepower        -0.822617    -0.804596  0.810533      0.889518   \n",
       "peak-rpm          -0.115425    -0.058606 -0.101649      0.115819   \n",
       "city-mpg           1.000000     0.972777 -0.689253     -0.949952   \n",
       "highway-mpg        0.972777     1.000000 -0.705230     -0.930142   \n",
       "price             -0.689253    -0.705230  1.000000      0.791270   \n",
       "city-L/100km      -0.949952    -0.930142  0.791270      1.000000   \n",
       "highway-L/100km   -0.910710    -0.951299  0.801059      0.958945   \n",
       "\n",
       "                   highway-L/100km  \n",
       "symboling                -0.029590  \n",
       "normalized-losses         0.181247  \n",
       "wheel-base                0.577205  \n",
       "length                    0.709066  \n",
       "width                     0.738137  \n",
       "height                    0.083821  \n",
       "curb-weight               0.837088  \n",
       "engine-size               0.784091  \n",
       "bore                      0.561181  \n",
       "stroke                    0.053419  \n",
       "compression-ratio        -0.224516  \n",
       "horsepower                0.840939  \n",
       "peak-rpm                  0.017741  \n",
       "city-mpg                 -0.910710  \n",
       "highway-mpg              -0.951299  \n",
       "price                     0.801059  \n",
       "city-L/100km              0.958945  \n",
       "highway-L/100km           1.000000  "
      ]
     },
     "execution_count": 7,
     "metadata": {},
     "output_type": "execute_result"
    }
   ],
   "source": [
    "# df.corr?\n",
    "df.corr()"
   ]
  },
  {
   "cell_type": "code",
   "execution_count": 8,
   "metadata": {},
   "outputs": [],
   "source": [
    "# print the correlation of the column price with all others\n",
    "# ..."
   ]
  },
  {
   "cell_type": "markdown",
   "metadata": {},
   "source": [
    "<font color=blue>Click here for **Solution**\n",
    "<!--\n",
    "df.corr()['price']  -->"
   ]
  },
  {
   "cell_type": "markdown",
   "metadata": {},
   "source": [
    "**Seaborn** offers fast and easy plots for heatmaps, regplot and much more. Check the documentation for more information."
   ]
  },
  {
   "cell_type": "code",
   "execution_count": 9,
   "metadata": {},
   "outputs": [
    {
     "data": {
      "image/png": "[encoded data removed]",
      "text/plain": [
       "<Figure size 432x288 with 2 Axes>"
      ]
     },
     "metadata": {
      "needs_background": "light"
     },
     "output_type": "display_data"
    }
   ],
   "source": [
    "sns.heatmap(df.corr(), cmap='RdBu');"
   ]
  },
  {
   "cell_type": "code",
   "execution_count": 10,
   "metadata": {},
   "outputs": [
    {
     "data": {
      "text/plain": [
       "<matplotlib.axes._subplots.AxesSubplot at 0x1a199be590>"
      ]
     },
     "execution_count": 10,
     "metadata": {},
     "output_type": "execute_result"
    },
    {
     "data": {
      "image/png": "[encoded data removed]",
      "text/plain": [
       "<Figure size 432x288 with 2 Axes>"
      ]
     },
     "metadata": {
      "needs_background": "light"
     },
     "output_type": "display_data"
    }
   ],
   "source": [
    "sns.heatmap(df[['price', 'bore', 'stroke', 'compression-ratio',\n",
    "                'horsepower', 'engine-size', 'highway-mpg']].corr(), cmap='RdBu')"
   ]
  },
  {
   "cell_type": "markdown",
   "metadata": {},
   "source": [
    "Continuous numerical variables are variables that may contain any value within some range. Numerical variables can have the type \"int64\" or \"float64\". A great way to visualize these variables is by using scatterplots with fitted lines."
   ]
  },
  {
   "cell_type": "code",
   "execution_count": 11,
   "metadata": {},
   "outputs": [
    {
     "data": {
      "image/png": "[encoded data removed]",
      "text/plain": [
       "<Figure size 432x288 with 1 Axes>"
      ]
     },
     "metadata": {
      "needs_background": "light"
     },
     "output_type": "display_data"
    }
   ],
   "source": [
    "df.plot(kind='scatter', x='engine-size', y = 'price');"
   ]
  },
  {
   "cell_type": "markdown",
   "metadata": {},
   "source": [
    "**Seaborn** is nice to analyse quickly linear relationship. In order to start understanding the (linear) relationship between an individual variable and the price. We can do this by using <code>sns.regplot()</code>, which plots the scatterplot plus the fitted regression line for the data.</p>"
   ]
  },
  {
   "cell_type": "code",
   "execution_count": 12,
   "metadata": {},
   "outputs": [
    {
     "data": {
      "image/png": "[encoded data removed]",
      "text/plain": [
       "<Figure size 432x288 with 1 Axes>"
      ]
     },
     "metadata": {
      "needs_background": "light"
     },
     "output_type": "display_data"
    }
   ],
   "source": [
    "# Engine size as potential predictor variable of price\n",
    "# https://seaborn.pydata.org/tutorial/regression.html#regression-tutorial\n",
    "sns.regplot(x=\"engine-size\", y=\"price\", data=df);"
   ]
  },
  {
   "cell_type": "markdown",
   "metadata": {},
   "source": [
    "As the engine-size goes up, the price goes up: this indicates a positive direct correlation between these two variables. Engine size seems like a pretty good predictor of price since the regression line is almost a perfect diagonal line.  \n",
    "We can examine the correlation between 'engine-size' and 'price' and see it's approximately  0.87."
   ]
  },
  {
   "cell_type": "code",
   "execution_count": 13,
   "metadata": {},
   "outputs": [
    {
     "data": {
      "text/html": [
       "<div>\n",
       "<style scoped>\n",
       "    .dataframe tbody tr th:only-of-type {\n",
       "        vertical-align: middle;\n",
       "    }\n",
       "\n",
       "    .dataframe tbody tr th {\n",
       "        vertical-align: top;\n",
       "    }\n",
       "\n",
       "    .dataframe thead th {\n",
       "        text-align: right;\n",
       "    }\n",
       "</style>\n",
       "<table border=\"1\" class=\"dataframe\">\n",
       "  <thead>\n",
       "    <tr style=\"text-align: right;\">\n",
       "      <th></th>\n",
       "      <th>engine-size</th>\n",
       "      <th>price</th>\n",
       "    </tr>\n",
       "  </thead>\n",
       "  <tbody>\n",
       "    <tr>\n",
       "      <th>engine-size</th>\n",
       "      <td>1.000000</td>\n",
       "      <td>0.873887</td>\n",
       "    </tr>\n",
       "    <tr>\n",
       "      <th>price</th>\n",
       "      <td>0.873887</td>\n",
       "      <td>1.000000</td>\n",
       "    </tr>\n",
       "  </tbody>\n",
       "</table>\n",
       "</div>"
      ],
      "text/plain": [
       "             engine-size     price\n",
       "engine-size     1.000000  0.873887\n",
       "price           0.873887  1.000000"
      ]
     },
     "execution_count": 13,
     "metadata": {},
     "output_type": "execute_result"
    }
   ],
   "source": [
    "df[[\"engine-size\", \"price\"]].corr()"
   ]
  },
  {
   "cell_type": "markdown",
   "metadata": {},
   "source": [
    "Highway mpg is a potential predictor variable of price. Negative relation."
   ]
  },
  {
   "cell_type": "code",
   "execution_count": 14,
   "metadata": {},
   "outputs": [],
   "source": [
    "# plot the regplot of 'highway-mpg' and 'price'\n",
    "# ...\n",
    "#  ..."
   ]
  },
  {
   "cell_type": "markdown",
   "metadata": {},
   "source": [
    "<font color=blue>Click here for **Solution**\n",
    "<!--sns.regplot(x='highway-mpg', y='price', data=df);-->\n"
   ]
  },
  {
   "cell_type": "markdown",
   "metadata": {},
   "source": [
    "**Weak Linear Relationship**"
   ]
  },
  {
   "cell_type": "markdown",
   "metadata": {},
   "source": [
    "Let's see if \"Peak-rpm\" as a predictor variable of \"price\"."
   ]
  },
  {
   "cell_type": "code",
   "execution_count": 15,
   "metadata": {
    "collapsed": false,
    "jupyter": {
     "outputs_hidden": false
    }
   },
   "outputs": [
    {
     "data": {
      "image/png": "[encoded data removed]",
      "text/plain": [
       "<Figure size 432x288 with 1 Axes>"
      ]
     },
     "metadata": {
      "needs_background": "light"
     },
     "output_type": "display_data"
    }
   ],
   "source": [
    "sns.regplot(x=\"peak-rpm\", y=\"price\", data=df);"
   ]
  },
  {
   "cell_type": "markdown",
   "metadata": {},
   "source": [
    "Peak rpm does not seem like a good predictor of the price at all since the regression line is close to horizontal. Also, the data points are very scattered and far from the fitted line, showing lots of variability. Therefore it's it is not a reliable variable."
   ]
  },
  {
   "cell_type": "markdown",
   "metadata": {},
   "source": [
    "We can examine the correlation between 'peak-rpm' and 'price' and see it's approximately -0.101616. "
   ]
  },
  {
   "cell_type": "code",
   "execution_count": 16,
   "metadata": {
    "collapsed": false,
    "jupyter": {
     "outputs_hidden": false
    }
   },
   "outputs": [
    {
     "data": {
      "text/html": [
       "<div>\n",
       "<style scoped>\n",
       "    .dataframe tbody tr th:only-of-type {\n",
       "        vertical-align: middle;\n",
       "    }\n",
       "\n",
       "    .dataframe tbody tr th {\n",
       "        vertical-align: top;\n",
       "    }\n",
       "\n",
       "    .dataframe thead th {\n",
       "        text-align: right;\n",
       "    }\n",
       "</style>\n",
       "<table border=\"1\" class=\"dataframe\">\n",
       "  <thead>\n",
       "    <tr style=\"text-align: right;\">\n",
       "      <th></th>\n",
       "      <th>peak-rpm</th>\n",
       "      <th>price</th>\n",
       "    </tr>\n",
       "  </thead>\n",
       "  <tbody>\n",
       "    <tr>\n",
       "      <th>peak-rpm</th>\n",
       "      <td>1.000000</td>\n",
       "      <td>-0.101649</td>\n",
       "    </tr>\n",
       "    <tr>\n",
       "      <th>price</th>\n",
       "      <td>-0.101649</td>\n",
       "      <td>1.000000</td>\n",
       "    </tr>\n",
       "  </tbody>\n",
       "</table>\n",
       "</div>"
      ],
      "text/plain": [
       "          peak-rpm     price\n",
       "peak-rpm  1.000000 -0.101649\n",
       "price    -0.101649  1.000000"
      ]
     },
     "execution_count": 16,
     "metadata": {},
     "output_type": "execute_result"
    }
   ],
   "source": [
    "df[['peak-rpm','price']].corr()"
   ]
  },
  {
   "cell_type": "markdown",
   "metadata": {},
   "source": [
    "## What to do with categorical data?"
   ]
  },
  {
   "cell_type": "markdown",
   "metadata": {},
   "source": [
    "These are variables that describe a 'characteristic' of a data unit, and are selected from a small group of categories. The categorical variables can have the type \"object\" or \"int64\". A good way to visualize categorical variables is by using boxplots."
   ]
  },
  {
   "cell_type": "code",
   "execution_count": 17,
   "metadata": {},
   "outputs": [
    {
     "data": {
      "text/html": [
       "<div>\n",
       "<style scoped>\n",
       "    .dataframe tbody tr th:only-of-type {\n",
       "        vertical-align: middle;\n",
       "    }\n",
       "\n",
       "    .dataframe tbody tr th {\n",
       "        vertical-align: top;\n",
       "    }\n",
       "\n",
       "    .dataframe thead th {\n",
       "        text-align: right;\n",
       "    }\n",
       "</style>\n",
       "<table border=\"1\" class=\"dataframe\">\n",
       "  <thead>\n",
       "    <tr style=\"text-align: right;\">\n",
       "      <th></th>\n",
       "      <th>make</th>\n",
       "      <th>fuel-type</th>\n",
       "      <th>aspiration</th>\n",
       "      <th>num-of-doors</th>\n",
       "      <th>body-style</th>\n",
       "      <th>drive-wheels</th>\n",
       "      <th>engine-location</th>\n",
       "      <th>engine-type</th>\n",
       "      <th>num-of-cylinders</th>\n",
       "      <th>fuel-system</th>\n",
       "    </tr>\n",
       "  </thead>\n",
       "  <tbody>\n",
       "    <tr>\n",
       "      <th>count</th>\n",
       "      <td>199</td>\n",
       "      <td>199</td>\n",
       "      <td>199</td>\n",
       "      <td>199</td>\n",
       "      <td>199</td>\n",
       "      <td>199</td>\n",
       "      <td>199</td>\n",
       "      <td>199</td>\n",
       "      <td>199</td>\n",
       "      <td>199</td>\n",
       "    </tr>\n",
       "    <tr>\n",
       "      <th>unique</th>\n",
       "      <td>21</td>\n",
       "      <td>2</td>\n",
       "      <td>2</td>\n",
       "      <td>2</td>\n",
       "      <td>5</td>\n",
       "      <td>3</td>\n",
       "      <td>2</td>\n",
       "      <td>6</td>\n",
       "      <td>7</td>\n",
       "      <td>8</td>\n",
       "    </tr>\n",
       "    <tr>\n",
       "      <th>top</th>\n",
       "      <td>toyota</td>\n",
       "      <td>gas</td>\n",
       "      <td>std</td>\n",
       "      <td>four</td>\n",
       "      <td>sedan</td>\n",
       "      <td>fwd</td>\n",
       "      <td>front</td>\n",
       "      <td>ohc</td>\n",
       "      <td>four</td>\n",
       "      <td>mpfi</td>\n",
       "    </tr>\n",
       "    <tr>\n",
       "      <th>freq</th>\n",
       "      <td>32</td>\n",
       "      <td>179</td>\n",
       "      <td>163</td>\n",
       "      <td>114</td>\n",
       "      <td>94</td>\n",
       "      <td>116</td>\n",
       "      <td>196</td>\n",
       "      <td>143</td>\n",
       "      <td>155</td>\n",
       "      <td>90</td>\n",
       "    </tr>\n",
       "  </tbody>\n",
       "</table>\n",
       "</div>"
      ],
      "text/plain": [
       "          make fuel-type aspiration num-of-doors body-style drive-wheels  \\\n",
       "count      199       199        199          199        199          199   \n",
       "unique      21         2          2            2          5            3   \n",
       "top     toyota       gas        std         four      sedan          fwd   \n",
       "freq        32       179        163          114         94          116   \n",
       "\n",
       "       engine-location engine-type num-of-cylinders fuel-system  \n",
       "count              199         199              199         199  \n",
       "unique               2           6                7           8  \n",
       "top              front         ohc             four        mpfi  \n",
       "freq               196         143              155          90  "
      ]
     },
     "execution_count": 17,
     "metadata": {},
     "output_type": "execute_result"
    }
   ],
   "source": [
    "# this also includes categorical columns\n",
    "df.describe(include='object')\n",
    "# df.describe(include='all')"
   ]
  },
  {
   "cell_type": "markdown",
   "metadata": {},
   "source": [
    "**Look at distributions**"
   ]
  },
  {
   "cell_type": "code",
   "execution_count": 18,
   "metadata": {},
   "outputs": [
    {
     "data": {
      "text/plain": [
       "toyota           32\n",
       "nissan           18\n",
       "mazda            17\n",
       "honda            13\n",
       "mitsubishi       13\n",
       "volkswagen       12\n",
       "subaru           12\n",
       "volvo            11\n",
       "peugot           11\n",
       "dodge             9\n",
       "bmw               8\n",
       "mercedes-benz     8\n",
       "plymouth          7\n",
       "audi              6\n",
       "saab              6\n",
       "porsche           4\n",
       "jaguar            3\n",
       "chevrolet         3\n",
       "alfa-romero       3\n",
       "isuzu             2\n",
       "mercury           1\n",
       "Name: make, dtype: int64"
      ]
     },
     "execution_count": 18,
     "metadata": {},
     "output_type": "execute_result"
    }
   ],
   "source": [
    "# how to plot them?\n",
    "df['make'].value_counts()\n",
    "\n",
    "# plot a bar plot to visualize the distribution of each car brand in our data set\n",
    "# ...\n",
    "#  ..."
   ]
  },
  {
   "cell_type": "markdown",
   "metadata": {},
   "source": [
    "<font color=blue>Click here for **Solution**\n",
    "<!-- df['make'].value_counts().plot(kind='bar') -->"
   ]
  },
  {
   "cell_type": "markdown",
   "metadata": {},
   "source": [
    "### Relationship between categorical variable and numerical "
   ]
  },
  {
   "cell_type": "markdown",
   "metadata": {},
   "source": [
    "**Boxplot**\n",
    "Boxplots are a great way to visualize numeric data, since you can visualize the various distributions of the data.  \n",
    "<img src='img/boxplot.png'>  \n",
    "The main features that the boxplot shows the “median” of the data, which represents where the middle datapoint is. The Upper Quartile shows where the ”75th percentile” is, the Lower Quartile shows where the “25th percentile” is. The data between the Upper and Lower Quartile represents the Interquartile Range(IQR). Next, you have the Lower and Upper Extremes. These are calculated as 1.5 times the interquartile range above the 75th percentile, and as 1.5 times the IQR below the 25th percentile.\n",
    "Finally, boxplots also display “outliers” as individual dots that occur outside the upper and lower extremes. With boxplots, you can easily spot outliers\n",
    "and also see the distribution and skewness of the data."
   ]
  },
  {
   "cell_type": "markdown",
   "metadata": {},
   "source": [
    "Let's look at the relationship between \"body-style\" and \"price\". (less messy than 'make'[later])"
   ]
  },
  {
   "cell_type": "code",
   "execution_count": 19,
   "metadata": {},
   "outputs": [
    {
     "data": {
      "image/png": "[encoded data removed]",
      "text/plain": [
       "<Figure size 432x288 with 1 Axes>"
      ]
     },
     "metadata": {
      "needs_background": "light"
     },
     "output_type": "display_data"
    }
   ],
   "source": [
    "sns.boxplot(x=\"body-style\", y=\"price\", data=df);"
   ]
  },
  {
   "cell_type": "markdown",
   "metadata": {},
   "source": [
    "We see that the distributions of price between the different body-style categories have a significant overlap, and so body-style would not be a good predictor of price. Let's examine engine \"engine-location\" and \"price\":"
   ]
  },
  {
   "cell_type": "code",
   "execution_count": 20,
   "metadata": {},
   "outputs": [
    {
     "data": {
      "image/png": "[encoded data removed]",
      "text/plain": [
       "<Figure size 432x288 with 1 Axes>"
      ]
     },
     "metadata": {
      "needs_background": "light"
     },
     "output_type": "display_data"
    }
   ],
   "source": [
    "sns.boxplot(x=\"engine-location\", y=\"price\", data=df);"
   ]
  },
  {
   "cell_type": "markdown",
   "metadata": {},
   "source": [
    "Here we see that the distribution of price between these two engine-location categories, front and rear, are distinct enough to take engine-location as a potential good predictor of price."
   ]
  },
  {
   "cell_type": "code",
   "execution_count": 21,
   "metadata": {},
   "outputs": [
    {
     "data": {
      "image/png": "[encoded data removed]",
      "text/plain": [
       "<Figure size 842.4x595.44 with 1 Axes>"
      ]
     },
     "metadata": {
      "needs_background": "light"
     },
     "output_type": "display_data"
    }
   ],
   "source": [
    "fig, ax = plt.subplots()\n",
    "fig.set_size_inches(11.7, 8.27)\n",
    "\n",
    "ax = sns.boxplot(x=\"make\", y=\"price\", data=df , ax = ax)\n",
    "ax.set_xticklabels(ax.get_xticklabels(), rotation=90);"
   ]
  },
  {
   "cell_type": "markdown",
   "metadata": {},
   "source": [
    " Let's examine \"drive-wheels\" and \"price\"."
   ]
  },
  {
   "cell_type": "code",
   "execution_count": 22,
   "metadata": {
    "collapsed": false,
    "jupyter": {
     "outputs_hidden": false
    }
   },
   "outputs": [
    {
     "data": {
      "image/png": "[encoded data removed]",
      "text/plain": [
       "<Figure size 432x288 with 1 Axes>"
      ]
     },
     "metadata": {
      "needs_background": "light"
     },
     "output_type": "display_data"
    }
   ],
   "source": [
    "# drive-wheels\n",
    "sns.boxplot(x=\"drive-wheels\", y=\"price\", data=df);"
   ]
  },
  {
   "cell_type": "markdown",
   "metadata": {},
   "source": [
    "Here we see that the distribution of price between the different drive-wheels categories differs; as such drive-wheels could potentially be a predictor of price."
   ]
  },
  {
   "cell_type": "markdown",
   "metadata": {},
   "source": [
    "<h3>Value Counts</h3>"
   ]
  },
  {
   "cell_type": "markdown",
   "metadata": {},
   "source": [
    "Value-counts is a good way of understanding how many units of each characteristic/variable we have. We can apply the \"value_counts\" method on the column 'drive-wheels'. Don’t forget the method \"value_counts\" only works on Pandas series, not Pandas Dataframes. As a result, we only include one bracket \"df['drive-wheels']\" not two brackets \"df[['drive-wheels']]\"."
   ]
  },
  {
   "cell_type": "code",
   "execution_count": 23,
   "metadata": {
    "collapsed": false,
    "jupyter": {
     "outputs_hidden": false
    }
   },
   "outputs": [
    {
     "data": {
      "text/plain": [
       "fwd    116\n",
       "rwd     75\n",
       "4wd      8\n",
       "Name: drive-wheels, dtype: int64"
      ]
     },
     "execution_count": 23,
     "metadata": {},
     "output_type": "execute_result"
    }
   ],
   "source": [
    "df['drive-wheels'].value_counts()"
   ]
  },
  {
   "cell_type": "markdown",
   "metadata": {},
   "source": [
    "We can convert the series to a Dataframe as follows :"
   ]
  },
  {
   "cell_type": "code",
   "execution_count": 24,
   "metadata": {
    "collapsed": false,
    "jupyter": {
     "outputs_hidden": false
    }
   },
   "outputs": [
    {
     "data": {
      "text/html": [
       "<div>\n",
       "<style scoped>\n",
       "    .dataframe tbody tr th:only-of-type {\n",
       "        vertical-align: middle;\n",
       "    }\n",
       "\n",
       "    .dataframe tbody tr th {\n",
       "        vertical-align: top;\n",
       "    }\n",
       "\n",
       "    .dataframe thead th {\n",
       "        text-align: right;\n",
       "    }\n",
       "</style>\n",
       "<table border=\"1\" class=\"dataframe\">\n",
       "  <thead>\n",
       "    <tr style=\"text-align: right;\">\n",
       "      <th></th>\n",
       "      <th>drive-wheels</th>\n",
       "    </tr>\n",
       "  </thead>\n",
       "  <tbody>\n",
       "    <tr>\n",
       "      <th>fwd</th>\n",
       "      <td>116</td>\n",
       "    </tr>\n",
       "    <tr>\n",
       "      <th>rwd</th>\n",
       "      <td>75</td>\n",
       "    </tr>\n",
       "    <tr>\n",
       "      <th>4wd</th>\n",
       "      <td>8</td>\n",
       "    </tr>\n",
       "  </tbody>\n",
       "</table>\n",
       "</div>"
      ],
      "text/plain": [
       "     drive-wheels\n",
       "fwd           116\n",
       "rwd            75\n",
       "4wd             8"
      ]
     },
     "execution_count": 24,
     "metadata": {},
     "output_type": "execute_result"
    }
   ],
   "source": [
    "df['drive-wheels'].value_counts().to_frame()"
   ]
  },
  {
   "cell_type": "code",
   "execution_count": 25,
   "metadata": {
    "collapsed": false,
    "jupyter": {
     "outputs_hidden": false
    }
   },
   "outputs": [
    {
     "data": {
      "text/html": [
       "<div>\n",
       "<style scoped>\n",
       "    .dataframe tbody tr th:only-of-type {\n",
       "        vertical-align: middle;\n",
       "    }\n",
       "\n",
       "    .dataframe tbody tr th {\n",
       "        vertical-align: top;\n",
       "    }\n",
       "\n",
       "    .dataframe thead th {\n",
       "        text-align: right;\n",
       "    }\n",
       "</style>\n",
       "<table border=\"1\" class=\"dataframe\">\n",
       "  <thead>\n",
       "    <tr style=\"text-align: right;\">\n",
       "      <th></th>\n",
       "      <th>value_counts</th>\n",
       "    </tr>\n",
       "    <tr>\n",
       "      <th>engine-location</th>\n",
       "      <th></th>\n",
       "    </tr>\n",
       "  </thead>\n",
       "  <tbody>\n",
       "    <tr>\n",
       "      <th>front</th>\n",
       "      <td>196</td>\n",
       "    </tr>\n",
       "    <tr>\n",
       "      <th>rear</th>\n",
       "      <td>3</td>\n",
       "    </tr>\n",
       "  </tbody>\n",
       "</table>\n",
       "</div>"
      ],
      "text/plain": [
       "                 value_counts\n",
       "engine-location              \n",
       "front                     196\n",
       "rear                        3"
      ]
     },
     "execution_count": 25,
     "metadata": {},
     "output_type": "execute_result"
    }
   ],
   "source": [
    "# engine-location as variable\n",
    "engine_loc_counts = df['engine-location'].value_counts().to_frame()\n",
    "engine_loc_counts.rename(columns={'engine-location': 'value_counts'}, inplace=True)\n",
    "engine_loc_counts.index.name = 'engine-location'\n",
    "engine_loc_counts"
   ]
  },
  {
   "cell_type": "markdown",
   "metadata": {},
   "source": [
    "Examining the value counts of the engine location would not be a good predictor variable for the price. This is because we only have three cars with a rear engine and 198 with an engine in the front, this result is skewed. Thus, we are not able to draw any conclusions about the engine location."
   ]
  },
  {
   "cell_type": "markdown",
   "metadata": {},
   "source": [
    "### Basics of Grouping"
   ]
  },
  {
   "cell_type": "markdown",
   "metadata": {},
   "source": [
    "The <code>.groupby()</code> method groups data by different categories. The data is grouped based on one or several variables and analysis is performed on the individual groups.  \n",
    "\n",
    "For example, let’s group by the variable 'drive-wheels'. We see that there are 3 different categories of drive wheels."
   ]
  },
  {
   "cell_type": "code",
   "execution_count": 26,
   "metadata": {
    "collapsed": false,
    "jupyter": {
     "outputs_hidden": false
    }
   },
   "outputs": [
    {
     "data": {
      "text/plain": [
       "array(['rwd', 'fwd', '4wd'], dtype=object)"
      ]
     },
     "execution_count": 26,
     "metadata": {},
     "output_type": "execute_result"
    }
   ],
   "source": [
    "df['drive-wheels'].unique()"
   ]
  },
  {
   "cell_type": "markdown",
   "metadata": {},
   "source": [
    "<p>If we want to know, on average, which type of drive wheel is most valuable, we can group \"drive-wheels\" and then average them.</p>\n",
    "\n",
    "<p>We can select the columns 'drive-wheels', 'body-style' and 'price', then assign it to the variable \"df_group_one\".</p>"
   ]
  },
  {
   "cell_type": "code",
   "execution_count": 27,
   "metadata": {},
   "outputs": [
    {
     "data": {
      "text/html": [
       "<div>\n",
       "<style scoped>\n",
       "    .dataframe tbody tr th:only-of-type {\n",
       "        vertical-align: middle;\n",
       "    }\n",
       "\n",
       "    .dataframe tbody tr th {\n",
       "        vertical-align: top;\n",
       "    }\n",
       "\n",
       "    .dataframe thead th {\n",
       "        text-align: right;\n",
       "    }\n",
       "</style>\n",
       "<table border=\"1\" class=\"dataframe\">\n",
       "  <thead>\n",
       "    <tr style=\"text-align: right;\">\n",
       "      <th></th>\n",
       "      <th>drive-wheels</th>\n",
       "      <th>body-style</th>\n",
       "      <th>price</th>\n",
       "    </tr>\n",
       "  </thead>\n",
       "  <tbody>\n",
       "    <tr>\n",
       "      <th>0</th>\n",
       "      <td>rwd</td>\n",
       "      <td>convertible</td>\n",
       "      <td>13495.0</td>\n",
       "    </tr>\n",
       "    <tr>\n",
       "      <th>1</th>\n",
       "      <td>rwd</td>\n",
       "      <td>convertible</td>\n",
       "      <td>16500.0</td>\n",
       "    </tr>\n",
       "    <tr>\n",
       "      <th>2</th>\n",
       "      <td>rwd</td>\n",
       "      <td>hatchback</td>\n",
       "      <td>16500.0</td>\n",
       "    </tr>\n",
       "    <tr>\n",
       "      <th>3</th>\n",
       "      <td>fwd</td>\n",
       "      <td>sedan</td>\n",
       "      <td>13950.0</td>\n",
       "    </tr>\n",
       "    <tr>\n",
       "      <th>4</th>\n",
       "      <td>4wd</td>\n",
       "      <td>sedan</td>\n",
       "      <td>17450.0</td>\n",
       "    </tr>\n",
       "    <tr>\n",
       "      <th>5</th>\n",
       "      <td>fwd</td>\n",
       "      <td>sedan</td>\n",
       "      <td>15250.0</td>\n",
       "    </tr>\n",
       "    <tr>\n",
       "      <th>6</th>\n",
       "      <td>fwd</td>\n",
       "      <td>sedan</td>\n",
       "      <td>17710.0</td>\n",
       "    </tr>\n",
       "  </tbody>\n",
       "</table>\n",
       "</div>"
      ],
      "text/plain": [
       "  drive-wheels   body-style    price\n",
       "0          rwd  convertible  13495.0\n",
       "1          rwd  convertible  16500.0\n",
       "2          rwd    hatchback  16500.0\n",
       "3          fwd        sedan  13950.0\n",
       "4          4wd        sedan  17450.0\n",
       "5          fwd        sedan  15250.0\n",
       "6          fwd        sedan  17710.0"
      ]
     },
     "execution_count": 27,
     "metadata": {},
     "output_type": "execute_result"
    }
   ],
   "source": [
    "df_group_one = df[['drive-wheels', 'body-style', 'price']]\n",
    "df_group_one.head(7)"
   ]
  },
  {
   "cell_type": "markdown",
   "metadata": {},
   "source": [
    "We can then calculate the average price for each of the different categories of data."
   ]
  },
  {
   "cell_type": "code",
   "execution_count": 28,
   "metadata": {
    "collapsed": false,
    "jupyter": {
     "outputs_hidden": false
    }
   },
   "outputs": [
    {
     "data": {
      "text/html": [
       "<div>\n",
       "<style scoped>\n",
       "    .dataframe tbody tr th:only-of-type {\n",
       "        vertical-align: middle;\n",
       "    }\n",
       "\n",
       "    .dataframe tbody tr th {\n",
       "        vertical-align: top;\n",
       "    }\n",
       "\n",
       "    .dataframe thead th {\n",
       "        text-align: right;\n",
       "    }\n",
       "</style>\n",
       "<table border=\"1\" class=\"dataframe\">\n",
       "  <thead>\n",
       "    <tr style=\"text-align: right;\">\n",
       "      <th></th>\n",
       "      <th>price</th>\n",
       "    </tr>\n",
       "    <tr>\n",
       "      <th>drive-wheels</th>\n",
       "      <th></th>\n",
       "    </tr>\n",
       "  </thead>\n",
       "  <tbody>\n",
       "    <tr>\n",
       "      <th>4wd</th>\n",
       "      <td>10241.000000</td>\n",
       "    </tr>\n",
       "    <tr>\n",
       "      <th>fwd</th>\n",
       "      <td>9238.741379</td>\n",
       "    </tr>\n",
       "    <tr>\n",
       "      <th>rwd</th>\n",
       "      <td>19757.613333</td>\n",
       "    </tr>\n",
       "  </tbody>\n",
       "</table>\n",
       "</div>"
      ],
      "text/plain": [
       "                     price\n",
       "drive-wheels              \n",
       "4wd           10241.000000\n",
       "fwd            9238.741379\n",
       "rwd           19757.613333"
      ]
     },
     "execution_count": 28,
     "metadata": {},
     "output_type": "execute_result"
    }
   ],
   "source": [
    "# grouping results\n",
    "df_group_one = df_group_one.groupby(['drive-wheels']).mean()\n",
    "df_group_one"
   ]
  },
  {
   "cell_type": "markdown",
   "metadata": {},
   "source": [
    "From our data, it seems rear-wheel drive vehicles are, on average, the most expensive, while 4-wheel and front-wheel are approximately the same in price."
   ]
  },
  {
   "cell_type": "code",
   "execution_count": 29,
   "metadata": {},
   "outputs": [],
   "source": [
    "# plot the mean price for each car brand ('make') as a bar plot\n",
    "#  ...\n",
    "# ...\n"
   ]
  },
  {
   "cell_type": "markdown",
   "metadata": {},
   "source": [
    "<font color=blue>Click here for **Solution**\n",
    "<!--df[['make','price']].groupby(['make']).mean().sort_values(['price'],ascending=False).plot(kind='bar'); -->"
   ]
  },
  {
   "cell_type": "markdown",
   "metadata": {},
   "source": [
    "You can also group with multiple variables. For example, let's group by both 'drive-wheels' and 'body-style'. This groups the dataframe by the unique combinations 'drive-wheels' and 'body-style'. We can store the results in the variable 'grouped_test1'."
   ]
  },
  {
   "cell_type": "code",
   "execution_count": 30,
   "metadata": {
    "collapsed": false,
    "jupyter": {
     "outputs_hidden": false
    }
   },
   "outputs": [
    {
     "data": {
      "text/html": [
       "<div>\n",
       "<style scoped>\n",
       "    .dataframe tbody tr th:only-of-type {\n",
       "        vertical-align: middle;\n",
       "    }\n",
       "\n",
       "    .dataframe tbody tr th {\n",
       "        vertical-align: top;\n",
       "    }\n",
       "\n",
       "    .dataframe thead th {\n",
       "        text-align: right;\n",
       "    }\n",
       "</style>\n",
       "<table border=\"1\" class=\"dataframe\">\n",
       "  <thead>\n",
       "    <tr style=\"text-align: right;\">\n",
       "      <th></th>\n",
       "      <th>drive-wheels</th>\n",
       "      <th>body-style</th>\n",
       "      <th>price</th>\n",
       "    </tr>\n",
       "  </thead>\n",
       "  <tbody>\n",
       "    <tr>\n",
       "      <th>0</th>\n",
       "      <td>4wd</td>\n",
       "      <td>hatchback</td>\n",
       "      <td>7603.000000</td>\n",
       "    </tr>\n",
       "    <tr>\n",
       "      <th>1</th>\n",
       "      <td>4wd</td>\n",
       "      <td>sedan</td>\n",
       "      <td>12647.333333</td>\n",
       "    </tr>\n",
       "    <tr>\n",
       "      <th>2</th>\n",
       "      <td>4wd</td>\n",
       "      <td>wagon</td>\n",
       "      <td>9095.750000</td>\n",
       "    </tr>\n",
       "    <tr>\n",
       "      <th>3</th>\n",
       "      <td>fwd</td>\n",
       "      <td>convertible</td>\n",
       "      <td>11595.000000</td>\n",
       "    </tr>\n",
       "    <tr>\n",
       "      <th>4</th>\n",
       "      <td>fwd</td>\n",
       "      <td>hardtop</td>\n",
       "      <td>8249.000000</td>\n",
       "    </tr>\n",
       "    <tr>\n",
       "      <th>5</th>\n",
       "      <td>fwd</td>\n",
       "      <td>hatchback</td>\n",
       "      <td>8365.166667</td>\n",
       "    </tr>\n",
       "    <tr>\n",
       "      <th>6</th>\n",
       "      <td>fwd</td>\n",
       "      <td>sedan</td>\n",
       "      <td>9811.800000</td>\n",
       "    </tr>\n",
       "    <tr>\n",
       "      <th>7</th>\n",
       "      <td>fwd</td>\n",
       "      <td>wagon</td>\n",
       "      <td>10061.181818</td>\n",
       "    </tr>\n",
       "    <tr>\n",
       "      <th>8</th>\n",
       "      <td>rwd</td>\n",
       "      <td>convertible</td>\n",
       "      <td>23949.600000</td>\n",
       "    </tr>\n",
       "    <tr>\n",
       "      <th>9</th>\n",
       "      <td>rwd</td>\n",
       "      <td>hardtop</td>\n",
       "      <td>24202.714286</td>\n",
       "    </tr>\n",
       "    <tr>\n",
       "      <th>10</th>\n",
       "      <td>rwd</td>\n",
       "      <td>hatchback</td>\n",
       "      <td>14337.777778</td>\n",
       "    </tr>\n",
       "    <tr>\n",
       "      <th>11</th>\n",
       "      <td>rwd</td>\n",
       "      <td>sedan</td>\n",
       "      <td>21711.833333</td>\n",
       "    </tr>\n",
       "    <tr>\n",
       "      <th>12</th>\n",
       "      <td>rwd</td>\n",
       "      <td>wagon</td>\n",
       "      <td>16994.222222</td>\n",
       "    </tr>\n",
       "  </tbody>\n",
       "</table>\n",
       "</div>"
      ],
      "text/plain": [
       "   drive-wheels   body-style         price\n",
       "0           4wd    hatchback   7603.000000\n",
       "1           4wd        sedan  12647.333333\n",
       "2           4wd        wagon   9095.750000\n",
       "3           fwd  convertible  11595.000000\n",
       "4           fwd      hardtop   8249.000000\n",
       "5           fwd    hatchback   8365.166667\n",
       "6           fwd        sedan   9811.800000\n",
       "7           fwd        wagon  10061.181818\n",
       "8           rwd  convertible  23949.600000\n",
       "9           rwd      hardtop  24202.714286\n",
       "10          rwd    hatchback  14337.777778\n",
       "11          rwd        sedan  21711.833333\n",
       "12          rwd        wagon  16994.222222"
      ]
     },
     "execution_count": 30,
     "metadata": {},
     "output_type": "execute_result"
    }
   ],
   "source": [
    "# grouping results\n",
    "df_gptest = df[['drive-wheels', 'body-style', 'price']]\n",
    "grouped_test1 = df_gptest.groupby(['drive-wheels', 'body-style'], as_index=False).mean()\n",
    "grouped_test1"
   ]
  },
  {
   "cell_type": "markdown",
   "metadata": {},
   "source": [
    "<p>This grouped data is much easier to visualize when it is made into a pivot table. A pivot table is like an Excel spreadsheet, with one variable along the column and another along the row. We can convert the dataframe to a pivot table using the method \"pivot \" to create a pivot table from the groups.</p>\n",
    "\n",
    "<p>In this case, we will leave the drive-wheel variable as the rows of the table, and pivot body-style to become the columns of the table:</p>"
   ]
  },
  {
   "cell_type": "markdown",
   "metadata": {},
   "source": [
    "<p>Often, we won't have data for some of the pivot cells. We can fill these missing cells with the value 0, but any other value could potentially be used as well. It should be mentioned that missing data is quite a complex subject and is an entire course on its own.</p>"
   ]
  },
  {
   "cell_type": "code",
   "execution_count": 31,
   "metadata": {
    "collapsed": false,
    "jupyter": {
     "outputs_hidden": false
    },
    "scrolled": true
   },
   "outputs": [
    {
     "data": {
      "text/html": [
       "<div>\n",
       "<style scoped>\n",
       "    .dataframe tbody tr th:only-of-type {\n",
       "        vertical-align: middle;\n",
       "    }\n",
       "\n",
       "    .dataframe tbody tr th {\n",
       "        vertical-align: top;\n",
       "    }\n",
       "\n",
       "    .dataframe thead tr th {\n",
       "        text-align: left;\n",
       "    }\n",
       "\n",
       "    .dataframe thead tr:last-of-type th {\n",
       "        text-align: right;\n",
       "    }\n",
       "</style>\n",
       "<table border=\"1\" class=\"dataframe\">\n",
       "  <thead>\n",
       "    <tr>\n",
       "      <th></th>\n",
       "      <th colspan=\"5\" halign=\"left\">price</th>\n",
       "    </tr>\n",
       "    <tr>\n",
       "      <th>body-style</th>\n",
       "      <th>convertible</th>\n",
       "      <th>hardtop</th>\n",
       "      <th>hatchback</th>\n",
       "      <th>sedan</th>\n",
       "      <th>wagon</th>\n",
       "    </tr>\n",
       "    <tr>\n",
       "      <th>drive-wheels</th>\n",
       "      <th></th>\n",
       "      <th></th>\n",
       "      <th></th>\n",
       "      <th></th>\n",
       "      <th></th>\n",
       "    </tr>\n",
       "  </thead>\n",
       "  <tbody>\n",
       "    <tr>\n",
       "      <th>4wd</th>\n",
       "      <td>0.0</td>\n",
       "      <td>0.000000</td>\n",
       "      <td>7603.000000</td>\n",
       "      <td>12647.333333</td>\n",
       "      <td>9095.750000</td>\n",
       "    </tr>\n",
       "    <tr>\n",
       "      <th>fwd</th>\n",
       "      <td>11595.0</td>\n",
       "      <td>8249.000000</td>\n",
       "      <td>8365.166667</td>\n",
       "      <td>9811.800000</td>\n",
       "      <td>10061.181818</td>\n",
       "    </tr>\n",
       "    <tr>\n",
       "      <th>rwd</th>\n",
       "      <td>23949.6</td>\n",
       "      <td>24202.714286</td>\n",
       "      <td>14337.777778</td>\n",
       "      <td>21711.833333</td>\n",
       "      <td>16994.222222</td>\n",
       "    </tr>\n",
       "  </tbody>\n",
       "</table>\n",
       "</div>"
      ],
      "text/plain": [
       "                   price                                            \\\n",
       "body-style   convertible       hardtop     hatchback         sedan   \n",
       "drive-wheels                                                         \n",
       "4wd                  0.0      0.000000   7603.000000  12647.333333   \n",
       "fwd              11595.0   8249.000000   8365.166667   9811.800000   \n",
       "rwd              23949.6  24202.714286  14337.777778  21711.833333   \n",
       "\n",
       "                            \n",
       "body-style           wagon  \n",
       "drive-wheels                \n",
       "4wd            9095.750000  \n",
       "fwd           10061.181818  \n",
       "rwd           16994.222222  "
      ]
     },
     "execution_count": 31,
     "metadata": {},
     "output_type": "execute_result"
    }
   ],
   "source": [
    "grouped_pivot = grouped_test1.pivot(index='drive-wheels', columns='body-style')\n",
    "grouped_pivot = grouped_pivot.fillna(0) #fill missing values with 0\n",
    "grouped_pivot"
   ]
  },
  {
   "cell_type": "markdown",
   "metadata": {},
   "source": [
    "<font color=blue>Use the \"groupby\" function to find the average \"price\" of each car based on \"body-style\" ?"
   ]
  },
  {
   "cell_type": "code",
   "execution_count": 32,
   "metadata": {
    "collapsed": false,
    "jupyter": {
     "outputs_hidden": false
    }
   },
   "outputs": [],
   "source": [
    "# Write your code below and press Shift+Enter to execute \n"
   ]
  },
  {
   "cell_type": "markdown",
   "metadata": {},
   "source": [
    "<font color=blue>Double-click **here** for the solution.\n",
    "\n",
    "<!-- The answer is below:\n",
    "# grouping results\n",
    "df_gptest2 = df[['body-style','price']]\n",
    "grouped_test_bodystyle = df_gptest2.groupby(['body-style'],as_index= False).mean()\n",
    "grouped_test_bodystyle-->"
   ]
  },
  {
   "cell_type": "markdown",
   "metadata": {},
   "source": [
    "**Variables: Drive Wheels and Body Style vs Price**"
   ]
  },
  {
   "cell_type": "markdown",
   "metadata": {},
   "source": [
    "Let's use a heat map to visualize the relationship between Body Style vs Price."
   ]
  },
  {
   "cell_type": "code",
   "execution_count": 33,
   "metadata": {
    "collapsed": false,
    "jupyter": {
     "outputs_hidden": false
    }
   },
   "outputs": [
    {
     "data": {
      "image/png": "[encoded data removed]",
      "text/plain": [
       "<Figure size 432x288 with 2 Axes>"
      ]
     },
     "metadata": {
      "needs_background": "light"
     },
     "output_type": "display_data"
    }
   ],
   "source": [
    "#use the grouped results\n",
    "plt.pcolor(grouped_pivot, cmap='RdBu')\n",
    "plt.colorbar()\n",
    "plt.show()"
   ]
  },
  {
   "cell_type": "markdown",
   "metadata": {},
   "source": [
    "<p>The heatmap plots the target variable (price) proportional to colour with respect to the variables 'drive-wheel' and 'body-style' in the vertical and horizontal axis respectively. This allows us to visualize how the price is related to 'drive-wheel' and 'body-style'.</p>\n",
    "\n",
    "<p>The default labels convey no useful information to us. Let's change that:</p>"
   ]
  },
  {
   "cell_type": "code",
   "execution_count": 34,
   "metadata": {
    "collapsed": false,
    "jupyter": {
     "outputs_hidden": false
    }
   },
   "outputs": [
    {
     "data": {
      "image/png": "[encoded data removed]",
      "text/plain": [
       "<Figure size 432x288 with 2 Axes>"
      ]
     },
     "metadata": {
      "needs_background": "light"
     },
     "output_type": "display_data"
    }
   ],
   "source": [
    "fig, ax = plt.subplots()\n",
    "im = ax.pcolor(grouped_pivot, cmap='RdBu')\n",
    "\n",
    "#label names\n",
    "row_labels = grouped_pivot.columns.levels[1]\n",
    "col_labels = grouped_pivot.index\n",
    "\n",
    "#move ticks and labels to the center\n",
    "ax.set_xticks(np.arange(grouped_pivot.shape[1]) + 0.5, minor=False)\n",
    "ax.set_yticks(np.arange(grouped_pivot.shape[0]) + 0.5, minor=False)\n",
    "\n",
    "#insert labels\n",
    "ax.set_xticklabels(row_labels, minor=False)\n",
    "ax.set_yticklabels(col_labels, minor=False)\n",
    "\n",
    "#rotate label if too long\n",
    "plt.xticks(rotation=90)\n",
    "\n",
    "fig.colorbar(im)\n",
    "plt.show()"
   ]
  },
  {
   "cell_type": "markdown",
   "metadata": {},
   "source": [
    "Visualization is very important in data science, and Python visualization packages provide great freedom. We will go more in-depth in a separate Python Visualizations course. (**Maybe?**) \n",
    "\n",
    "The main question we want to answer in this Notebook, is \"What are the main characteristics which have the most impact on the car price?\".  \n",
    "\n",
    "To get a better measure of the important characteristics, we look at the correlation of these variables with the car price, in other words: how is the car price dependent on this variable?"
   ]
  },
  {
   "cell_type": "markdown",
   "metadata": {},
   "source": [
    "## Correlation and **P-value**"
   ]
  },
  {
   "cell_type": "markdown",
   "metadata": {},
   "source": [
    "**Correlation**: a measure of the extent of interdependence between variables."
   ]
  },
  {
   "cell_type": "markdown",
   "metadata": {},
   "source": [
    "### Pearson Correlation\n",
    "The Pearson Correlation measures the linear dependence between two variables X and Y.  \n",
    "The resulting coefficient is a value between -1 and 1 inclusive, where:\n",
    "- **1**: Total positive linear correlation.\n",
    "- **0**: No linear correlation, the two variables most likely do not affect each other.\n",
    "- **-1**: Total negative linear correlation."
   ]
  },
  {
   "cell_type": "markdown",
   "metadata": {},
   "source": [
    "Pearson Correlation is the default method of the function \"corr\".  Like before we can calculate the Pearson Correlation of the of the 'int64' or 'float64'  variables."
   ]
  },
  {
   "cell_type": "code",
   "execution_count": 35,
   "metadata": {
    "collapsed": false,
    "jupyter": {
     "outputs_hidden": false
    }
   },
   "outputs": [
    {
     "data": {
      "text/html": [
       "<div>\n",
       "<style scoped>\n",
       "    .dataframe tbody tr th:only-of-type {\n",
       "        vertical-align: middle;\n",
       "    }\n",
       "\n",
       "    .dataframe tbody tr th {\n",
       "        vertical-align: top;\n",
       "    }\n",
       "\n",
       "    .dataframe thead th {\n",
       "        text-align: right;\n",
       "    }\n",
       "</style>\n",
       "<table border=\"1\" class=\"dataframe\">\n",
       "  <thead>\n",
       "    <tr style=\"text-align: right;\">\n",
       "      <th></th>\n",
       "      <th>symboling</th>\n",
       "      <th>normalized-losses</th>\n",
       "      <th>wheel-base</th>\n",
       "      <th>length</th>\n",
       "      <th>width</th>\n",
       "      <th>height</th>\n",
       "      <th>curb-weight</th>\n",
       "      <th>engine-size</th>\n",
       "      <th>bore</th>\n",
       "      <th>stroke</th>\n",
       "      <th>compression-ratio</th>\n",
       "      <th>horsepower</th>\n",
       "      <th>peak-rpm</th>\n",
       "      <th>city-mpg</th>\n",
       "      <th>highway-mpg</th>\n",
       "      <th>price</th>\n",
       "      <th>city-L/100km</th>\n",
       "      <th>highway-L/100km</th>\n",
       "    </tr>\n",
       "  </thead>\n",
       "  <tbody>\n",
       "    <tr>\n",
       "      <th>symboling</th>\n",
       "      <td>1.000000</td>\n",
       "      <td>0.467790</td>\n",
       "      <td>-0.537706</td>\n",
       "      <td>-0.365957</td>\n",
       "      <td>-0.243933</td>\n",
       "      <td>-0.546717</td>\n",
       "      <td>-0.232893</td>\n",
       "      <td>-0.111110</td>\n",
       "      <td>-0.141264</td>\n",
       "      <td>-0.011029</td>\n",
       "      <td>-0.182446</td>\n",
       "      <td>0.076038</td>\n",
       "      <td>0.280635</td>\n",
       "      <td>-0.035228</td>\n",
       "      <td>0.036293</td>\n",
       "      <td>-0.082465</td>\n",
       "      <td>0.066253</td>\n",
       "      <td>-0.029590</td>\n",
       "    </tr>\n",
       "    <tr>\n",
       "      <th>normalized-losses</th>\n",
       "      <td>0.467790</td>\n",
       "      <td>1.000000</td>\n",
       "      <td>-0.056718</td>\n",
       "      <td>0.019443</td>\n",
       "      <td>0.086846</td>\n",
       "      <td>-0.375740</td>\n",
       "      <td>0.099413</td>\n",
       "      <td>0.112369</td>\n",
       "      <td>-0.029898</td>\n",
       "      <td>0.056234</td>\n",
       "      <td>-0.114791</td>\n",
       "      <td>0.217300</td>\n",
       "      <td>0.239544</td>\n",
       "      <td>-0.225147</td>\n",
       "      <td>-0.181879</td>\n",
       "      <td>0.134140</td>\n",
       "      <td>0.238581</td>\n",
       "      <td>0.181247</td>\n",
       "    </tr>\n",
       "    <tr>\n",
       "      <th>wheel-base</th>\n",
       "      <td>-0.537706</td>\n",
       "      <td>-0.056718</td>\n",
       "      <td>1.000000</td>\n",
       "      <td>0.879582</td>\n",
       "      <td>0.817145</td>\n",
       "      <td>0.592809</td>\n",
       "      <td>0.782636</td>\n",
       "      <td>0.573197</td>\n",
       "      <td>0.496489</td>\n",
       "      <td>0.170935</td>\n",
       "      <td>0.249088</td>\n",
       "      <td>0.371621</td>\n",
       "      <td>-0.360593</td>\n",
       "      <td>-0.472877</td>\n",
       "      <td>-0.543647</td>\n",
       "      <td>0.583797</td>\n",
       "      <td>0.477141</td>\n",
       "      <td>0.577205</td>\n",
       "    </tr>\n",
       "    <tr>\n",
       "      <th>length</th>\n",
       "      <td>-0.365957</td>\n",
       "      <td>0.019443</td>\n",
       "      <td>0.879582</td>\n",
       "      <td>1.000000</td>\n",
       "      <td>0.857225</td>\n",
       "      <td>0.494880</td>\n",
       "      <td>0.881688</td>\n",
       "      <td>0.685260</td>\n",
       "      <td>0.608335</td>\n",
       "      <td>0.118313</td>\n",
       "      <td>0.161486</td>\n",
       "      <td>0.580309</td>\n",
       "      <td>-0.286321</td>\n",
       "      <td>-0.664865</td>\n",
       "      <td>-0.699033</td>\n",
       "      <td>0.693965</td>\n",
       "      <td>0.657629</td>\n",
       "      <td>0.709066</td>\n",
       "    </tr>\n",
       "    <tr>\n",
       "      <th>width</th>\n",
       "      <td>-0.243933</td>\n",
       "      <td>0.086846</td>\n",
       "      <td>0.817145</td>\n",
       "      <td>0.857225</td>\n",
       "      <td>1.000000</td>\n",
       "      <td>0.309223</td>\n",
       "      <td>0.866965</td>\n",
       "      <td>0.729466</td>\n",
       "      <td>0.544266</td>\n",
       "      <td>0.186389</td>\n",
       "      <td>0.191254</td>\n",
       "      <td>0.615315</td>\n",
       "      <td>-0.245975</td>\n",
       "      <td>-0.633139</td>\n",
       "      <td>-0.681131</td>\n",
       "      <td>0.753871</td>\n",
       "      <td>0.673398</td>\n",
       "      <td>0.738137</td>\n",
       "    </tr>\n",
       "    <tr>\n",
       "      <th>height</th>\n",
       "      <td>-0.546717</td>\n",
       "      <td>-0.375740</td>\n",
       "      <td>0.592809</td>\n",
       "      <td>0.494880</td>\n",
       "      <td>0.309223</td>\n",
       "      <td>1.000000</td>\n",
       "      <td>0.307881</td>\n",
       "      <td>0.075569</td>\n",
       "      <td>0.183466</td>\n",
       "      <td>-0.054399</td>\n",
       "      <td>0.259914</td>\n",
       "      <td>-0.087407</td>\n",
       "      <td>-0.311574</td>\n",
       "      <td>-0.051387</td>\n",
       "      <td>-0.105200</td>\n",
       "      <td>0.134990</td>\n",
       "      <td>0.004241</td>\n",
       "      <td>0.083821</td>\n",
       "    </tr>\n",
       "    <tr>\n",
       "      <th>curb-weight</th>\n",
       "      <td>-0.232893</td>\n",
       "      <td>0.099413</td>\n",
       "      <td>0.782636</td>\n",
       "      <td>0.881688</td>\n",
       "      <td>0.866965</td>\n",
       "      <td>0.307881</td>\n",
       "      <td>1.000000</td>\n",
       "      <td>0.849301</td>\n",
       "      <td>0.645218</td>\n",
       "      <td>0.172537</td>\n",
       "      <td>0.156294</td>\n",
       "      <td>0.758063</td>\n",
       "      <td>-0.279375</td>\n",
       "      <td>-0.750287</td>\n",
       "      <td>-0.794937</td>\n",
       "      <td>0.835090</td>\n",
       "      <td>0.785547</td>\n",
       "      <td>0.837088</td>\n",
       "    </tr>\n",
       "    <tr>\n",
       "      <th>engine-size</th>\n",
       "      <td>-0.111110</td>\n",
       "      <td>0.112369</td>\n",
       "      <td>0.573197</td>\n",
       "      <td>0.685260</td>\n",
       "      <td>0.729466</td>\n",
       "      <td>0.075569</td>\n",
       "      <td>0.849301</td>\n",
       "      <td>1.000000</td>\n",
       "      <td>0.572726</td>\n",
       "      <td>0.207801</td>\n",
       "      <td>0.029366</td>\n",
       "      <td>0.822713</td>\n",
       "      <td>-0.256773</td>\n",
       "      <td>-0.650552</td>\n",
       "      <td>-0.679688</td>\n",
       "      <td>0.873887</td>\n",
       "      <td>0.745026</td>\n",
       "      <td>0.784091</td>\n",
       "    </tr>\n",
       "    <tr>\n",
       "      <th>bore</th>\n",
       "      <td>-0.141264</td>\n",
       "      <td>-0.029898</td>\n",
       "      <td>0.496489</td>\n",
       "      <td>0.608335</td>\n",
       "      <td>0.544266</td>\n",
       "      <td>0.183466</td>\n",
       "      <td>0.645218</td>\n",
       "      <td>0.572726</td>\n",
       "      <td>1.000000</td>\n",
       "      <td>-0.066793</td>\n",
       "      <td>0.003050</td>\n",
       "      <td>0.567493</td>\n",
       "      <td>-0.267785</td>\n",
       "      <td>-0.581395</td>\n",
       "      <td>-0.592236</td>\n",
       "      <td>0.546586</td>\n",
       "      <td>0.554770</td>\n",
       "      <td>0.561181</td>\n",
       "    </tr>\n",
       "    <tr>\n",
       "      <th>stroke</th>\n",
       "      <td>-0.011029</td>\n",
       "      <td>0.056234</td>\n",
       "      <td>0.170935</td>\n",
       "      <td>0.118313</td>\n",
       "      <td>0.186389</td>\n",
       "      <td>-0.054399</td>\n",
       "      <td>0.172537</td>\n",
       "      <td>0.207801</td>\n",
       "      <td>-0.066793</td>\n",
       "      <td>1.000000</td>\n",
       "      <td>0.199740</td>\n",
       "      <td>0.099911</td>\n",
       "      <td>-0.065272</td>\n",
       "      <td>-0.027582</td>\n",
       "      <td>-0.036350</td>\n",
       "      <td>0.093688</td>\n",
       "      <td>0.034652</td>\n",
       "      <td>0.053419</td>\n",
       "    </tr>\n",
       "    <tr>\n",
       "      <th>compression-ratio</th>\n",
       "      <td>-0.182446</td>\n",
       "      <td>-0.114791</td>\n",
       "      <td>0.249088</td>\n",
       "      <td>0.161486</td>\n",
       "      <td>0.191254</td>\n",
       "      <td>0.259914</td>\n",
       "      <td>0.156294</td>\n",
       "      <td>0.029366</td>\n",
       "      <td>0.003050</td>\n",
       "      <td>0.199740</td>\n",
       "      <td>1.000000</td>\n",
       "      <td>-0.214576</td>\n",
       "      <td>-0.436015</td>\n",
       "      <td>0.330587</td>\n",
       "      <td>0.268819</td>\n",
       "      <td>0.069549</td>\n",
       "      <td>-0.299193</td>\n",
       "      <td>-0.224516</td>\n",
       "    </tr>\n",
       "    <tr>\n",
       "      <th>horsepower</th>\n",
       "      <td>0.076038</td>\n",
       "      <td>0.217300</td>\n",
       "      <td>0.371621</td>\n",
       "      <td>0.580309</td>\n",
       "      <td>0.615315</td>\n",
       "      <td>-0.087407</td>\n",
       "      <td>0.758063</td>\n",
       "      <td>0.822713</td>\n",
       "      <td>0.567493</td>\n",
       "      <td>0.099911</td>\n",
       "      <td>-0.214576</td>\n",
       "      <td>1.000000</td>\n",
       "      <td>0.107882</td>\n",
       "      <td>-0.822617</td>\n",
       "      <td>-0.804596</td>\n",
       "      <td>0.810533</td>\n",
       "      <td>0.889518</td>\n",
       "      <td>0.840939</td>\n",
       "    </tr>\n",
       "    <tr>\n",
       "      <th>peak-rpm</th>\n",
       "      <td>0.280635</td>\n",
       "      <td>0.239544</td>\n",
       "      <td>-0.360593</td>\n",
       "      <td>-0.286321</td>\n",
       "      <td>-0.245975</td>\n",
       "      <td>-0.311574</td>\n",
       "      <td>-0.279375</td>\n",
       "      <td>-0.256773</td>\n",
       "      <td>-0.267785</td>\n",
       "      <td>-0.065272</td>\n",
       "      <td>-0.436015</td>\n",
       "      <td>0.107882</td>\n",
       "      <td>1.000000</td>\n",
       "      <td>-0.115425</td>\n",
       "      <td>-0.058606</td>\n",
       "      <td>-0.101649</td>\n",
       "      <td>0.115819</td>\n",
       "      <td>0.017741</td>\n",
       "    </tr>\n",
       "    <tr>\n",
       "      <th>city-mpg</th>\n",
       "      <td>-0.035228</td>\n",
       "      <td>-0.225147</td>\n",
       "      <td>-0.472877</td>\n",
       "      <td>-0.664865</td>\n",
       "      <td>-0.633139</td>\n",
       "      <td>-0.051387</td>\n",
       "      <td>-0.750287</td>\n",
       "      <td>-0.650552</td>\n",
       "      <td>-0.581395</td>\n",
       "      <td>-0.027582</td>\n",
       "      <td>0.330587</td>\n",
       "      <td>-0.822617</td>\n",
       "      <td>-0.115425</td>\n",
       "      <td>1.000000</td>\n",
       "      <td>0.972777</td>\n",
       "      <td>-0.689253</td>\n",
       "      <td>-0.949952</td>\n",
       "      <td>-0.910710</td>\n",
       "    </tr>\n",
       "    <tr>\n",
       "      <th>highway-mpg</th>\n",
       "      <td>0.036293</td>\n",
       "      <td>-0.181879</td>\n",
       "      <td>-0.543647</td>\n",
       "      <td>-0.699033</td>\n",
       "      <td>-0.681131</td>\n",
       "      <td>-0.105200</td>\n",
       "      <td>-0.794937</td>\n",
       "      <td>-0.679688</td>\n",
       "      <td>-0.592236</td>\n",
       "      <td>-0.036350</td>\n",
       "      <td>0.268819</td>\n",
       "      <td>-0.804596</td>\n",
       "      <td>-0.058606</td>\n",
       "      <td>0.972777</td>\n",
       "      <td>1.000000</td>\n",
       "      <td>-0.705230</td>\n",
       "      <td>-0.930142</td>\n",
       "      <td>-0.951299</td>\n",
       "    </tr>\n",
       "    <tr>\n",
       "      <th>price</th>\n",
       "      <td>-0.082465</td>\n",
       "      <td>0.134140</td>\n",
       "      <td>0.583797</td>\n",
       "      <td>0.693965</td>\n",
       "      <td>0.753871</td>\n",
       "      <td>0.134990</td>\n",
       "      <td>0.835090</td>\n",
       "      <td>0.873887</td>\n",
       "      <td>0.546586</td>\n",
       "      <td>0.093688</td>\n",
       "      <td>0.069549</td>\n",
       "      <td>0.810533</td>\n",
       "      <td>-0.101649</td>\n",
       "      <td>-0.689253</td>\n",
       "      <td>-0.705230</td>\n",
       "      <td>1.000000</td>\n",
       "      <td>0.791270</td>\n",
       "      <td>0.801059</td>\n",
       "    </tr>\n",
       "    <tr>\n",
       "      <th>city-L/100km</th>\n",
       "      <td>0.066253</td>\n",
       "      <td>0.238581</td>\n",
       "      <td>0.477141</td>\n",
       "      <td>0.657629</td>\n",
       "      <td>0.673398</td>\n",
       "      <td>0.004241</td>\n",
       "      <td>0.785547</td>\n",
       "      <td>0.745026</td>\n",
       "      <td>0.554770</td>\n",
       "      <td>0.034652</td>\n",
       "      <td>-0.299193</td>\n",
       "      <td>0.889518</td>\n",
       "      <td>0.115819</td>\n",
       "      <td>-0.949952</td>\n",
       "      <td>-0.930142</td>\n",
       "      <td>0.791270</td>\n",
       "      <td>1.000000</td>\n",
       "      <td>0.958945</td>\n",
       "    </tr>\n",
       "    <tr>\n",
       "      <th>highway-L/100km</th>\n",
       "      <td>-0.029590</td>\n",
       "      <td>0.181247</td>\n",
       "      <td>0.577205</td>\n",
       "      <td>0.709066</td>\n",
       "      <td>0.738137</td>\n",
       "      <td>0.083821</td>\n",
       "      <td>0.837088</td>\n",
       "      <td>0.784091</td>\n",
       "      <td>0.561181</td>\n",
       "      <td>0.053419</td>\n",
       "      <td>-0.224516</td>\n",
       "      <td>0.840939</td>\n",
       "      <td>0.017741</td>\n",
       "      <td>-0.910710</td>\n",
       "      <td>-0.951299</td>\n",
       "      <td>0.801059</td>\n",
       "      <td>0.958945</td>\n",
       "      <td>1.000000</td>\n",
       "    </tr>\n",
       "  </tbody>\n",
       "</table>\n",
       "</div>"
      ],
      "text/plain": [
       "                   symboling  normalized-losses  wheel-base    length  \\\n",
       "symboling           1.000000           0.467790   -0.537706 -0.365957   \n",
       "normalized-losses   0.467790           1.000000   -0.056718  0.019443   \n",
       "wheel-base         -0.537706          -0.056718    1.000000  0.879582   \n",
       "length             -0.365957           0.019443    0.879582  1.000000   \n",
       "width              -0.243933           0.086846    0.817145  0.857225   \n",
       "height             -0.546717          -0.375740    0.592809  0.494880   \n",
       "curb-weight        -0.232893           0.099413    0.782636  0.881688   \n",
       "engine-size        -0.111110           0.112369    0.573197  0.685260   \n",
       "bore               -0.141264          -0.029898    0.496489  0.608335   \n",
       "stroke             -0.011029           0.056234    0.170935  0.118313   \n",
       "compression-ratio  -0.182446          -0.114791    0.249088  0.161486   \n",
       "horsepower          0.076038           0.217300    0.371621  0.580309   \n",
       "peak-rpm            0.280635           0.239544   -0.360593 -0.286321   \n",
       "city-mpg           -0.035228          -0.225147   -0.472877 -0.664865   \n",
       "highway-mpg         0.036293          -0.181879   -0.543647 -0.699033   \n",
       "price              -0.082465           0.134140    0.583797  0.693965   \n",
       "city-L/100km        0.066253           0.238581    0.477141  0.657629   \n",
       "highway-L/100km    -0.029590           0.181247    0.577205  0.709066   \n",
       "\n",
       "                      width    height  curb-weight  engine-size      bore  \\\n",
       "symboling         -0.243933 -0.546717    -0.232893    -0.111110 -0.141264   \n",
       "normalized-losses  0.086846 -0.375740     0.099413     0.112369 -0.029898   \n",
       "wheel-base         0.817145  0.592809     0.782636     0.573197  0.496489   \n",
       "length             0.857225  0.494880     0.881688     0.685260  0.608335   \n",
       "width              1.000000  0.309223     0.866965     0.729466  0.544266   \n",
       "height             0.309223  1.000000     0.307881     0.075569  0.183466   \n",
       "curb-weight        0.866965  0.307881     1.000000     0.849301  0.645218   \n",
       "engine-size        0.729466  0.075569     0.849301     1.000000  0.572726   \n",
       "bore               0.544266  0.183466     0.645218     0.572726  1.000000   \n",
       "stroke             0.186389 -0.054399     0.172537     0.207801 -0.066793   \n",
       "compression-ratio  0.191254  0.259914     0.156294     0.029366  0.003050   \n",
       "horsepower         0.615315 -0.087407     0.758063     0.822713  0.567493   \n",
       "peak-rpm          -0.245975 -0.311574    -0.279375    -0.256773 -0.267785   \n",
       "city-mpg          -0.633139 -0.051387    -0.750287    -0.650552 -0.581395   \n",
       "highway-mpg       -0.681131 -0.105200    -0.794937    -0.679688 -0.592236   \n",
       "price              0.753871  0.134990     0.835090     0.873887  0.546586   \n",
       "city-L/100km       0.673398  0.004241     0.785547     0.745026  0.554770   \n",
       "highway-L/100km    0.738137  0.083821     0.837088     0.784091  0.561181   \n",
       "\n",
       "                     stroke  compression-ratio  horsepower  peak-rpm  \\\n",
       "symboling         -0.011029          -0.182446    0.076038  0.280635   \n",
       "normalized-losses  0.056234          -0.114791    0.217300  0.239544   \n",
       "wheel-base         0.170935           0.249088    0.371621 -0.360593   \n",
       "length             0.118313           0.161486    0.580309 -0.286321   \n",
       "width              0.186389           0.191254    0.615315 -0.245975   \n",
       "height            -0.054399           0.259914   -0.087407 -0.311574   \n",
       "curb-weight        0.172537           0.156294    0.758063 -0.279375   \n",
       "engine-size        0.207801           0.029366    0.822713 -0.256773   \n",
       "bore              -0.066793           0.003050    0.567493 -0.267785   \n",
       "stroke             1.000000           0.199740    0.099911 -0.065272   \n",
       "compression-ratio  0.199740           1.000000   -0.214576 -0.436015   \n",
       "horsepower         0.099911          -0.214576    1.000000  0.107882   \n",
       "peak-rpm          -0.065272          -0.436015    0.107882  1.000000   \n",
       "city-mpg          -0.027582           0.330587   -0.822617 -0.115425   \n",
       "highway-mpg       -0.036350           0.268819   -0.804596 -0.058606   \n",
       "price              0.093688           0.069549    0.810533 -0.101649   \n",
       "city-L/100km       0.034652          -0.299193    0.889518  0.115819   \n",
       "highway-L/100km    0.053419          -0.224516    0.840939  0.017741   \n",
       "\n",
       "                   city-mpg  highway-mpg     price  city-L/100km  \\\n",
       "symboling         -0.035228     0.036293 -0.082465      0.066253   \n",
       "normalized-losses -0.225147    -0.181879  0.134140      0.238581   \n",
       "wheel-base        -0.472877    -0.543647  0.583797      0.477141   \n",
       "length            -0.664865    -0.699033  0.693965      0.657629   \n",
       "width             -0.633139    -0.681131  0.753871      0.673398   \n",
       "height            -0.051387    -0.105200  0.134990      0.004241   \n",
       "curb-weight       -0.750287    -0.794937  0.835090      0.785547   \n",
       "engine-size       -0.650552    -0.679688  0.873887      0.745026   \n",
       "bore              -0.581395    -0.592236  0.546586      0.554770   \n",
       "stroke            -0.027582    -0.036350  0.093688      0.034652   \n",
       "compression-ratio  0.330587     0.268819  0.069549     -0.299193   \n",
       "horsepower        -0.822617    -0.804596  0.810533      0.889518   \n",
       "peak-rpm          -0.115425    -0.058606 -0.101649      0.115819   \n",
       "city-mpg           1.000000     0.972777 -0.689253     -0.949952   \n",
       "highway-mpg        0.972777     1.000000 -0.705230     -0.930142   \n",
       "price             -0.689253    -0.705230  1.000000      0.791270   \n",
       "city-L/100km      -0.949952    -0.930142  0.791270      1.000000   \n",
       "highway-L/100km   -0.910710    -0.951299  0.801059      0.958945   \n",
       "\n",
       "                   highway-L/100km  \n",
       "symboling                -0.029590  \n",
       "normalized-losses         0.181247  \n",
       "wheel-base                0.577205  \n",
       "length                    0.709066  \n",
       "width                     0.738137  \n",
       "height                    0.083821  \n",
       "curb-weight               0.837088  \n",
       "engine-size               0.784091  \n",
       "bore                      0.561181  \n",
       "stroke                    0.053419  \n",
       "compression-ratio        -0.224516  \n",
       "horsepower                0.840939  \n",
       "peak-rpm                  0.017741  \n",
       "city-mpg                 -0.910710  \n",
       "highway-mpg              -0.951299  \n",
       "price                     0.801059  \n",
       "city-L/100km              0.958945  \n",
       "highway-L/100km           1.000000  "
      ]
     },
     "execution_count": 35,
     "metadata": {},
     "output_type": "execute_result"
    }
   ],
   "source": [
    "df.corr()"
   ]
  },
  {
   "cell_type": "markdown",
   "metadata": {},
   "source": [
    " sometimes we would like to know the significant of the correlation estimate. "
   ]
  },
  {
   "cell_type": "markdown",
   "metadata": {},
   "source": [
    "**P-value**:  \n",
    "What is this P-value? The P-value is the probability value that the correlation between these two variables is statistically significant. Normally, we choose a significance level of 0.05, which means that we are 95% confident that the correlation between the variables is significant.\n",
    "\n",
    "By convention, when the\n",
    "- p-value is < 0.001: we say there is strong evidence that the correlation is significant.\n",
    "- the p-value is < 0.05: there is moderate evidence that the correlation is significant.\n",
    "- the p-value is < 0.1: there is weak evidence that the correlation is significant.\n",
    "- the p-value is > 0.1: there is no evidence that the correlation is significant."
   ]
  },
  {
   "cell_type": "markdown",
   "metadata": {},
   "source": [
    " We can obtain this information using  \"stats\" module in the \"scipy\"  library."
   ]
  },
  {
   "cell_type": "code",
   "execution_count": 36,
   "metadata": {},
   "outputs": [],
   "source": [
    "from scipy import stats"
   ]
  },
  {
   "cell_type": "markdown",
   "metadata": {},
   "source": [
    "**Wheel-base vs Price**"
   ]
  },
  {
   "cell_type": "markdown",
   "metadata": {},
   "source": [
    "Let's calculate the  Pearson Correlation Coefficient and P-value of 'wheel-base' and 'price'. "
   ]
  },
  {
   "cell_type": "code",
   "execution_count": 37,
   "metadata": {
    "collapsed": false,
    "jupyter": {
     "outputs_hidden": false
    }
   },
   "outputs": [
    {
     "name": "stdout",
     "output_type": "stream",
     "text": [
      "The Pearson Correlation Coefficient is 0.5837967812893918  with a P-value of P = 1.4313694393588297e-19\n"
     ]
    }
   ],
   "source": [
    "pearson_coef, p_value = stats.pearsonr(df['wheel-base'], df['price'])\n",
    "print(\"The Pearson Correlation Coefficient is\", pearson_coef, \" with a P-value of P =\", p_value)  "
   ]
  },
  {
   "cell_type": "code",
   "execution_count": 38,
   "metadata": {},
   "outputs": [
    {
     "data": {
      "image/png": "[encoded data removed]",
      "text/plain": [
       "<Figure size 432x288 with 1 Axes>"
      ]
     },
     "metadata": {
      "needs_background": "light"
     },
     "output_type": "display_data"
    }
   ],
   "source": [
    "sns.regplot(x='wheel-base', y='price', data= df);"
   ]
  },
  {
   "cell_type": "markdown",
   "metadata": {},
   "source": [
    "**Conclusion:**. \n",
    "Since the p-value is $<$ 0.001, the correlation between wheel-base and price is statistically significant, although the linear relationship isn't extremely strong (~0.585)"
   ]
  },
  {
   "cell_type": "markdown",
   "metadata": {},
   "source": [
    "**Horsepower vs Price** "
   ]
  },
  {
   "cell_type": "markdown",
   "metadata": {},
   "source": [
    " Let's calculate the Pearson Correlation Coefficient and P-value of 'horsepower' and 'price'."
   ]
  },
  {
   "cell_type": "code",
   "execution_count": 39,
   "metadata": {
    "collapsed": false,
    "jupyter": {
     "outputs_hidden": false
    }
   },
   "outputs": [
    {
     "name": "stdout",
     "output_type": "stream",
     "text": [
      "The Pearson Correlation Coefficient is 0.8738869517981516  with a P-value of P =  1.26506744790746e-63\n"
     ]
    }
   ],
   "source": [
    "pearson_coef, p_value = stats.pearsonr(df['engine-size'], df['price'])\n",
    "print(\"The Pearson Correlation Coefficient is\", pearson_coef, \" with a P-value of P = \", p_value)  "
   ]
  },
  {
   "cell_type": "code",
   "execution_count": 40,
   "metadata": {},
   "outputs": [
    {
     "data": {
      "image/png": "[encoded data removed]",
      "text/plain": [
       "<Figure size 432x288 with 1 Axes>"
      ]
     },
     "metadata": {
      "needs_background": "light"
     },
     "output_type": "display_data"
    }
   ],
   "source": [
    "sns.regplot(x='horsepower', y='price', data= df);"
   ]
  },
  {
   "cell_type": "markdown",
   "metadata": {},
   "source": [
    "**Conclusion:** Since the p-value is $<$ 0.001, the correlation between horsepower and price is statistically significant, and the linear relationship is quite strong (~0.809, close to 1)"
   ]
  },
  {
   "cell_type": "markdown",
   "metadata": {},
   "source": [
    "**Length vs Price**  \n",
    "Let's calculate the  Pearson Correlation Coefficient and P-value of 'length' and 'price'."
   ]
  },
  {
   "cell_type": "code",
   "execution_count": 41,
   "metadata": {
    "collapsed": false,
    "jupyter": {
     "outputs_hidden": false
    }
   },
   "outputs": [
    {
     "name": "stdout",
     "output_type": "stream",
     "text": [
      "The Pearson Correlation Coefficient is 0.693964774564687  with a P-value of P =  6.398310603050564e-30\n"
     ]
    }
   ],
   "source": [
    "pearson_coef, p_value = stats.pearsonr(df['length'], df['price'])\n",
    "print(\"The Pearson Correlation Coefficient is\", pearson_coef, \" with a P-value of P = \", p_value)  "
   ]
  },
  {
   "cell_type": "markdown",
   "metadata": {},
   "source": [
    "**Conclusion:** Since the p-value is $<$ 0.001, the correlation between length and price is statistically significant, and the linear relationship is moderately strong (~0.691)."
   ]
  },
  {
   "cell_type": "markdown",
   "metadata": {},
   "source": [
    "**Width vs Price**"
   ]
  },
  {
   "cell_type": "code",
   "execution_count": 42,
   "metadata": {
    "collapsed": false,
    "jupyter": {
     "outputs_hidden": false
    }
   },
   "outputs": [
    {
     "name": "stdout",
     "output_type": "stream",
     "text": [
      "The Pearson Correlation Coefficient is 0.7538710519013425  with a P-value of P = 8.679834788814272e-38\n"
     ]
    }
   ],
   "source": [
    "pearson_coef, p_value = stats.pearsonr(df['width'], df['price'])\n",
    "print(\"The Pearson Correlation Coefficient is\", pearson_coef, \" with a P-value of P =\", p_value ) "
   ]
  },
  {
   "cell_type": "markdown",
   "metadata": {},
   "source": [
    "**Conclusion:** Since the p-value is < 0.001, the correlation between width and price is statistically significant, and the linear relationship is quite strong (~0.751)."
   ]
  },
  {
   "cell_type": "markdown",
   "metadata": {},
   "source": [
    "**Curb-weight vs Price**"
   ]
  },
  {
   "cell_type": "code",
   "execution_count": 43,
   "metadata": {
    "collapsed": false,
    "jupyter": {
     "outputs_hidden": false
    }
   },
   "outputs": [
    {
     "name": "stdout",
     "output_type": "stream",
     "text": [
      "The Pearson Correlation Coefficient is 0.8350904472742751  with a P-value of P =  5.017116685971367e-53\n"
     ]
    }
   ],
   "source": [
    "pearson_coef, p_value = stats.pearsonr(df['curb-weight'], df['price'])\n",
    "print( \"The Pearson Correlation Coefficient is\", pearson_coef, \" with a P-value of P = \", p_value)  "
   ]
  },
  {
   "cell_type": "markdown",
   "metadata": {},
   "source": [
    "**Conclusion:** \n",
    "Since the p-value is $<$ 0.001, the correlation between curb-weight and price is statistically significant, and the linear relationship is quite strong (~0.834)."
   ]
  },
  {
   "cell_type": "markdown",
   "metadata": {},
   "source": [
    "**Engine-size vs Price**"
   ]
  },
  {
   "cell_type": "code",
   "execution_count": 44,
   "metadata": {
    "collapsed": false,
    "jupyter": {
     "outputs_hidden": false
    }
   },
   "outputs": [
    {
     "name": "stdout",
     "output_type": "stream",
     "text": [
      "The Pearson Correlation Coefficient is 0.8738869517981516  with a P-value of P = 1.26506744790746e-63\n"
     ]
    }
   ],
   "source": [
    "pearson_coef, p_value = stats.pearsonr(df['engine-size'], df['price'])\n",
    "print(\"The Pearson Correlation Coefficient is\", pearson_coef, \" with a P-value of P =\", p_value) "
   ]
  },
  {
   "cell_type": "markdown",
   "metadata": {},
   "source": [
    "**Conclusion:** Since the p-value is $<$ 0.001, the correlation between engine-size and price is statistically significant, and the linear relationship is very strong (~0.872)."
   ]
  },
  {
   "cell_type": "markdown",
   "metadata": {},
   "source": [
    "**Bore vs Price**"
   ]
  },
  {
   "cell_type": "code",
   "execution_count": 45,
   "metadata": {
    "collapsed": false,
    "jupyter": {
     "outputs_hidden": false
    }
   },
   "outputs": [
    {
     "name": "stdout",
     "output_type": "stream",
     "text": [
      "The Pearson Correlation Coefficient is 0.5465863322694646  with a P-value of P =   6.754454543116093e-17\n"
     ]
    }
   ],
   "source": [
    "pearson_coef, p_value = stats.pearsonr(df['bore'], df['price'])\n",
    "print(\"The Pearson Correlation Coefficient is\", pearson_coef, \" with a P-value of P =  \", p_value ) "
   ]
  },
  {
   "cell_type": "markdown",
   "metadata": {},
   "source": [
    "**Conclusion:** Since the p-value is $<$ 0.001, the correlation between bore and price is statistically significant, but the linear relationship is only moderate (~0.521)."
   ]
  },
  {
   "cell_type": "markdown",
   "metadata": {},
   "source": [
    " We can relate the process for each 'City-mpg'  and 'Highway-mpg':"
   ]
  },
  {
   "cell_type": "markdown",
   "metadata": {},
   "source": [
    "**peak-rpm vs Price**"
   ]
  },
  {
   "cell_type": "code",
   "execution_count": 46,
   "metadata": {
    "collapsed": false,
    "jupyter": {
     "outputs_hidden": false
    }
   },
   "outputs": [
    {
     "name": "stdout",
     "output_type": "stream",
     "text": [
      "The Pearson Correlation Coefficient is -0.10164886620219896  with a P-value of P =  0.15311824317200226\n"
     ]
    }
   ],
   "source": [
    "pearson_coef, p_value = stats.pearsonr(df['peak-rpm'], df['price'])\n",
    "print(\"The Pearson Correlation Coefficient is\", pearson_coef, \" with a P-value of P = \", p_value)  "
   ]
  },
  {
   "cell_type": "code",
   "execution_count": 47,
   "metadata": {},
   "outputs": [
    {
     "data": {
      "image/png": "[encoded data removed]",
      "text/plain": [
       "<Figure size 432x288 with 1 Axes>"
      ]
     },
     "metadata": {
      "needs_background": "light"
     },
     "output_type": "display_data"
    }
   ],
   "source": [
    "sns.regplot(x='peak-rpm', y='price', data=df);"
   ]
  },
  {
   "cell_type": "markdown",
   "metadata": {},
   "source": [
    "**Conclusion:**\n",
    "Since the p-value is $>$ 0.001, the correlation between preak-rpm and price is **not** statistically significant."
   ]
  },
  {
   "cell_type": "markdown",
   "metadata": {},
   "source": [
    "**Highway-mpg vs Price**"
   ]
  },
  {
   "cell_type": "code",
   "execution_count": 48,
   "metadata": {
    "collapsed": false,
    "jupyter": {
     "outputs_hidden": false
    }
   },
   "outputs": [
    {
     "name": "stdout",
     "output_type": "stream",
     "text": [
      "The Pearson Correlation Coefficient is -0.7052298604211742  with a P-value of P =  3.008766425754823e-31\n"
     ]
    }
   ],
   "source": [
    "pearson_coef, p_value = stats.pearsonr(df['highway-mpg'], df['price'])\n",
    "print( \"The Pearson Correlation Coefficient is\", pearson_coef, \" with a P-value of P = \", p_value ) "
   ]
  },
  {
   "cell_type": "markdown",
   "metadata": {},
   "source": [
    "**Conclusion:**\n",
    "Since the p-value is < 0.001, the correlation between highway-mpg and price is statistically significant, and the coefficient of ~ -0.705 shows that the relationship is negative and moderately strong."
   ]
  },
  {
   "cell_type": "markdown",
   "metadata": {},
   "source": [
    "## ANOVA"
   ]
  },
  {
   "cell_type": "markdown",
   "metadata": {},
   "source": [
    "### ANOVA: Analysis of Variance \n",
    "The Analysis of Variance  (ANOVA) is a statistical method used to test whether there are significant differences between the means of two or more groups. ANOVA returns two parameters:\n",
    "\n",
    "**F-test score**: ANOVA assumes the means of all groups are the same, calculates how much the actual means deviate from the assumption, and reports it as the F-test score. A larger score means there is a larger difference between the means.\n",
    "\n",
    "**P-value**:  P-value tells how statistically significant is our calculated score value.\n",
    "\n",
    "If our price variable is strongly correlated with the variable we are analyzing, expect ANOVA to return a sizeable F-test score and a small p-value."
   ]
  },
  {
   "cell_type": "markdown",
   "metadata": {},
   "source": [
    "### Drive Wheels"
   ]
  },
  {
   "cell_type": "markdown",
   "metadata": {},
   "source": [
    "Since ANOVA analyzes the difference between different groups of the same variable, the groupby function will come in handy. Because the ANOVA algorithm averages the data automatically, we do not need to take the average before hand.  \n",
    "\n",
    "Let's see if different types 'drive-wheels' impact  'price', we group the data."
   ]
  },
  {
   "cell_type": "code",
   "execution_count": 49,
   "metadata": {
    "collapsed": false,
    "jupyter": {
     "outputs_hidden": false
    }
   },
   "outputs": [
    {
     "data": {
      "text/html": [
       "<div>\n",
       "<style scoped>\n",
       "    .dataframe tbody tr th:only-of-type {\n",
       "        vertical-align: middle;\n",
       "    }\n",
       "\n",
       "    .dataframe tbody tr th {\n",
       "        vertical-align: top;\n",
       "    }\n",
       "\n",
       "    .dataframe thead th {\n",
       "        text-align: right;\n",
       "    }\n",
       "</style>\n",
       "<table border=\"1\" class=\"dataframe\">\n",
       "  <thead>\n",
       "    <tr style=\"text-align: right;\">\n",
       "      <th></th>\n",
       "      <th>drive-wheels</th>\n",
       "      <th>price</th>\n",
       "    </tr>\n",
       "  </thead>\n",
       "  <tbody>\n",
       "    <tr>\n",
       "      <th>0</th>\n",
       "      <td>rwd</td>\n",
       "      <td>13495.0</td>\n",
       "    </tr>\n",
       "    <tr>\n",
       "      <th>1</th>\n",
       "      <td>rwd</td>\n",
       "      <td>16500.0</td>\n",
       "    </tr>\n",
       "    <tr>\n",
       "      <th>3</th>\n",
       "      <td>fwd</td>\n",
       "      <td>13950.0</td>\n",
       "    </tr>\n",
       "    <tr>\n",
       "      <th>4</th>\n",
       "      <td>4wd</td>\n",
       "      <td>17450.0</td>\n",
       "    </tr>\n",
       "    <tr>\n",
       "      <th>5</th>\n",
       "      <td>fwd</td>\n",
       "      <td>15250.0</td>\n",
       "    </tr>\n",
       "    <tr>\n",
       "      <th>134</th>\n",
       "      <td>4wd</td>\n",
       "      <td>7603.0</td>\n",
       "    </tr>\n",
       "  </tbody>\n",
       "</table>\n",
       "</div>"
      ],
      "text/plain": [
       "    drive-wheels    price\n",
       "0            rwd  13495.0\n",
       "1            rwd  16500.0\n",
       "3            fwd  13950.0\n",
       "4            4wd  17450.0\n",
       "5            fwd  15250.0\n",
       "134          4wd   7603.0"
      ]
     },
     "execution_count": 49,
     "metadata": {},
     "output_type": "execute_result"
    }
   ],
   "source": [
    "grouped_test2=df_gptest[['drive-wheels', 'price']].groupby(['drive-wheels'])\n",
    "grouped_test2.head(2)"
   ]
  },
  {
   "cell_type": "code",
   "execution_count": 50,
   "metadata": {},
   "outputs": [
    {
     "data": {
      "text/html": [
       "<div>\n",
       "<style scoped>\n",
       "    .dataframe tbody tr th:only-of-type {\n",
       "        vertical-align: middle;\n",
       "    }\n",
       "\n",
       "    .dataframe tbody tr th {\n",
       "        vertical-align: top;\n",
       "    }\n",
       "\n",
       "    .dataframe thead th {\n",
       "        text-align: right;\n",
       "    }\n",
       "</style>\n",
       "<table border=\"1\" class=\"dataframe\">\n",
       "  <thead>\n",
       "    <tr style=\"text-align: right;\">\n",
       "      <th></th>\n",
       "      <th>drive-wheels</th>\n",
       "      <th>body-style</th>\n",
       "      <th>price</th>\n",
       "    </tr>\n",
       "  </thead>\n",
       "  <tbody>\n",
       "    <tr>\n",
       "      <th>0</th>\n",
       "      <td>rwd</td>\n",
       "      <td>convertible</td>\n",
       "      <td>13495.0</td>\n",
       "    </tr>\n",
       "    <tr>\n",
       "      <th>1</th>\n",
       "      <td>rwd</td>\n",
       "      <td>convertible</td>\n",
       "      <td>16500.0</td>\n",
       "    </tr>\n",
       "    <tr>\n",
       "      <th>2</th>\n",
       "      <td>rwd</td>\n",
       "      <td>hatchback</td>\n",
       "      <td>16500.0</td>\n",
       "    </tr>\n",
       "    <tr>\n",
       "      <th>3</th>\n",
       "      <td>fwd</td>\n",
       "      <td>sedan</td>\n",
       "      <td>13950.0</td>\n",
       "    </tr>\n",
       "    <tr>\n",
       "      <th>4</th>\n",
       "      <td>4wd</td>\n",
       "      <td>sedan</td>\n",
       "      <td>17450.0</td>\n",
       "    </tr>\n",
       "    <tr>\n",
       "      <th>...</th>\n",
       "      <td>...</td>\n",
       "      <td>...</td>\n",
       "      <td>...</td>\n",
       "    </tr>\n",
       "    <tr>\n",
       "      <th>194</th>\n",
       "      <td>rwd</td>\n",
       "      <td>sedan</td>\n",
       "      <td>16845.0</td>\n",
       "    </tr>\n",
       "    <tr>\n",
       "      <th>195</th>\n",
       "      <td>rwd</td>\n",
       "      <td>sedan</td>\n",
       "      <td>19045.0</td>\n",
       "    </tr>\n",
       "    <tr>\n",
       "      <th>196</th>\n",
       "      <td>rwd</td>\n",
       "      <td>sedan</td>\n",
       "      <td>21485.0</td>\n",
       "    </tr>\n",
       "    <tr>\n",
       "      <th>197</th>\n",
       "      <td>rwd</td>\n",
       "      <td>sedan</td>\n",
       "      <td>22470.0</td>\n",
       "    </tr>\n",
       "    <tr>\n",
       "      <th>198</th>\n",
       "      <td>rwd</td>\n",
       "      <td>sedan</td>\n",
       "      <td>22625.0</td>\n",
       "    </tr>\n",
       "  </tbody>\n",
       "</table>\n",
       "<p>199 rows × 3 columns</p>\n",
       "</div>"
      ],
      "text/plain": [
       "    drive-wheels   body-style    price\n",
       "0            rwd  convertible  13495.0\n",
       "1            rwd  convertible  16500.0\n",
       "2            rwd    hatchback  16500.0\n",
       "3            fwd        sedan  13950.0\n",
       "4            4wd        sedan  17450.0\n",
       "..           ...          ...      ...\n",
       "194          rwd        sedan  16845.0\n",
       "195          rwd        sedan  19045.0\n",
       "196          rwd        sedan  21485.0\n",
       "197          rwd        sedan  22470.0\n",
       "198          rwd        sedan  22625.0\n",
       "\n",
       "[199 rows x 3 columns]"
      ]
     },
     "execution_count": 50,
     "metadata": {},
     "output_type": "execute_result"
    }
   ],
   "source": [
    "df_gptest"
   ]
  },
  {
   "cell_type": "markdown",
   "metadata": {},
   "source": [
    " We can obtain the values of the method group using the method \"get_group\".  "
   ]
  },
  {
   "cell_type": "code",
   "execution_count": 51,
   "metadata": {
    "collapsed": false,
    "jupyter": {
     "outputs_hidden": false
    }
   },
   "outputs": [
    {
     "data": {
      "text/plain": [
       "4      17450.0\n",
       "134     7603.0\n",
       "138     9233.0\n",
       "139    11259.0\n",
       "142     8013.0\n",
       "143    11694.0\n",
       "148     7898.0\n",
       "149     8778.0\n",
       "Name: price, dtype: float64"
      ]
     },
     "execution_count": 51,
     "metadata": {},
     "output_type": "execute_result"
    }
   ],
   "source": [
    "grouped_test2.get_group('4wd')['price']"
   ]
  },
  {
   "cell_type": "markdown",
   "metadata": {},
   "source": [
    "we can use the function 'f_oneway' in the module 'stats'  to obtain the <b>F-test score</b> and <b>P-value</b>."
   ]
  },
  {
   "cell_type": "code",
   "execution_count": 52,
   "metadata": {
    "collapsed": false,
    "jupyter": {
     "outputs_hidden": false
    }
   },
   "outputs": [
    {
     "name": "stdout",
     "output_type": "stream",
     "text": [
      "ANOVA results: F= 66.92990285052078 , P = 6.995421830700255e-23\n"
     ]
    }
   ],
   "source": [
    "# ANOVA\n",
    "f_val, p_val = stats.f_oneway(grouped_test2.get_group('fwd')['price'],\n",
    "                              grouped_test2.get_group('rwd')['price'],\n",
    "                              grouped_test2.get_group('4wd')['price'])\n",
    "print( \"ANOVA results: F=\", f_val, \", P =\", p_val)   "
   ]
  },
  {
   "cell_type": "markdown",
   "metadata": {},
   "source": [
    "This is a great result, with a large F test score showing a strong correlation and a P value of almost 0 implying almost certain statistical significance. But does this mean all three tested groups are all this highly correlated? "
   ]
  },
  {
   "cell_type": "markdown",
   "metadata": {},
   "source": [
    "**Separately: fwd and rwd**"
   ]
  },
  {
   "cell_type": "code",
   "execution_count": 53,
   "metadata": {
    "collapsed": false,
    "jupyter": {
     "outputs_hidden": false
    }
   },
   "outputs": [
    {
     "name": "stdout",
     "output_type": "stream",
     "text": [
      "ANOVA results: F= 128.48137608625743 , P = 4.6725694222937356e-23\n"
     ]
    }
   ],
   "source": [
    "f_val, p_val = stats.f_oneway(grouped_test2.get_group('fwd')['price'],\n",
    "                              grouped_test2.get_group('rwd')['price'])  \n",
    "print( \"ANOVA results: F=\", f_val, \", P =\", p_val )"
   ]
  },
  {
   "cell_type": "markdown",
   "metadata": {},
   "source": [
    " Let's examine the other groups "
   ]
  },
  {
   "cell_type": "markdown",
   "metadata": {},
   "source": [
    "**4wd and rwd**"
   ]
  },
  {
   "cell_type": "code",
   "execution_count": 54,
   "metadata": {
    "collapsed": false,
    "jupyter": {
     "outputs_hidden": false
    },
    "scrolled": true
   },
   "outputs": [
    {
     "name": "stdout",
     "output_type": "stream",
     "text": [
      "ANOVA results: F= 8.580681368924756 , P = 0.004411492211225333\n"
     ]
    }
   ],
   "source": [
    "f_val, p_val = stats.f_oneway(grouped_test2.get_group('4wd')['price'],\n",
    "                              grouped_test2.get_group('rwd')['price'])  \n",
    "print( \"ANOVA results: F=\", f_val, \", P =\", p_val)   "
   ]
  },
  {
   "cell_type": "markdown",
   "metadata": {},
   "source": [
    "**4wd and fwd**"
   ]
  },
  {
   "cell_type": "code",
   "execution_count": 55,
   "metadata": {
    "collapsed": false,
    "jupyter": {
     "outputs_hidden": false
    }
   },
   "outputs": [
    {
     "name": "stdout",
     "output_type": "stream",
     "text": [
      "ANOVA results: F= 0.6621740397322758 , P = 0.41737884563910455\n"
     ]
    }
   ],
   "source": [
    "f_val, p_val = stats.f_oneway(grouped_test2.get_group('4wd')['price'],\n",
    "                              grouped_test2.get_group('fwd')['price'])  \n",
    "print(\"ANOVA results: F=\", f_val, \", P =\", p_val)   "
   ]
  },
  {
   "cell_type": "code",
   "execution_count": 56,
   "metadata": {},
   "outputs": [
    {
     "data": {
      "text/html": [
       "<div>\n",
       "<style scoped>\n",
       "    .dataframe tbody tr th:only-of-type {\n",
       "        vertical-align: middle;\n",
       "    }\n",
       "\n",
       "    .dataframe tbody tr th {\n",
       "        vertical-align: top;\n",
       "    }\n",
       "\n",
       "    .dataframe thead th {\n",
       "        text-align: right;\n",
       "    }\n",
       "</style>\n",
       "<table border=\"1\" class=\"dataframe\">\n",
       "  <thead>\n",
       "    <tr style=\"text-align: right;\">\n",
       "      <th></th>\n",
       "      <th>body-style</th>\n",
       "      <th>price</th>\n",
       "    </tr>\n",
       "  </thead>\n",
       "  <tbody>\n",
       "    <tr>\n",
       "      <th>0</th>\n",
       "      <td>convertible</td>\n",
       "      <td>21890.500000</td>\n",
       "    </tr>\n",
       "    <tr>\n",
       "      <th>1</th>\n",
       "      <td>hardtop</td>\n",
       "      <td>22208.500000</td>\n",
       "    </tr>\n",
       "    <tr>\n",
       "      <th>2</th>\n",
       "      <td>hatchback</td>\n",
       "      <td>9958.373134</td>\n",
       "    </tr>\n",
       "    <tr>\n",
       "      <th>3</th>\n",
       "      <td>sedan</td>\n",
       "      <td>14459.755319</td>\n",
       "    </tr>\n",
       "    <tr>\n",
       "      <th>4</th>\n",
       "      <td>wagon</td>\n",
       "      <td>12500.166667</td>\n",
       "    </tr>\n",
       "  </tbody>\n",
       "</table>\n",
       "</div>"
      ],
      "text/plain": [
       "    body-style         price\n",
       "0  convertible  21890.500000\n",
       "1      hardtop  22208.500000\n",
       "2    hatchback   9958.373134\n",
       "3        sedan  14459.755319\n",
       "4        wagon  12500.166667"
      ]
     },
     "execution_count": 56,
     "metadata": {},
     "output_type": "execute_result"
    }
   ],
   "source": [
    "df_test = df[['body-style', 'price']]\n",
    "df_grp = df_test.groupby(['body-style'], as_index=False).mean()\n",
    "df_grp"
   ]
  },
  {
   "cell_type": "markdown",
   "metadata": {},
   "source": [
    "## Conclusion: Important Variables"
   ]
  },
  {
   "cell_type": "markdown",
   "metadata": {},
   "source": [
    "We now have a better idea of what our data looks like and which variables are important to take into account when predicting the car price. We have narrowed it from 25 down to the following variables:\n",
    "\n",
    "Continuous numerical variables:\n",
    "- Length\n",
    "- Width\n",
    "- Curb-weight\n",
    "- Engine-size\n",
    "- Horsepower\n",
    "- City-mpg\n",
    "- Highway-mpg\n",
    "- Wheel-base\n",
    "- Bore\n",
    "\n",
    "    \n",
    "Categorical variables:\n",
    "- Drive-wheels\n",
    "\n",
    "As we now move into building machine learning models to automate our analysis, feeding the model with variables that meaningfully affect our target variable will improve our model's prediction performance."
   ]
  },
  {
   "cell_type": "markdown",
   "metadata": {},
   "source": [
    "<hr>\n",
    "<p>Copyright &copy; 2018 IBM Developer Skills Network. Parts of this notebook and its source code are released under the terms of the <a href=\"https://cognitiveclass.ai/mit-license/\">MIT License</a>.</p>"
   ]
  },
  {
   "cell_type": "markdown",
   "metadata": {},
   "source": [
    "## Data from JARVIS-DFT material science database for transport"
   ]
  },
  {
   "cell_type": "code",
   "execution_count": 58,
   "metadata": {},
   "outputs": [],
   "source": [
    "transport = pd.read_csv('data/transport_data.csv')"
   ]
  },
  {
   "cell_type": "code",
   "execution_count": 59,
   "metadata": {},
   "outputs": [
    {
     "data": {
      "text/html": [
       "<div>\n",
       "<style scoped>\n",
       "    .dataframe tbody tr th:only-of-type {\n",
       "        vertical-align: middle;\n",
       "    }\n",
       "\n",
       "    .dataframe tbody tr th {\n",
       "        vertical-align: top;\n",
       "    }\n",
       "\n",
       "    .dataframe thead th {\n",
       "        text-align: right;\n",
       "    }\n",
       "</style>\n",
       "<table border=\"1\" class=\"dataframe\">\n",
       "  <thead>\n",
       "    <tr style=\"text-align: right;\">\n",
       "      <th></th>\n",
       "      <th>JID</th>\n",
       "      <th>Composition</th>\n",
       "      <th>Spg.numb.</th>\n",
       "      <th>Spg.symb.</th>\n",
       "      <th>Cryst.</th>\n",
       "      <th>Dimensionality</th>\n",
       "      <th>OPT SCF gap</th>\n",
       "      <th>MBJ gap</th>\n",
       "      <th>n-Seebeck</th>\n",
       "      <th>p-Seebeck</th>\n",
       "      <th>n-powerfact</th>\n",
       "      <th>p-powerfact</th>\n",
       "      <th>n-cond</th>\n",
       "      <th>p-cond</th>\n",
       "      <th>n-ZT</th>\n",
       "      <th>p-ZT</th>\n",
       "      <th>Avg.elec.mass</th>\n",
       "      <th>Avg.hole mass</th>\n",
       "      <th>n-mp-Seeb</th>\n",
       "      <th>p-mp-Seeb</th>\n",
       "    </tr>\n",
       "  </thead>\n",
       "  <tbody>\n",
       "    <tr>\n",
       "      <th>0</th>\n",
       "      <td>JVASP-11946</td>\n",
       "      <td>CoNi</td>\n",
       "      <td>221</td>\n",
       "      <td>Pm-3m</td>\n",
       "      <td>cubic</td>\n",
       "      <td>3D</td>\n",
       "      <td>0.0014</td>\n",
       "      <td>na</td>\n",
       "      <td>0.961888</td>\n",
       "      <td>1.222762</td>\n",
       "      <td>4.700324</td>\n",
       "      <td>7.596687</td>\n",
       "      <td>5080181.100</td>\n",
       "      <td>5080898.4</td>\n",
       "      <td>0.000032</td>\n",
       "      <td>0.000052</td>\n",
       "      <td>6.02E-07</td>\n",
       "      <td>6.02E-07</td>\n",
       "      <td>na</td>\n",
       "      <td>na</td>\n",
       "    </tr>\n",
       "    <tr>\n",
       "      <th>1</th>\n",
       "      <td>JVASP-11947</td>\n",
       "      <td>Co3Ni</td>\n",
       "      <td>221</td>\n",
       "      <td>Pm-3m</td>\n",
       "      <td>cubic</td>\n",
       "      <td>3D</td>\n",
       "      <td>0.0020</td>\n",
       "      <td>na</td>\n",
       "      <td>-10.482988</td>\n",
       "      <td>-10.485942</td>\n",
       "      <td>806.719601</td>\n",
       "      <td>806.052709</td>\n",
       "      <td>7340952.800</td>\n",
       "      <td>7330752.2</td>\n",
       "      <td>0.004465</td>\n",
       "      <td>0.004464</td>\n",
       "      <td>3.85E-07</td>\n",
       "      <td>3.85E-07</td>\n",
       "      <td>na</td>\n",
       "      <td>na</td>\n",
       "    </tr>\n",
       "    <tr>\n",
       "      <th>2</th>\n",
       "      <td>JVASP-11948</td>\n",
       "      <td>NbCo</td>\n",
       "      <td>221</td>\n",
       "      <td>Pm-3m</td>\n",
       "      <td>cubic</td>\n",
       "      <td>3D</td>\n",
       "      <td>0.0060</td>\n",
       "      <td>na</td>\n",
       "      <td>6.934228</td>\n",
       "      <td>7.322567</td>\n",
       "      <td>228.848702</td>\n",
       "      <td>255.567886</td>\n",
       "      <td>4759400.000</td>\n",
       "      <td>4766279.7</td>\n",
       "      <td>0.001691</td>\n",
       "      <td>0.001890</td>\n",
       "      <td>6.20E-07</td>\n",
       "      <td>6.20E-07</td>\n",
       "      <td>na</td>\n",
       "      <td>na</td>\n",
       "    </tr>\n",
       "    <tr>\n",
       "      <th>3</th>\n",
       "      <td>JVASP-11949</td>\n",
       "      <td>MgNi</td>\n",
       "      <td>221</td>\n",
       "      <td>Pm-3m</td>\n",
       "      <td>cubic</td>\n",
       "      <td>3D</td>\n",
       "      <td>0.0098</td>\n",
       "      <td>na</td>\n",
       "      <td>-33.241584</td>\n",
       "      <td>-33.659304</td>\n",
       "      <td>7516.497514</td>\n",
       "      <td>7626.886106</td>\n",
       "      <td>6802242.300</td>\n",
       "      <td>6731889.8</td>\n",
       "      <td>0.046990</td>\n",
       "      <td>0.048042</td>\n",
       "      <td>4.16E-07</td>\n",
       "      <td>4.16E-07</td>\n",
       "      <td>na</td>\n",
       "      <td>na</td>\n",
       "    </tr>\n",
       "    <tr>\n",
       "      <th>4</th>\n",
       "      <td>JVASP-11950</td>\n",
       "      <td>Al3Ni2</td>\n",
       "      <td>164</td>\n",
       "      <td>P-3m1</td>\n",
       "      <td>trigonal</td>\n",
       "      <td>3D</td>\n",
       "      <td>0.0142</td>\n",
       "      <td>na</td>\n",
       "      <td>0.833245</td>\n",
       "      <td>0.807617</td>\n",
       "      <td>4.317753</td>\n",
       "      <td>4.464905</td>\n",
       "      <td>5916231.033</td>\n",
       "      <td>5917223.3</td>\n",
       "      <td>0.000028</td>\n",
       "      <td>0.000028</td>\n",
       "      <td>4.95E-07</td>\n",
       "      <td>4.95E-07</td>\n",
       "      <td>1.443050267</td>\n",
       "      <td>1.353046533</td>\n",
       "    </tr>\n",
       "  </tbody>\n",
       "</table>\n",
       "</div>"
      ],
      "text/plain": [
       "           JID Composition Spg.numb. Spg.symb.    Cryst. Dimensionality  \\\n",
       "0  JVASP-11946        CoNi       221     Pm-3m     cubic             3D   \n",
       "1  JVASP-11947       Co3Ni       221     Pm-3m     cubic             3D   \n",
       "2  JVASP-11948        NbCo       221     Pm-3m     cubic             3D   \n",
       "3  JVASP-11949        MgNi       221     Pm-3m     cubic             3D   \n",
       "4  JVASP-11950      Al3Ni2       164     P-3m1  trigonal             3D   \n",
       "\n",
       "   OPT SCF gap  MBJ gap  n-Seebeck  p-Seebeck  n-powerfact  p-powerfact  \\\n",
       "0       0.0014       na   0.961888   1.222762     4.700324     7.596687   \n",
       "1       0.0020       na -10.482988 -10.485942   806.719601   806.052709   \n",
       "2       0.0060       na   6.934228   7.322567   228.848702   255.567886   \n",
       "3       0.0098       na -33.241584 -33.659304  7516.497514  7626.886106   \n",
       "4       0.0142       na   0.833245   0.807617     4.317753     4.464905   \n",
       "\n",
       "        n-cond     p-cond      n-ZT      p-ZT Avg.elec.mass Avg.hole mass  \\\n",
       "0  5080181.100  5080898.4  0.000032  0.000052      6.02E-07      6.02E-07   \n",
       "1  7340952.800  7330752.2  0.004465  0.004464      3.85E-07      3.85E-07   \n",
       "2  4759400.000  4766279.7  0.001691  0.001890      6.20E-07      6.20E-07   \n",
       "3  6802242.300  6731889.8  0.046990  0.048042      4.16E-07      4.16E-07   \n",
       "4  5916231.033  5917223.3  0.000028  0.000028      4.95E-07      4.95E-07   \n",
       "\n",
       "     n-mp-Seeb    p-mp-Seeb  \n",
       "0           na           na  \n",
       "1           na           na  \n",
       "2           na           na  \n",
       "3           na           na  \n",
       "4  1.443050267  1.353046533  "
      ]
     },
     "execution_count": 59,
     "metadata": {},
     "output_type": "execute_result"
    }
   ],
   "source": [
    "transport.head()"
   ]
  },
  {
   "cell_type": "code",
   "execution_count": 60,
   "metadata": {},
   "outputs": [],
   "source": [
    "transport.replace('na', np.nan, inplace=True)"
   ]
  },
  {
   "cell_type": "code",
   "execution_count": 61,
   "metadata": {},
   "outputs": [
    {
     "data": {
      "text/html": [
       "<div>\n",
       "<style scoped>\n",
       "    .dataframe tbody tr th:only-of-type {\n",
       "        vertical-align: middle;\n",
       "    }\n",
       "\n",
       "    .dataframe tbody tr th {\n",
       "        vertical-align: top;\n",
       "    }\n",
       "\n",
       "    .dataframe thead th {\n",
       "        text-align: right;\n",
       "    }\n",
       "</style>\n",
       "<table border=\"1\" class=\"dataframe\">\n",
       "  <thead>\n",
       "    <tr style=\"text-align: right;\">\n",
       "      <th></th>\n",
       "      <th>OPT SCF gap</th>\n",
       "      <th>n-Seebeck</th>\n",
       "      <th>p-Seebeck</th>\n",
       "      <th>n-powerfact</th>\n",
       "      <th>p-powerfact</th>\n",
       "      <th>n-cond</th>\n",
       "      <th>p-cond</th>\n",
       "      <th>n-ZT</th>\n",
       "      <th>p-ZT</th>\n",
       "    </tr>\n",
       "  </thead>\n",
       "  <tbody>\n",
       "    <tr>\n",
       "      <th>count</th>\n",
       "      <td>21900.000000</td>\n",
       "      <td>21900.000000</td>\n",
       "      <td>21900.000000</td>\n",
       "      <td>2.190000e+04</td>\n",
       "      <td>2.190000e+04</td>\n",
       "      <td>2.190000e+04</td>\n",
       "      <td>2.190000e+04</td>\n",
       "      <td>21900.000000</td>\n",
       "      <td>21900.000000</td>\n",
       "    </tr>\n",
       "    <tr>\n",
       "      <th>mean</th>\n",
       "      <td>0.894798</td>\n",
       "      <td>-86.801903</td>\n",
       "      <td>130.474578</td>\n",
       "      <td>1.094329e+04</td>\n",
       "      <td>9.838414e+03</td>\n",
       "      <td>3.670460e+07</td>\n",
       "      <td>3.602706e+07</td>\n",
       "      <td>0.210996</td>\n",
       "      <td>0.236221</td>\n",
       "    </tr>\n",
       "    <tr>\n",
       "      <th>std</th>\n",
       "      <td>1.553322</td>\n",
       "      <td>132.515990</td>\n",
       "      <td>176.834421</td>\n",
       "      <td>8.462154e+05</td>\n",
       "      <td>6.145520e+05</td>\n",
       "      <td>2.143420e+09</td>\n",
       "      <td>2.063786e+09</td>\n",
       "      <td>0.329692</td>\n",
       "      <td>0.366007</td>\n",
       "    </tr>\n",
       "    <tr>\n",
       "      <th>min</th>\n",
       "      <td>0.000000</td>\n",
       "      <td>-837.591900</td>\n",
       "      <td>-190.903983</td>\n",
       "      <td>1.900000e-05</td>\n",
       "      <td>6.540000e-05</td>\n",
       "      <td>1.348240e-01</td>\n",
       "      <td>6.055463e+00</td>\n",
       "      <td>-0.034453</td>\n",
       "      <td>-0.027415</td>\n",
       "    </tr>\n",
       "    <tr>\n",
       "      <th>25%</th>\n",
       "      <td>0.004500</td>\n",
       "      <td>-160.253060</td>\n",
       "      <td>-2.777215</td>\n",
       "      <td>1.773004e+02</td>\n",
       "      <td>1.688806e+02</td>\n",
       "      <td>4.342760e+04</td>\n",
       "      <td>1.389656e+04</td>\n",
       "      <td>0.005048</td>\n",
       "      <td>0.005026</td>\n",
       "    </tr>\n",
       "    <tr>\n",
       "      <th>50%</th>\n",
       "      <td>0.020500</td>\n",
       "      <td>-15.259287</td>\n",
       "      <td>16.725221</td>\n",
       "      <td>5.941523e+02</td>\n",
       "      <td>5.326346e+02</td>\n",
       "      <td>3.448052e+05</td>\n",
       "      <td>3.414340e+05</td>\n",
       "      <td>0.035981</td>\n",
       "      <td>0.034727</td>\n",
       "    </tr>\n",
       "    <tr>\n",
       "      <th>75%</th>\n",
       "      <td>1.316000</td>\n",
       "      <td>3.330726</td>\n",
       "      <td>310.042315</td>\n",
       "      <td>1.207261e+03</td>\n",
       "      <td>1.208887e+03</td>\n",
       "      <td>2.724585e+06</td>\n",
       "      <td>2.722481e+06</td>\n",
       "      <td>0.308336</td>\n",
       "      <td>0.383083</td>\n",
       "    </tr>\n",
       "    <tr>\n",
       "      <th>max</th>\n",
       "      <td>17.968200</td>\n",
       "      <td>1052.161600</td>\n",
       "      <td>639.504300</td>\n",
       "      <td>1.109545e+08</td>\n",
       "      <td>7.133573e+07</td>\n",
       "      <td>2.360000e+11</td>\n",
       "      <td>2.270000e+11</td>\n",
       "      <td>4.043423</td>\n",
       "      <td>4.728755</td>\n",
       "    </tr>\n",
       "  </tbody>\n",
       "</table>\n",
       "</div>"
      ],
      "text/plain": [
       "        OPT SCF gap     n-Seebeck     p-Seebeck   n-powerfact   p-powerfact  \\\n",
       "count  21900.000000  21900.000000  21900.000000  2.190000e+04  2.190000e+04   \n",
       "mean       0.894798    -86.801903    130.474578  1.094329e+04  9.838414e+03   \n",
       "std        1.553322    132.515990    176.834421  8.462154e+05  6.145520e+05   \n",
       "min        0.000000   -837.591900   -190.903983  1.900000e-05  6.540000e-05   \n",
       "25%        0.004500   -160.253060     -2.777215  1.773004e+02  1.688806e+02   \n",
       "50%        0.020500    -15.259287     16.725221  5.941523e+02  5.326346e+02   \n",
       "75%        1.316000      3.330726    310.042315  1.207261e+03  1.208887e+03   \n",
       "max       17.968200   1052.161600    639.504300  1.109545e+08  7.133573e+07   \n",
       "\n",
       "             n-cond        p-cond          n-ZT          p-ZT  \n",
       "count  2.190000e+04  2.190000e+04  21900.000000  21900.000000  \n",
       "mean   3.670460e+07  3.602706e+07      0.210996      0.236221  \n",
       "std    2.143420e+09  2.063786e+09      0.329692      0.366007  \n",
       "min    1.348240e-01  6.055463e+00     -0.034453     -0.027415  \n",
       "25%    4.342760e+04  1.389656e+04      0.005048      0.005026  \n",
       "50%    3.448052e+05  3.414340e+05      0.035981      0.034727  \n",
       "75%    2.724585e+06  2.722481e+06      0.308336      0.383083  \n",
       "max    2.360000e+11  2.270000e+11      4.043423      4.728755  "
      ]
     },
     "execution_count": 61,
     "metadata": {},
     "output_type": "execute_result"
    }
   ],
   "source": [
    "transport.describe()"
   ]
  },
  {
   "cell_type": "code",
   "execution_count": 62,
   "metadata": {},
   "outputs": [
    {
     "data": {
      "text/html": [
       "<div>\n",
       "<style scoped>\n",
       "    .dataframe tbody tr th:only-of-type {\n",
       "        vertical-align: middle;\n",
       "    }\n",
       "\n",
       "    .dataframe tbody tr th {\n",
       "        vertical-align: top;\n",
       "    }\n",
       "\n",
       "    .dataframe thead th {\n",
       "        text-align: right;\n",
       "    }\n",
       "</style>\n",
       "<table border=\"1\" class=\"dataframe\">\n",
       "  <thead>\n",
       "    <tr style=\"text-align: right;\">\n",
       "      <th></th>\n",
       "      <th>JID</th>\n",
       "      <th>Composition</th>\n",
       "      <th>Spg.numb.</th>\n",
       "      <th>Spg.symb.</th>\n",
       "      <th>Cryst.</th>\n",
       "      <th>Dimensionality</th>\n",
       "      <th>MBJ gap</th>\n",
       "      <th>Avg.elec.mass</th>\n",
       "      <th>Avg.hole mass</th>\n",
       "      <th>n-mp-Seeb</th>\n",
       "      <th>p-mp-Seeb</th>\n",
       "    </tr>\n",
       "  </thead>\n",
       "  <tbody>\n",
       "    <tr>\n",
       "      <th>count</th>\n",
       "      <td>21900</td>\n",
       "      <td>21899</td>\n",
       "      <td>21883</td>\n",
       "      <td>21883</td>\n",
       "      <td>21883</td>\n",
       "      <td>21883</td>\n",
       "      <td>9578</td>\n",
       "      <td>21868</td>\n",
       "      <td>21868</td>\n",
       "      <td>9343</td>\n",
       "      <td>9343</td>\n",
       "    </tr>\n",
       "    <tr>\n",
       "      <th>unique</th>\n",
       "      <td>21897</td>\n",
       "      <td>17293</td>\n",
       "      <td>191</td>\n",
       "      <td>191</td>\n",
       "      <td>7</td>\n",
       "      <td>4</td>\n",
       "      <td>5327</td>\n",
       "      <td>11607</td>\n",
       "      <td>11607</td>\n",
       "      <td>8682</td>\n",
       "      <td>8682</td>\n",
       "    </tr>\n",
       "    <tr>\n",
       "      <th>top</th>\n",
       "      <td>JVASP-60</td>\n",
       "      <td>CdI2</td>\n",
       "      <td>225</td>\n",
       "      <td>Fm-3m</td>\n",
       "      <td>cubic</td>\n",
       "      <td>3D</td>\n",
       "      <td>0.0003</td>\n",
       "      <td>1.08E-06</td>\n",
       "      <td>1.08E-06</td>\n",
       "      <td>-90.75178867</td>\n",
       "      <td>96.43899633</td>\n",
       "    </tr>\n",
       "    <tr>\n",
       "      <th>freq</th>\n",
       "      <td>2</td>\n",
       "      <td>51</td>\n",
       "      <td>3120</td>\n",
       "      <td>3120</td>\n",
       "      <td>6524</td>\n",
       "      <td>19404</td>\n",
       "      <td>65</td>\n",
       "      <td>44</td>\n",
       "      <td>44</td>\n",
       "      <td>5</td>\n",
       "      <td>5</td>\n",
       "    </tr>\n",
       "  </tbody>\n",
       "</table>\n",
       "</div>"
      ],
      "text/plain": [
       "             JID Composition Spg.numb. Spg.symb. Cryst. Dimensionality  \\\n",
       "count      21900       21899     21883     21883  21883          21883   \n",
       "unique     21897       17293       191       191      7              4   \n",
       "top     JVASP-60        CdI2       225     Fm-3m  cubic             3D   \n",
       "freq           2          51      3120      3120   6524          19404   \n",
       "\n",
       "        MBJ gap Avg.elec.mass Avg.hole mass     n-mp-Seeb    p-mp-Seeb  \n",
       "count      9578         21868         21868          9343         9343  \n",
       "unique     5327         11607         11607          8682         8682  \n",
       "top      0.0003      1.08E-06      1.08E-06  -90.75178867  96.43899633  \n",
       "freq         65            44            44             5            5  "
      ]
     },
     "execution_count": 62,
     "metadata": {},
     "output_type": "execute_result"
    }
   ],
   "source": [
    "transport.describe(include = 'object')"
   ]
  },
  {
   "cell_type": "code",
   "execution_count": 63,
   "metadata": {},
   "outputs": [
    {
     "data": {
      "text/plain": [
       "cubic           6524\n",
       "tetragonal      3499\n",
       "orthorhombic    3263\n",
       "monoclinic      2852\n",
       "hexagonal       2466\n",
       "trigonal        2346\n",
       "triclinic        933\n",
       "Name: Cryst., dtype: int64"
      ]
     },
     "execution_count": 63,
     "metadata": {},
     "output_type": "execute_result"
    }
   ],
   "source": [
    "transport['Cryst.'].value_counts()\n",
    "# plot bar plot\n",
    "# ..."
   ]
  },
  {
   "cell_type": "code",
   "execution_count": 64,
   "metadata": {},
   "outputs": [
    {
     "data": {
      "text/plain": [
       "(-1000, 10000)"
      ]
     },
     "execution_count": 64,
     "metadata": {},
     "output_type": "execute_result"
    },
    {
     "data": {
      "image/png": "[encoded data removed]",
      "text/plain": [
       "<Figure size 432x288 with 1 Axes>"
      ]
     },
     "metadata": {
      "needs_background": "light"
     },
     "output_type": "display_data"
    }
   ],
   "source": [
    "ax = sns.boxplot(x='Dimensionality', y='n-powerfact', data=transport)\n",
    "plt.ylim(-1000, 10**(4))"
   ]
  },
  {
   "cell_type": "code",
   "execution_count": 65,
   "metadata": {},
   "outputs": [
    {
     "data": {
      "text/plain": [
       "3D    19404\n",
       "2D     1996\n",
       "0D      304\n",
       "1D      179\n",
       "Name: Dimensionality, dtype: int64"
      ]
     },
     "execution_count": 65,
     "metadata": {},
     "output_type": "execute_result"
    }
   ],
   "source": [
    "transport['Dimensionality'].value_counts()"
   ]
  },
  {
   "cell_type": "markdown",
   "metadata": {},
   "source": [
    "## A little bit more about getting data."
   ]
  },
  {
   "cell_type": "markdown",
   "metadata": {},
   "source": [
    "www.kaggle.com"
   ]
  },
  {
   "cell_type": "markdown",
   "metadata": {},
   "source": [
    "**The five important steps involved in Data Analysis**\n",
    "1. Getting the data\n",
    "2. Cleaning data\n",
    "3. Exploration\n",
    "4. Building a Model\n",
    "5. Presenting results and story telling"
   ]
  }
 ],
 "metadata": {
  "kernelspec": {
   "display_name": "Python 3",
   "language": "python",
   "name": "python3"
  },
  "language_info": {
   "codemirror_mode": {
    "name": "ipython",
    "version": 3
   },
   "file_extension": ".py",
   "mimetype": "text/x-python",
   "name": "python",
   "nbconvert_exporter": "python",
   "pygments_lexer": "ipython3",
   "version": "3.7.6"
  },
  "toc": {
   "base_numbering": 1,
   "nav_menu": {},
   "number_sections": true,
   "sideBar": true,
   "skip_h1_title": true,
   "title_cell": "Table of Contents",
   "title_sidebar": "Contents",
   "toc_cell": true,
   "toc_position": {},
   "toc_section_display": true,
   "toc_window_display": true
  },
  "varInspector": {
   "cols": {
    "lenName": 16,
    "lenType": 16,
    "lenVar": 40
   },
   "kernels_config": {
    "python": {
     "delete_cmd_postfix": "",
     "delete_cmd_prefix": "del ",
     "library": "var_list.py",
     "varRefreshCmd": "print(var_dic_list())"
    },
    "r": {
     "delete_cmd_postfix": ") ",
     "delete_cmd_prefix": "rm(",
     "library": "var_list.r",
     "varRefreshCmd": "cat(var_dic_list()) "
    }
   },
   "types_to_exclude": [
    "module",
    "function",
    "builtin_function_or_method",
    "instance",
    "_Feature"
   ],
   "window_display": false
  }
 },
 "nbformat": 4,
 "nbformat_minor": 4
}
