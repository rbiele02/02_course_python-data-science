{
 "cells": [
  {
   "cell_type": "code",
   "execution_count": null,
   "metadata": {},
   "outputs": [],
   "source": [
    "# for the presentation it is better to use the full screen\n",
    "# from IPython.core.display import display, HTML\n",
    "# display(HTML(\"<style>.container { width:100% !important; }</style>\"))"
   ]
  },
  {
   "cell_type": "markdown",
   "metadata": {},
   "source": [
    "## Scopus"
   ]
  },
  {
   "cell_type": "markdown",
   "metadata": {},
   "source": [
    "https://www.elsevier.com/__data/assets/pdf_file/0007/69451/Scopus_ContentCoverage_Guide_WEB.pdf"
   ]
  },
  {
   "cell_type": "markdown",
   "metadata": {},
   "source": [
    "### Scopus – an overview\n",
    ">Scopus launched in November 2004. Scopus is a **source-neutral abstract and citation database** curated by independent subject matter experts. With over 25,100 titles from more than 5,000 international publishers, Scopus delivers the most comprehensive overview of the world’s research output in the fields of science, technology, medicine, social science, and arts and humanities.  \n",
    "\n",
    "<img src='img/scopus_overview.pdf' width=600>"
   ]
  },
  {
   "cell_type": "markdown",
   "metadata": {},
   "source": [
    "We might use the data-driven approach in Scopus to address our questions\n",
    "- Where should I publish?\n",
    "- How can I make sure my research is novel? Or check if it is a hot topic\n",
    "- directions to go with my research?\n",
    "- finding founding sources\n",
    "- find collaborators or future positions\n",
    "- What else? What are you using Scopus for? (own profile)\n",
    "\n",
    "Let us take a [look](https://www.scopus.com/search/)!"
   ]
  },
  {
   "cell_type": "markdown",
   "metadata": {},
   "source": [
    "###  Integrating Scopus APIs into your everyday workflow"
   ]
  },
  {
   "cell_type": "markdown",
   "metadata": {},
   "source": [
    "Aside from the user interface, Scopus also has Application Programming Interfaces (APIs) that offer the same features, but then in a machine-readable format that enables software, rather than humans on the UI to find articles, authors and institutions in Scopus.  \n",
    "\n",
    "This allows developers to write programs that automatically extract data from Scopus and add that data to their systems and applications.\n",
    "\n",
    "<img src='img/scopus_api.png' width=500>"
   ]
  },
  {
   "cell_type": "markdown",
   "metadata": {},
   "source": [
    "> This site, https://dev.elsevier.com, is for developers looking to get programmatic access to:\n",
    "- journals and books published by Elsevier on ScienceDirect full-text platform;\n",
    "- **citation data and abstracts** from virtually all relevant scholarly journals, as indexed by Scopus, Elsevier's citation database.\n",
    "- **research metrics** available on SciVal, Elsevier’s platform for research performance benchmarking.\n",
    "- engineering resources available on Engineering Village.\n",
    "- curated abstracts, indices and other metadata indexed by Embase, Elsevier's biomedical abstract and indexing database."
   ]
  },
  {
   "cell_type": "markdown",
   "metadata": {},
   "source": [
    "> Anyone can obtain an API Key and use the **APIs free of charge**, provided that our policies for using APIs and the data are honored. Furthermore, full API access is only granted to clients that run within the networks of organizations that have subscriptions to the corresponding Elsevier product. Clients without subscriptions have access to limited basic metadata for most publications and citation records, as well as to basic search functionality. Content published by Elsevier under Open Access licenses is fully available."
   ]
  },
  {
   "cell_type": "markdown",
   "metadata": {},
   "source": [
    "<img src='img/api_overview.png' width=600>"
   ]
  },
  {
   "cell_type": "markdown",
   "metadata": {},
   "source": [
    "How to get access to the APIs?"
   ]
  },
  {
   "cell_type": "markdown",
   "metadata": {},
   "source": [
    "https://dev.elsevier.com"
   ]
  },
  {
   "cell_type": "code",
   "execution_count": null,
   "metadata": {},
   "outputs": [],
   "source": [
    "import requests\n",
    "# enter your API key here\n",
    "my_api = 'YOUR OWN API KEY'\n",
    "\n",
    "url = 'http://api.elsevier.com/content/search/index:SCOPUS?query=AUTHLASTNAME%28biele%29%20AND%20SUBJAREA%28PHYS%29&apikey=10a4697d190a6052e0f9db35251b5f55'\n",
    "\n",
    "# 2. send request\n",
    "Response = requests.get(url,my_api)\n",
    "    # 3. parse response\n",
    "responseDict = Response.json()\n",
    "# responseDict\n"
   ]
  },
  {
   "cell_type": "markdown",
   "metadata": {},
   "source": [
    "### Alternative: Pybliometrics by Max Planck Institute\n",
    "\n",
    ">Pybliometrics is a python-based API wrapper for the Scopus RESTful API written for Python 3. The wrapper allows users to access the Scopus database via user-friendly interfaces and can be used without prior knowledge of RESTful APIs. The package provides classes to interact with different Scopus APIs to retrieve information as diverse as citation counts, author information or document abstracts. Files are cached to speed up subsequent analysis. The package addresses all users of Scopus data, such as researchers working in Science of Science or evaluators. It facilitates re-producibility of research projects and enhances data integrity for researchers using Scopus data.  \n",
    "\n",
    "https://pybliometrics.readthedocs.io/en/stable/index.html"
   ]
  },
  {
   "cell_type": "code",
   "execution_count": null,
   "metadata": {},
   "outputs": [],
   "source": [
    "! pip install pybliometrics"
   ]
  },
  {
   "cell_type": "markdown",
   "metadata": {},
   "source": [
    "Do run the notebook locally on your own machine and not on Azure.  \n",
    "**For accessing ScopusSearch you need to have a Scopus API key and access to the services.** If you are at the TU Dresden and using their WIFI you have automaically access to it. If you are **NOT** at the TUD but you have a ZIH login, please do connect to the University web via VPN (here you can find how to set it up: https://tu-dresden.de/zih/dienste/service-katalog/arbeitsumgebung/zugang_datennetz/vpn)."
   ]
  },
  {
   "cell_type": "code",
   "execution_count": 1,
   "metadata": {},
   "outputs": [],
   "source": [
    "from pybliometrics.scopus import AuthorSearch\n",
    "# GIANAURELIO CUNIBERTI\n",
    "s = AuthorSearch('AUTHLAST(CUNIBERTI) and AUTHFIRST(GIANAURELIO)')"
   ]
  },
  {
   "cell_type": "code",
   "execution_count": 2,
   "metadata": {},
   "outputs": [
    {
     "name": "stdout",
     "output_type": "stream",
     "text": [
      "Search 'AUTHLAST(CUNIBERTI) and AUTHFIRST(GIANAURELIO)' yielded 2 authors:\n",
      "    Cuniberti, Gianaurelio\n",
      "    Cuniberti, Gianaurelio\n"
     ]
    }
   ],
   "source": [
    "print(s)"
   ]
  },
  {
   "cell_type": "code",
   "execution_count": 3,
   "metadata": {},
   "outputs": [
    {
     "data": {
      "text/plain": [
       "[Author(eid='9-s2.0-56273831400', surname='Cuniberti', initials='G.', givenname='Gianaurelio', affiliation='Technische Universität Dresden', documents='408', affiliation_id='60018353', city='Dresden', country='Germany', areas='MATE (313); PHYS (229); ENGI (172)'),\n",
       " Author(eid='9-s2.0-57214665737', surname='Cuniberti', initials='G.', givenname='Gianaurelio', affiliation='Technische Universität Dresden', documents='1', affiliation_id='60018353', city='Dresden', country='Germany', areas='MEDI (1); ENGI (1); CHEM (1)')]"
      ]
     },
     "execution_count": 3,
     "metadata": {},
     "output_type": "execute_result"
    }
   ],
   "source": [
    "s.authors"
   ]
  },
  {
   "cell_type": "code",
   "execution_count": 4,
   "metadata": {},
   "outputs": [
    {
     "data": {
      "text/html": [
       "<div>\n",
       "<style scoped>\n",
       "    .dataframe tbody tr th:only-of-type {\n",
       "        vertical-align: middle;\n",
       "    }\n",
       "\n",
       "    .dataframe tbody tr th {\n",
       "        vertical-align: top;\n",
       "    }\n",
       "\n",
       "    .dataframe thead th {\n",
       "        text-align: right;\n",
       "    }\n",
       "</style>\n",
       "<table border=\"1\" class=\"dataframe\">\n",
       "  <thead>\n",
       "    <tr style=\"text-align: right;\">\n",
       "      <th></th>\n",
       "      <th>eid</th>\n",
       "      <th>surname</th>\n",
       "      <th>initials</th>\n",
       "      <th>givenname</th>\n",
       "      <th>affiliation</th>\n",
       "      <th>documents</th>\n",
       "      <th>affiliation_id</th>\n",
       "      <th>city</th>\n",
       "      <th>country</th>\n",
       "      <th>areas</th>\n",
       "    </tr>\n",
       "  </thead>\n",
       "  <tbody>\n",
       "    <tr>\n",
       "      <th>0</th>\n",
       "      <td>9-s2.0-56273831400</td>\n",
       "      <td>Cuniberti</td>\n",
       "      <td>G.</td>\n",
       "      <td>Gianaurelio</td>\n",
       "      <td>Technische Universität Dresden</td>\n",
       "      <td>408</td>\n",
       "      <td>60018353</td>\n",
       "      <td>Dresden</td>\n",
       "      <td>Germany</td>\n",
       "      <td>MATE (313); PHYS (229); ENGI (172)</td>\n",
       "    </tr>\n",
       "    <tr>\n",
       "      <th>1</th>\n",
       "      <td>9-s2.0-57214665737</td>\n",
       "      <td>Cuniberti</td>\n",
       "      <td>G.</td>\n",
       "      <td>Gianaurelio</td>\n",
       "      <td>Technische Universität Dresden</td>\n",
       "      <td>1</td>\n",
       "      <td>60018353</td>\n",
       "      <td>Dresden</td>\n",
       "      <td>Germany</td>\n",
       "      <td>MEDI (1); ENGI (1); CHEM (1)</td>\n",
       "    </tr>\n",
       "  </tbody>\n",
       "</table>\n",
       "</div>"
      ],
      "text/plain": [
       "                  eid    surname initials    givenname  \\\n",
       "0  9-s2.0-56273831400  Cuniberti       G.  Gianaurelio   \n",
       "1  9-s2.0-57214665737  Cuniberti       G.  Gianaurelio   \n",
       "\n",
       "                      affiliation documents affiliation_id     city  country  \\\n",
       "0  Technische Universität Dresden       408       60018353  Dresden  Germany   \n",
       "1  Technische Universität Dresden         1       60018353  Dresden  Germany   \n",
       "\n",
       "                                areas  \n",
       "0  MATE (313); PHYS (229); ENGI (172)  \n",
       "1        MEDI (1); ENGI (1); CHEM (1)  "
      ]
     },
     "execution_count": 4,
     "metadata": {},
     "output_type": "execute_result"
    }
   ],
   "source": [
    "import pandas as pd\n",
    "df = pd.DataFrame(s.authors)\n",
    "df"
   ]
  },
  {
   "cell_type": "code",
   "execution_count": 9,
   "metadata": {},
   "outputs": [
    {
     "name": "stdout",
     "output_type": "stream",
     "text": [
      "Biele R. from Institute for Materials Science and Max Bergmann Center of Biomaterials,\n",
      "published 17 document(s) since 2010 in 16 distinct source(s),\n",
      "which were cited by 227 author(s) in 332 document(s) \n",
      "\n",
      "Cuniberti G. from Center for Advancing Electronics Dresden,\n",
      "published 408 document(s) since 1996 in 179 distinct source(s),\n",
      "which were cited by 7,301 author(s) in 9,148 document(s)\n"
     ]
    }
   ],
   "source": [
    "from pybliometrics.scopus import AuthorRetrieval\n",
    "rob = AuthorRetrieval('9-s2.0-36118563500')\n",
    "print (rob,'\\n')\n",
    "cuniberti = AuthorRetrieval('9-s2.0-56273831400')\n",
    "print (cuniberti)"
   ]
  },
  {
   "cell_type": "code",
   "execution_count": 10,
   "metadata": {},
   "outputs": [
    {
     "data": {
      "text/html": [
       "<div>\n",
       "<style scoped>\n",
       "    .dataframe tbody tr th:only-of-type {\n",
       "        vertical-align: middle;\n",
       "    }\n",
       "\n",
       "    .dataframe tbody tr th {\n",
       "        vertical-align: top;\n",
       "    }\n",
       "\n",
       "    .dataframe thead th {\n",
       "        text-align: right;\n",
       "    }\n",
       "</style>\n",
       "<table border=\"1\" class=\"dataframe\">\n",
       "  <thead>\n",
       "    <tr style=\"text-align: right;\">\n",
       "      <th></th>\n",
       "      <th>surname</th>\n",
       "      <th>given_name</th>\n",
       "      <th>id</th>\n",
       "      <th>areas</th>\n",
       "      <th>affiliation_id</th>\n",
       "      <th>name</th>\n",
       "      <th>city</th>\n",
       "      <th>country</th>\n",
       "    </tr>\n",
       "  </thead>\n",
       "  <tbody>\n",
       "    <tr>\n",
       "      <th>0</th>\n",
       "      <td>Müllen</td>\n",
       "      <td>Klaus</td>\n",
       "      <td>36047278500</td>\n",
       "      <td>Chemistry (all); Materials Science (all); Chem...</td>\n",
       "      <td>60030637</td>\n",
       "      <td>Max Planck Institute for Polymer Research</td>\n",
       "      <td>Mainz</td>\n",
       "      <td>Germany</td>\n",
       "    </tr>\n",
       "    <tr>\n",
       "      <th>1</th>\n",
       "      <td>Eckert</td>\n",
       "      <td>Juergen H.</td>\n",
       "      <td>55613237718</td>\n",
       "      <td>Materials Science (all); Engineering (all); Ph...</td>\n",
       "      <td>60028349</td>\n",
       "      <td>Montanuniversitat Leoben</td>\n",
       "      <td>Leoben</td>\n",
       "      <td>Austria</td>\n",
       "    </tr>\n",
       "    <tr>\n",
       "      <th>2</th>\n",
       "      <td>Büchner</td>\n",
       "      <td>Bernd B.</td>\n",
       "      <td>23020860700</td>\n",
       "      <td>Physics and Astronomy (all); Materials Science...</td>\n",
       "      <td>60007746</td>\n",
       "      <td>Leibniz-Institut für Festkörper- und Werkstoff...</td>\n",
       "      <td>Dresden</td>\n",
       "      <td>Germany</td>\n",
       "    </tr>\n",
       "    <tr>\n",
       "      <th>3</th>\n",
       "      <td>Schmidt</td>\n",
       "      <td>Oliver G.</td>\n",
       "      <td>7201468610</td>\n",
       "      <td>Physics and Astronomy (all); Materials Science...</td>\n",
       "      <td>60007746</td>\n",
       "      <td>Leibniz-Institut für Festkörper- und Werkstoff...</td>\n",
       "      <td>Dresden</td>\n",
       "      <td>Germany</td>\n",
       "    </tr>\n",
       "    <tr>\n",
       "      <th>4</th>\n",
       "      <td>Leo</td>\n",
       "      <td>Karl W.</td>\n",
       "      <td>7006009729</td>\n",
       "      <td>Physics and Astronomy (all); Materials Science...</td>\n",
       "      <td>60018353</td>\n",
       "      <td>Technische Universität Dresden</td>\n",
       "      <td>Dresden</td>\n",
       "      <td>Germany</td>\n",
       "    </tr>\n",
       "  </tbody>\n",
       "</table>\n",
       "</div>"
      ],
      "text/plain": [
       "   surname  given_name           id  \\\n",
       "0   Müllen       Klaus  36047278500   \n",
       "1   Eckert  Juergen H.  55613237718   \n",
       "2  Büchner    Bernd B.  23020860700   \n",
       "3  Schmidt   Oliver G.   7201468610   \n",
       "4      Leo     Karl W.   7006009729   \n",
       "\n",
       "                                               areas affiliation_id  \\\n",
       "0  Chemistry (all); Materials Science (all); Chem...       60030637   \n",
       "1  Materials Science (all); Engineering (all); Ph...       60028349   \n",
       "2  Physics and Astronomy (all); Materials Science...       60007746   \n",
       "3  Physics and Astronomy (all); Materials Science...       60007746   \n",
       "4  Physics and Astronomy (all); Materials Science...       60018353   \n",
       "\n",
       "                                                name     city  country  \n",
       "0          Max Planck Institute for Polymer Research    Mainz  Germany  \n",
       "1                           Montanuniversitat Leoben   Leoben  Austria  \n",
       "2  Leibniz-Institut für Festkörper- und Werkstoff...  Dresden  Germany  \n",
       "3  Leibniz-Institut für Festkörper- und Werkstoff...  Dresden  Germany  \n",
       "4                     Technische Universität Dresden  Dresden  Germany  "
      ]
     },
     "execution_count": 10,
     "metadata": {},
     "output_type": "execute_result"
    }
   ],
   "source": [
    "coauthors = rob.get_coauthors()\n",
    "co_rob = pd.DataFrame(coauthors)\n",
    "\n",
    "coauthors = cuniberti.get_coauthors()\n",
    "co_cuniberti = pd.DataFrame(coauthors)\n",
    "co_cuniberti.head()"
   ]
  },
  {
   "cell_type": "code",
   "execution_count": 11,
   "metadata": {},
   "outputs": [
    {
     "data": {
      "image/png": "[encoded data removed]",
      "text/plain": [
       "<Figure size 576x432 with 1 Axes>"
      ]
     },
     "metadata": {
      "needs_background": "light"
     },
     "output_type": "display_data"
    }
   ],
   "source": [
    "co_cuniberti['country'].value_counts().sort_values().plot(kind='barh',figsize = (8,6) , fontsize=14 );"
   ]
  },
  {
   "cell_type": "code",
   "execution_count": 12,
   "metadata": {},
   "outputs": [],
   "source": [
    "cuniberti_eids = cuniberti.get_document_eids()"
   ]
  },
  {
   "cell_type": "code",
   "execution_count": 13,
   "metadata": {},
   "outputs": [],
   "source": [
    "cuniberti_docs = pd.DataFrame(cuniberti.get_documents())"
   ]
  },
  {
   "cell_type": "code",
   "execution_count": 14,
   "metadata": {},
   "outputs": [
    {
     "data": {
      "text/plain": [
       "eid                    object\n",
       "doi                    object\n",
       "pii                    object\n",
       "pubmed_id              object\n",
       "title                  object\n",
       "subtype                object\n",
       "subtypeDescription     object\n",
       "creator                object\n",
       "afid                   object\n",
       "affilname              object\n",
       "affiliation_city       object\n",
       "affiliation_country    object\n",
       "author_count           object\n",
       "author_names           object\n",
       "author_ids             object\n",
       "author_afids           object\n",
       "coverDate              object\n",
       "coverDisplayDate       object\n",
       "publicationName        object\n",
       "issn                   object\n",
       "source_id              object\n",
       "eIssn                  object\n",
       "aggregationType        object\n",
       "volume                 object\n",
       "issueIdentifier        object\n",
       "article_number         object\n",
       "pageRange              object\n",
       "description            object\n",
       "authkeywords           object\n",
       "citedby_count          object\n",
       "openaccess             object\n",
       "fund_acr               object\n",
       "fund_no                object\n",
       "fund_sponsor           object\n",
       "dtype: object"
      ]
     },
     "execution_count": 14,
     "metadata": {},
     "output_type": "execute_result"
    }
   ],
   "source": [
    "cuniberti_docs.dtypes"
   ]
  },
  {
   "cell_type": "code",
   "execution_count": 15,
   "metadata": {},
   "outputs": [],
   "source": [
    "cuniberti_docs['citedby_count'] = cuniberti_docs['citedby_count'].astype('float')"
   ]
  },
  {
   "cell_type": "code",
   "execution_count": 16,
   "metadata": {
    "scrolled": true
   },
   "outputs": [
    {
     "data": {
      "text/plain": [
       "<matplotlib.axes._subplots.AxesSubplot at 0x121f32190>"
      ]
     },
     "execution_count": 16,
     "metadata": {},
     "output_type": "execute_result"
    },
    {
     "data": {
      "image/png": "[encoded data removed]",
      "text/plain": [
       "<Figure size 432x288 with 1 Axes>"
      ]
     },
     "metadata": {
      "needs_background": "light"
     },
     "output_type": "display_data"
    }
   ],
   "source": [
    "cuniberti_docs['citedby_count'].plot(kind='hist')"
   ]
  },
  {
   "cell_type": "code",
   "execution_count": 17,
   "metadata": {},
   "outputs": [
    {
     "data": {
      "text/plain": [
       "[Affiliation(id='113814751', parent='60018353', type='dept', relationship='author', afdispname=None, preferred_name='Center for Advancing Electronics Dresden', parent_preferred_name='Technische Universität Dresden', country_code='deu', country='Germany', address_part='Nöthnitzer Strasse 43', city='Dresden', state='Sachsen', postal_code='1187', org_domain='tu-dresden.de', org_URL='https://tu-dresden.de/'),\n",
       " Affiliation(id='114005729', parent='60018353', type='dept', relationship='author', afdispname=None, preferred_name='Dresden Center for Computational Materials Science (DCMS)', parent_preferred_name='Technische Universität Dresden', country_code='deu', country='Germany', address_part='Nöthnitzer Strasse 43', city='Dresden', state='Sachsen', postal_code='1187', org_domain='tu-dresden.de', org_URL='https://tu-dresden.de/'),\n",
       " Affiliation(id='103940045', parent='60018353', type='dept', relationship='author', afdispname=None, preferred_name='Institute for Materials Science', parent_preferred_name='Technische Universität Dresden', country_code='deu', country='Germany', address_part='Nöthnitzer Strasse 43', city='Dresden', state='Sachsen', postal_code='1187', org_domain='tu-dresden.de', org_URL='https://tu-dresden.de/')]"
      ]
     },
     "execution_count": 17,
     "metadata": {},
     "output_type": "execute_result"
    }
   ],
   "source": [
    "cuniberti.affiliation_current"
   ]
  },
  {
   "cell_type": "code",
   "execution_count": 18,
   "metadata": {},
   "outputs": [
    {
     "data": {
      "text/plain": [
       "'51'"
      ]
     },
     "execution_count": 18,
     "metadata": {},
     "output_type": "execute_result"
    }
   ],
   "source": [
    "cuniberti.h_index"
   ]
  },
  {
   "cell_type": "code",
   "execution_count": 19,
   "metadata": {},
   "outputs": [
    {
     "data": {
      "text/html": [
       "<div>\n",
       "<style scoped>\n",
       "    .dataframe tbody tr th:only-of-type {\n",
       "        vertical-align: middle;\n",
       "    }\n",
       "\n",
       "    .dataframe tbody tr th {\n",
       "        vertical-align: top;\n",
       "    }\n",
       "\n",
       "    .dataframe thead th {\n",
       "        text-align: right;\n",
       "    }\n",
       "</style>\n",
       "<table border=\"1\" class=\"dataframe\">\n",
       "  <thead>\n",
       "    <tr style=\"text-align: right;\">\n",
       "      <th></th>\n",
       "      <th>sourcetitle</th>\n",
       "      <th>abbreviation</th>\n",
       "      <th>type</th>\n",
       "      <th>issn</th>\n",
       "    </tr>\n",
       "  </thead>\n",
       "  <tbody>\n",
       "    <tr>\n",
       "      <th>0</th>\n",
       "      <td>Acta Biomaterialia</td>\n",
       "      <td>Acta Biomater.</td>\n",
       "      <td>j</td>\n",
       "      <td>17427061</td>\n",
       "    </tr>\n",
       "    <tr>\n",
       "      <th>1</th>\n",
       "      <td>Energies</td>\n",
       "      <td>Energies</td>\n",
       "      <td>j</td>\n",
       "      <td>19961073</td>\n",
       "    </tr>\n",
       "    <tr>\n",
       "      <th>2</th>\n",
       "      <td>Journal of Materials Science</td>\n",
       "      <td>J Mater Sci</td>\n",
       "      <td>j</td>\n",
       "      <td>15734803</td>\n",
       "    </tr>\n",
       "    <tr>\n",
       "      <th>3</th>\n",
       "      <td>Journal of Physical Chemistry B</td>\n",
       "      <td>J Phys Chem B</td>\n",
       "      <td>j</td>\n",
       "      <td>15206106</td>\n",
       "    </tr>\n",
       "    <tr>\n",
       "      <th>4</th>\n",
       "      <td>Journal of the Electrochemical Society</td>\n",
       "      <td>J Electrochem Soc</td>\n",
       "      <td>j</td>\n",
       "      <td>19457111</td>\n",
       "    </tr>\n",
       "    <tr>\n",
       "      <th>...</th>\n",
       "      <td>...</td>\n",
       "      <td>...</td>\n",
       "      <td>...</td>\n",
       "      <td>...</td>\n",
       "    </tr>\n",
       "    <tr>\n",
       "      <th>174</th>\n",
       "      <td>Journal of Raman Spectroscopy</td>\n",
       "      <td>J. Raman Spectrosc.</td>\n",
       "      <td>j</td>\n",
       "      <td>03770486</td>\n",
       "    </tr>\n",
       "    <tr>\n",
       "      <th>175</th>\n",
       "      <td>Comptes Rendus Physique</td>\n",
       "      <td>C. R. Phys.</td>\n",
       "      <td>j</td>\n",
       "      <td>16310705</td>\n",
       "    </tr>\n",
       "    <tr>\n",
       "      <th>176</th>\n",
       "      <td>Organic Chemistry Frontiers</td>\n",
       "      <td>Org. Chem. Front.</td>\n",
       "      <td>j</td>\n",
       "      <td>20524129</td>\n",
       "    </tr>\n",
       "    <tr>\n",
       "      <th>177</th>\n",
       "      <td>FEMS Microbiology Letters</td>\n",
       "      <td>FEMS Microbiol. Lett.</td>\n",
       "      <td>j</td>\n",
       "      <td>03781097</td>\n",
       "    </tr>\n",
       "    <tr>\n",
       "      <th>178</th>\n",
       "      <td>Advanced Engineering Materials</td>\n",
       "      <td>Adv. Eng. Mater.</td>\n",
       "      <td>j</td>\n",
       "      <td>15272648</td>\n",
       "    </tr>\n",
       "  </tbody>\n",
       "</table>\n",
       "<p>179 rows × 4 columns</p>\n",
       "</div>"
      ],
      "text/plain": [
       "                                sourcetitle           abbreviation type  \\\n",
       "0                        Acta Biomaterialia         Acta Biomater.    j   \n",
       "1                                  Energies               Energies    j   \n",
       "2              Journal of Materials Science            J Mater Sci    j   \n",
       "3           Journal of Physical Chemistry B          J Phys Chem B    j   \n",
       "4    Journal of the Electrochemical Society      J Electrochem Soc    j   \n",
       "..                                      ...                    ...  ...   \n",
       "174           Journal of Raman Spectroscopy    J. Raman Spectrosc.    j   \n",
       "175                 Comptes Rendus Physique            C. R. Phys.    j   \n",
       "176             Organic Chemistry Frontiers      Org. Chem. Front.    j   \n",
       "177               FEMS Microbiology Letters  FEMS Microbiol. Lett.    j   \n",
       "178          Advanced Engineering Materials       Adv. Eng. Mater.    j   \n",
       "\n",
       "         issn  \n",
       "0    17427061  \n",
       "1    19961073  \n",
       "2    15734803  \n",
       "3    15206106  \n",
       "4    19457111  \n",
       "..        ...  \n",
       "174  03770486  \n",
       "175  16310705  \n",
       "176  20524129  \n",
       "177  03781097  \n",
       "178  15272648  \n",
       "\n",
       "[179 rows x 4 columns]"
      ]
     },
     "execution_count": 19,
     "metadata": {},
     "output_type": "execute_result"
    }
   ],
   "source": [
    "pd.DataFrame(cuniberti.journal_history)"
   ]
  },
  {
   "cell_type": "code",
   "execution_count": 20,
   "metadata": {},
   "outputs": [
    {
     "data": {
      "text/html": [
       "<div>\n",
       "<style scoped>\n",
       "    .dataframe tbody tr th:only-of-type {\n",
       "        vertical-align: middle;\n",
       "    }\n",
       "\n",
       "    .dataframe tbody tr th {\n",
       "        vertical-align: top;\n",
       "    }\n",
       "\n",
       "    .dataframe thead th {\n",
       "        text-align: right;\n",
       "    }\n",
       "</style>\n",
       "<table border=\"1\" class=\"dataframe\">\n",
       "  <thead>\n",
       "    <tr style=\"text-align: right;\">\n",
       "      <th></th>\n",
       "      <th>eid</th>\n",
       "      <th>doi</th>\n",
       "      <th>pii</th>\n",
       "      <th>pubmed_id</th>\n",
       "      <th>title</th>\n",
       "      <th>subtype</th>\n",
       "      <th>subtypeDescription</th>\n",
       "      <th>creator</th>\n",
       "      <th>afid</th>\n",
       "      <th>affilname</th>\n",
       "      <th>...</th>\n",
       "      <th>issueIdentifier</th>\n",
       "      <th>article_number</th>\n",
       "      <th>pageRange</th>\n",
       "      <th>description</th>\n",
       "      <th>authkeywords</th>\n",
       "      <th>citedby_count</th>\n",
       "      <th>openaccess</th>\n",
       "      <th>fund_acr</th>\n",
       "      <th>fund_no</th>\n",
       "      <th>fund_sponsor</th>\n",
       "    </tr>\n",
       "  </thead>\n",
       "  <tbody>\n",
       "    <tr>\n",
       "      <th>0</th>\n",
       "      <td>2-s2.0-85083111248</td>\n",
       "      <td>10.35848/1347-4065/ab7e11</td>\n",
       "      <td>None</td>\n",
       "      <td>None</td>\n",
       "      <td>Towards synthetic neural networks: Can artific...</td>\n",
       "      <td>ar</td>\n",
       "      <td>Article</td>\n",
       "      <td>Wlaźlak E.</td>\n",
       "      <td>60018353;60017351</td>\n",
       "      <td>Technische Universität Dresden;AGH University ...</td>\n",
       "      <td>...</td>\n",
       "      <td>SI</td>\n",
       "      <td>SI0801</td>\n",
       "      <td>None</td>\n",
       "      <td>© 2020 The Japan Society of Applied Physics. T...</td>\n",
       "      <td>None</td>\n",
       "      <td>2.0</td>\n",
       "      <td>0</td>\n",
       "      <td>None</td>\n",
       "      <td>undefined</td>\n",
       "      <td>None</td>\n",
       "    </tr>\n",
       "    <tr>\n",
       "      <th>1</th>\n",
       "      <td>2-s2.0-85082390650</td>\n",
       "      <td>10.1088/1361-6528/ab6d9b</td>\n",
       "      <td>None</td>\n",
       "      <td>None</td>\n",
       "      <td>Modification of titanium implants using biofun...</td>\n",
       "      <td>ar</td>\n",
       "      <td>Article</td>\n",
       "      <td>Krok E.</td>\n",
       "      <td>60031298;60018353;60008555</td>\n",
       "      <td>Fraunhofer Institute for Ceramic Technologies ...</td>\n",
       "      <td>...</td>\n",
       "      <td>20</td>\n",
       "      <td>205603</td>\n",
       "      <td>None</td>\n",
       "      <td>© 2020 IOP Publishing Ltd. The present study d...</td>\n",
       "      <td>Antibiotic | Antimicrobial surface | Biomateri...</td>\n",
       "      <td>0.0</td>\n",
       "      <td>0</td>\n",
       "      <td>ESF</td>\n",
       "      <td>100284305</td>\n",
       "      <td>European Social Fund</td>\n",
       "    </tr>\n",
       "    <tr>\n",
       "      <th>2</th>\n",
       "      <td>2-s2.0-85077811709</td>\n",
       "      <td>10.1021/acsaem.9b02243</td>\n",
       "      <td>None</td>\n",
       "      <td>None</td>\n",
       "      <td>Boron-Doped Single-Walled Carbon Nanotubes wit...</td>\n",
       "      <td>ar</td>\n",
       "      <td>Article</td>\n",
       "      <td>Liu Y.</td>\n",
       "      <td>60025616;60018353;60007746;116477279</td>\n",
       "      <td>Fraunhofer Institute for Material and Beam Tec...</td>\n",
       "      <td>...</td>\n",
       "      <td>3</td>\n",
       "      <td>None</td>\n",
       "      <td>2556-2564</td>\n",
       "      <td>Copyright © 2020 American Chemical Society. We...</td>\n",
       "      <td>ab initio stimulation | boron substitutional d...</td>\n",
       "      <td>1.0</td>\n",
       "      <td>0</td>\n",
       "      <td>CSC</td>\n",
       "      <td>604647</td>\n",
       "      <td>China Scholarship Council</td>\n",
       "    </tr>\n",
       "    <tr>\n",
       "      <th>3</th>\n",
       "      <td>2-s2.0-85082824921</td>\n",
       "      <td>10.3390/mi11030274</td>\n",
       "      <td>None</td>\n",
       "      <td>None</td>\n",
       "      <td>Surface modification of silicon nanowire based...</td>\n",
       "      <td>ar</td>\n",
       "      <td>Article</td>\n",
       "      <td>Klinghammer S.</td>\n",
       "      <td>60026306;60018353;60008583;60000086</td>\n",
       "      <td>University of Nebraska–Lincoln;Technische Univ...</td>\n",
       "      <td>...</td>\n",
       "      <td>3</td>\n",
       "      <td>274</td>\n",
       "      <td>None</td>\n",
       "      <td>© 2020 by the authors. We demonstrate the func...</td>\n",
       "      <td>Bio sensing | Dual-gate | Field effect transis...</td>\n",
       "      <td>0.0</td>\n",
       "      <td>1</td>\n",
       "      <td>DFG</td>\n",
       "      <td>EXC1056</td>\n",
       "      <td>Deutsche Forschungsgemeinschaft</td>\n",
       "    </tr>\n",
       "    <tr>\n",
       "      <th>4</th>\n",
       "      <td>2-s2.0-85082880360</td>\n",
       "      <td>10.1103/PhysRevApplied.13.034024</td>\n",
       "      <td>None</td>\n",
       "      <td>None</td>\n",
       "      <td>Mechanical Transmission of Rotational Motion b...</td>\n",
       "      <td>ar</td>\n",
       "      <td>Article</td>\n",
       "      <td>Lin H.H.</td>\n",
       "      <td>60032834;60024174;60018353</td>\n",
       "      <td>Max Planck Institute for the Physics of Comple...</td>\n",
       "      <td>...</td>\n",
       "      <td>3</td>\n",
       "      <td>034024</td>\n",
       "      <td>None</td>\n",
       "      <td>© 2020 American Physical Society. The manipula...</td>\n",
       "      <td>None</td>\n",
       "      <td>0.0</td>\n",
       "      <td>0</td>\n",
       "      <td>None</td>\n",
       "      <td>766864</td>\n",
       "      <td>International Max Planck Research School for A...</td>\n",
       "    </tr>\n",
       "    <tr>\n",
       "      <th>...</th>\n",
       "      <td>...</td>\n",
       "      <td>...</td>\n",
       "      <td>...</td>\n",
       "      <td>...</td>\n",
       "      <td>...</td>\n",
       "      <td>...</td>\n",
       "      <td>...</td>\n",
       "      <td>...</td>\n",
       "      <td>...</td>\n",
       "      <td>...</td>\n",
       "      <td>...</td>\n",
       "      <td>...</td>\n",
       "      <td>...</td>\n",
       "      <td>...</td>\n",
       "      <td>...</td>\n",
       "      <td>...</td>\n",
       "      <td>...</td>\n",
       "      <td>...</td>\n",
       "      <td>...</td>\n",
       "      <td>...</td>\n",
       "      <td>...</td>\n",
       "    </tr>\n",
       "    <tr>\n",
       "      <th>403</th>\n",
       "      <td>2-s2.0-0007036419</td>\n",
       "      <td>10.1103/PhysRevB.57.1515</td>\n",
       "      <td>None</td>\n",
       "      <td>None</td>\n",
       "      <td>Ac conductance of a quantum wire with electron...</td>\n",
       "      <td>ar</td>\n",
       "      <td>Article</td>\n",
       "      <td>Cuniberti G.</td>\n",
       "      <td>60028229</td>\n",
       "      <td>Universität Hamburg</td>\n",
       "      <td>...</td>\n",
       "      <td>3</td>\n",
       "      <td>None</td>\n",
       "      <td>1515-1526</td>\n",
       "      <td>The complex ac response of a quasi-one-dimensi...</td>\n",
       "      <td>None</td>\n",
       "      <td>65.0</td>\n",
       "      <td>0</td>\n",
       "      <td>None</td>\n",
       "      <td>undefined</td>\n",
       "      <td>None</td>\n",
       "    </tr>\n",
       "    <tr>\n",
       "      <th>404</th>\n",
       "      <td>2-s2.0-0031579340</td>\n",
       "      <td>10.1209/epl/i1997-00166-9</td>\n",
       "      <td>None</td>\n",
       "      <td>None</td>\n",
       "      <td>Sum rule for transport in a Luttinger liquid w...</td>\n",
       "      <td>ar</td>\n",
       "      <td>Article</td>\n",
       "      <td>Cuniberti G.</td>\n",
       "      <td>60107402;60028229;60025153</td>\n",
       "      <td>Ospedale Policlinico San Martino;Universität H...</td>\n",
       "      <td>...</td>\n",
       "      <td>6</td>\n",
       "      <td>None</td>\n",
       "      <td>421-426</td>\n",
       "      <td>We show that the non-linear dc transport in a ...</td>\n",
       "      <td>None</td>\n",
       "      <td>3.0</td>\n",
       "      <td>0</td>\n",
       "      <td>None</td>\n",
       "      <td>undefined</td>\n",
       "      <td>None</td>\n",
       "    </tr>\n",
       "    <tr>\n",
       "      <th>405</th>\n",
       "      <td>2-s2.0-0031099224</td>\n",
       "      <td>10.1016/S0038-1098(97)80018-X</td>\n",
       "      <td>S003810989780018X</td>\n",
       "      <td>None</td>\n",
       "      <td>Coulomb blockade at a tunnel junction between ...</td>\n",
       "      <td>ar</td>\n",
       "      <td>Article</td>\n",
       "      <td>Sassetti M.</td>\n",
       "      <td>60107402;60028229;60025153</td>\n",
       "      <td>Ospedale Policlinico San Martino;Universität H...</td>\n",
       "      <td>...</td>\n",
       "      <td>12</td>\n",
       "      <td>None</td>\n",
       "      <td>915-919</td>\n",
       "      <td>The non-linear current - voltage characteristi...</td>\n",
       "      <td>Coulomb blockade | D. electron - electron inte...</td>\n",
       "      <td>5.0</td>\n",
       "      <td>0</td>\n",
       "      <td>None</td>\n",
       "      <td>undefined</td>\n",
       "      <td>None</td>\n",
       "    </tr>\n",
       "    <tr>\n",
       "      <th>406</th>\n",
       "      <td>2-s2.0-0010857955</td>\n",
       "      <td>10.1088/0953-8984/8/2/002</td>\n",
       "      <td>None</td>\n",
       "      <td>None</td>\n",
       "      <td>Transport and elementary excitations of a Lutt...</td>\n",
       "      <td>ar</td>\n",
       "      <td>Article</td>\n",
       "      <td>Cuniberti G.</td>\n",
       "      <td>60107402;60028229;60025153</td>\n",
       "      <td>Ospedale Policlinico San Martino;Universität H...</td>\n",
       "      <td>...</td>\n",
       "      <td>2</td>\n",
       "      <td>None</td>\n",
       "      <td>None</td>\n",
       "      <td>The low-temperature AC conductance of a one-di...</td>\n",
       "      <td>None</td>\n",
       "      <td>31.0</td>\n",
       "      <td>0</td>\n",
       "      <td>None</td>\n",
       "      <td>undefined</td>\n",
       "      <td>None</td>\n",
       "    </tr>\n",
       "    <tr>\n",
       "      <th>407</th>\n",
       "      <td>2-s2.0-0030234012</td>\n",
       "      <td>10.1016/0921-4526(96)00414-0</td>\n",
       "      <td>921452696004140</td>\n",
       "      <td>None</td>\n",
       "      <td>AC-conductance of one-dimensional, long-range ...</td>\n",
       "      <td>ar</td>\n",
       "      <td>Article</td>\n",
       "      <td>Cuniberti G.</td>\n",
       "      <td>60107402;60028229;60025153</td>\n",
       "      <td>Ospedale Policlinico San Martino;Universität H...</td>\n",
       "      <td>...</td>\n",
       "      <td>1-4</td>\n",
       "      <td>None</td>\n",
       "      <td>256-258</td>\n",
       "      <td>It is shown that the linear AC-conductance of ...</td>\n",
       "      <td>AC conductance | Luttinger liquid | Quantum ca...</td>\n",
       "      <td>3.0</td>\n",
       "      <td>0</td>\n",
       "      <td>EC</td>\n",
       "      <td>undefined</td>\n",
       "      <td>European Commission</td>\n",
       "    </tr>\n",
       "  </tbody>\n",
       "</table>\n",
       "<p>408 rows × 34 columns</p>\n",
       "</div>"
      ],
      "text/plain": [
       "                    eid                               doi                pii  \\\n",
       "0    2-s2.0-85083111248         10.35848/1347-4065/ab7e11               None   \n",
       "1    2-s2.0-85082390650          10.1088/1361-6528/ab6d9b               None   \n",
       "2    2-s2.0-85077811709            10.1021/acsaem.9b02243               None   \n",
       "3    2-s2.0-85082824921                10.3390/mi11030274               None   \n",
       "4    2-s2.0-85082880360  10.1103/PhysRevApplied.13.034024               None   \n",
       "..                  ...                               ...                ...   \n",
       "403   2-s2.0-0007036419          10.1103/PhysRevB.57.1515               None   \n",
       "404   2-s2.0-0031579340         10.1209/epl/i1997-00166-9               None   \n",
       "405   2-s2.0-0031099224     10.1016/S0038-1098(97)80018-X  S003810989780018X   \n",
       "406   2-s2.0-0010857955         10.1088/0953-8984/8/2/002               None   \n",
       "407   2-s2.0-0030234012      10.1016/0921-4526(96)00414-0    921452696004140   \n",
       "\n",
       "    pubmed_id                                              title subtype  \\\n",
       "0        None  Towards synthetic neural networks: Can artific...      ar   \n",
       "1        None  Modification of titanium implants using biofun...      ar   \n",
       "2        None  Boron-Doped Single-Walled Carbon Nanotubes wit...      ar   \n",
       "3        None  Surface modification of silicon nanowire based...      ar   \n",
       "4        None  Mechanical Transmission of Rotational Motion b...      ar   \n",
       "..        ...                                                ...     ...   \n",
       "403      None  Ac conductance of a quantum wire with electron...      ar   \n",
       "404      None  Sum rule for transport in a Luttinger liquid w...      ar   \n",
       "405      None  Coulomb blockade at a tunnel junction between ...      ar   \n",
       "406      None  Transport and elementary excitations of a Lutt...      ar   \n",
       "407      None  AC-conductance of one-dimensional, long-range ...      ar   \n",
       "\n",
       "    subtypeDescription         creator                                  afid  \\\n",
       "0              Article      Wlaźlak E.                     60018353;60017351   \n",
       "1              Article         Krok E.            60031298;60018353;60008555   \n",
       "2              Article          Liu Y.  60025616;60018353;60007746;116477279   \n",
       "3              Article  Klinghammer S.   60026306;60018353;60008583;60000086   \n",
       "4              Article        Lin H.H.            60032834;60024174;60018353   \n",
       "..                 ...             ...                                   ...   \n",
       "403            Article    Cuniberti G.                              60028229   \n",
       "404            Article    Cuniberti G.            60107402;60028229;60025153   \n",
       "405            Article     Sassetti M.            60107402;60028229;60025153   \n",
       "406            Article    Cuniberti G.            60107402;60028229;60025153   \n",
       "407            Article    Cuniberti G.            60107402;60028229;60025153   \n",
       "\n",
       "                                             affilname  ... issueIdentifier  \\\n",
       "0    Technische Universität Dresden;AGH University ...  ...              SI   \n",
       "1    Fraunhofer Institute for Ceramic Technologies ...  ...              20   \n",
       "2    Fraunhofer Institute for Material and Beam Tec...  ...               3   \n",
       "3    University of Nebraska–Lincoln;Technische Univ...  ...               3   \n",
       "4    Max Planck Institute for the Physics of Comple...  ...               3   \n",
       "..                                                 ...  ...             ...   \n",
       "403                                Universität Hamburg  ...               3   \n",
       "404  Ospedale Policlinico San Martino;Universität H...  ...               6   \n",
       "405  Ospedale Policlinico San Martino;Universität H...  ...              12   \n",
       "406  Ospedale Policlinico San Martino;Universität H...  ...               2   \n",
       "407  Ospedale Policlinico San Martino;Universität H...  ...             1-4   \n",
       "\n",
       "    article_number  pageRange  \\\n",
       "0           SI0801       None   \n",
       "1           205603       None   \n",
       "2             None  2556-2564   \n",
       "3              274       None   \n",
       "4           034024       None   \n",
       "..             ...        ...   \n",
       "403           None  1515-1526   \n",
       "404           None    421-426   \n",
       "405           None    915-919   \n",
       "406           None       None   \n",
       "407           None    256-258   \n",
       "\n",
       "                                           description  \\\n",
       "0    © 2020 The Japan Society of Applied Physics. T...   \n",
       "1    © 2020 IOP Publishing Ltd. The present study d...   \n",
       "2    Copyright © 2020 American Chemical Society. We...   \n",
       "3    © 2020 by the authors. We demonstrate the func...   \n",
       "4    © 2020 American Physical Society. The manipula...   \n",
       "..                                                 ...   \n",
       "403  The complex ac response of a quasi-one-dimensi...   \n",
       "404  We show that the non-linear dc transport in a ...   \n",
       "405  The non-linear current - voltage characteristi...   \n",
       "406  The low-temperature AC conductance of a one-di...   \n",
       "407  It is shown that the linear AC-conductance of ...   \n",
       "\n",
       "                                          authkeywords citedby_count  \\\n",
       "0                                                 None           2.0   \n",
       "1    Antibiotic | Antimicrobial surface | Biomateri...           0.0   \n",
       "2    ab initio stimulation | boron substitutional d...           1.0   \n",
       "3    Bio sensing | Dual-gate | Field effect transis...           0.0   \n",
       "4                                                 None           0.0   \n",
       "..                                                 ...           ...   \n",
       "403                                               None          65.0   \n",
       "404                                               None           3.0   \n",
       "405  Coulomb blockade | D. electron - electron inte...           5.0   \n",
       "406                                               None          31.0   \n",
       "407  AC conductance | Luttinger liquid | Quantum ca...           3.0   \n",
       "\n",
       "    openaccess fund_acr    fund_no  \\\n",
       "0            0     None  undefined   \n",
       "1            0      ESF  100284305   \n",
       "2            0      CSC     604647   \n",
       "3            1      DFG    EXC1056   \n",
       "4            0     None     766864   \n",
       "..         ...      ...        ...   \n",
       "403          0     None  undefined   \n",
       "404          0     None  undefined   \n",
       "405          0     None  undefined   \n",
       "406          0     None  undefined   \n",
       "407          0       EC  undefined   \n",
       "\n",
       "                                          fund_sponsor  \n",
       "0                                                 None  \n",
       "1                                 European Social Fund  \n",
       "2                            China Scholarship Council  \n",
       "3                      Deutsche Forschungsgemeinschaft  \n",
       "4    International Max Planck Research School for A...  \n",
       "..                                                 ...  \n",
       "403                                               None  \n",
       "404                                               None  \n",
       "405                                               None  \n",
       "406                                               None  \n",
       "407                                European Commission  \n",
       "\n",
       "[408 rows x 34 columns]"
      ]
     },
     "execution_count": 20,
     "metadata": {},
     "output_type": "execute_result"
    }
   ],
   "source": [
    "cuniberti_docs"
   ]
  },
  {
   "cell_type": "code",
   "execution_count": 21,
   "metadata": {},
   "outputs": [
    {
     "name": "stdout",
     "output_type": "stream",
     "text": [
      "[[https://www.scopus.com/inward/record.uri?partnerID=HzOxMe3b&scp=85082880360&origin=inward][2-s2.0-85082880360]]  H. H. Lin, A. Croy, R. Gutierrez, C. Joachim and G. Cuniberti, Mechanical Transmission of Rotational Motion between Molecular-Scale Gears, Physical Review Applied, 13(3), (no pages found)(2020). https://doi.org/{self.doi}, https://www.scopus.com/inward/record.uri?partnerID=HzOxMe3b&scp=85082880360&origin=inward, cited 0 times (Scopus).\n",
      "  Affiliations:\n",
      "   Technische Universität Dresden\n",
      "   Max Planck Institute for the Physics of Complex Systems\n",
      "   CEMES Centre d'Elaboration de Matériaux et d'Etudes Structurales\n"
     ]
    }
   ],
   "source": [
    "from pybliometrics.scopus import AbstractRetrieval\n",
    "article = AbstractRetrieval('2-s2.0-85082880360')\n",
    "print (article)"
   ]
  },
  {
   "cell_type": "code",
   "execution_count": 22,
   "metadata": {},
   "outputs": [
    {
     "data": {
      "text/plain": [
       "'@article{Lin2020MechanicalGears,\\n  author = {H. H. Lin and A. Croy and R. Gutierrez and C. Joachim and G. Cuniberti},\\n  title = {{Mechanical Transmission of Rotational Motion between Molecular-Scale Gears}},\\n  journal = {Physical Review Applied},\\n  year = {2020},\\n  volume = {13},\\n  number = {3},\\n  pages = {-},\\n  doi = {10.1103/PhysRevApplied.13.034024}}'"
      ]
     },
     "execution_count": 22,
     "metadata": {},
     "output_type": "execute_result"
    }
   ],
   "source": [
    "article.get_bibtex()"
   ]
  },
  {
   "cell_type": "code",
   "execution_count": 23,
   "metadata": {},
   "outputs": [
    {
     "name": "stdout",
     "output_type": "stream",
     "text": [
      "© 2020 American Physical Society.The manipulation and coupling of molecule gears is the first step toward realizing molecular-scale mechanical machines. Here, we theoretically investigate the behavior of such gears using molecular-dynamics simulations. Within a nearly rigid-body approximation, we reduce the dynamics of the gears to the rotational motion around the orientation vector. This allows us to study their behavior based on a few collective variables. Specifically, for a single hexa(4-tert-butylphenyl)benzene molecule, we show that the rotational-angle dynamics correspond to those of a Brownian rotor. For two such coupled gears, we extract the effective interaction potential and find that it is strongly dependent on the center-of-mass distance. Finally, we study the collective motion of a train of gears. We demonstrate the existence of three different regimes, depending on the magnitude of the driving torque of the first gear: Underdriving, driving, and overdriving, which correspond, respectively, to no collective rotation, collective rotation, and only single-gear rotation. This behavior can be understood in terms of a simplified interaction potential.\n"
     ]
    }
   ],
   "source": [
    "print (article.description)"
   ]
  },
  {
   "cell_type": "code",
   "execution_count": 24,
   "metadata": {},
   "outputs": [
    {
     "data": {
      "text/plain": [
       "'American Physical Societyrevtex@aps.org'"
      ]
     },
     "execution_count": 24,
     "metadata": {},
     "output_type": "execute_result"
    }
   ],
   "source": [
    "article.publisher"
   ]
  },
  {
   "cell_type": "code",
   "execution_count": 25,
   "metadata": {},
   "outputs": [
    {
     "data": {
      "text/plain": [
       "[Author(auid='57216224322', indexed_name='Lin H.-H.', surname='Lin', given_name='H. H.', affiliation=['60018353', '60032834']),\n",
       " Author(auid='12446448300', indexed_name='Croy A.', surname='Croy', given_name='A.', affiliation=['60018353']),\n",
       " Author(auid='56362424800', indexed_name='Gutierrez R.', surname='Gutierrez', given_name='R.', affiliation=['60018353']),\n",
       " Author(auid='26643165300', indexed_name='Joachim C.', surname='Joachim', given_name='C.', affiliation=['60024174']),\n",
       " Author(auid='56273831400', indexed_name='Cuniberti G.', surname='Cuniberti', given_name='G.', affiliation=['60018353', '60018353', '60018353'])]"
      ]
     },
     "execution_count": 25,
     "metadata": {},
     "output_type": "execute_result"
    }
   ],
   "source": [
    "article.authors"
   ]
  },
  {
   "cell_type": "markdown",
   "metadata": {},
   "source": [
    "... For more check https://pybliometrics.readthedocs.io/en/stable/index.html"
   ]
  }
 ],
 "metadata": {
  "kernelspec": {
   "display_name": "Python 3",
   "language": "python",
   "name": "python3"
  },
  "language_info": {
   "codemirror_mode": {
    "name": "ipython",
    "version": 3
   },
   "file_extension": ".py",
   "mimetype": "text/x-python",
   "name": "python",
   "nbconvert_exporter": "python",
   "pygments_lexer": "ipython3",
   "version": "3.7.6"
  },
  "toc": {
   "base_numbering": 1,
   "nav_menu": {},
   "number_sections": true,
   "sideBar": true,
   "skip_h1_title": false,
   "title_cell": "Table of Contents",
   "title_sidebar": "Contents",
   "toc_cell": false,
   "toc_position": {},
   "toc_section_display": true,
   "toc_window_display": false
  },
  "varInspector": {
   "cols": {
    "lenName": 16,
    "lenType": 16,
    "lenVar": 40
   },
   "kernels_config": {
    "python": {
     "delete_cmd_postfix": "",
     "delete_cmd_prefix": "del ",
     "library": "var_list.py",
     "varRefreshCmd": "print(var_dic_list())"
    },
    "r": {
     "delete_cmd_postfix": ") ",
     "delete_cmd_prefix": "rm(",
     "library": "var_list.r",
     "varRefreshCmd": "cat(var_dic_list()) "
    }
   },
   "types_to_exclude": [
    "module",
    "function",
    "builtin_function_or_method",
    "instance",
    "_Feature"
   ],
   "window_display": false
  }
 },
 "nbformat": 4,
 "nbformat_minor": 4
}
