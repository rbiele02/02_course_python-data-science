{
 "cells": [
  {
   "cell_type": "markdown",
   "metadata": {},
   "source": [
    "## Remake/improve the existing visualization\n",
    "In the folder 'visuals' you find 3 examples with the data and the original visualization. Start first with '1-weekly-road-fuel-prices'. What is good what is bad about the visualization? Can you do a better one? You can use the visualization tool of your choice (Excel, matplotlib,numbers, ...). Can you tell a story about the data? Why is the price dropping sharply from time to time?  \n",
    "In case you you want to practice more, take a look at '2-sleep_hours_needed_vs_average' or '3-40-years_music_industry'."
   ]
  },
  {
   "cell_type": "markdown",
   "metadata": {},
   "source": [
    "## Create a word cloud using Scopus API"
   ]
  },
  {
   "cell_type": "markdown",
   "metadata": {},
   "source": [
    "Create a word cloud by accessing the Scopus database with the Pybliometrics tool.  \n",
    "You need to :\n",
    "- register here (https://dev.elsevier.com) and get your own API key.\n",
    "- install Pybliometrics on your local machine (<code>pip install pybliometrics</code>)\n",
    "\n",
    "The documentation can be found here (https://pybliometrics.readthedocs.io/en/stable/index.html#classes)"
   ]
  },
  {
   "cell_type": "code",
   "execution_count": null,
   "metadata": {},
   "outputs": [],
   "source": [
    "! pip install pybliometrics"
   ]
  },
  {
   "cell_type": "code",
   "execution_count": 1,
   "metadata": {},
   "outputs": [],
   "source": [
    "import pandas as pd"
   ]
  },
  {
   "cell_type": "markdown",
   "metadata": {},
   "source": [
    "First search the author or affiliation for which you want to create the word cloud:\n",
    "The first time you use pybliometrics you will be ask to enter you API key, which will then be saved locally. Furthermore you need access to Scopus services: TU Dresden has a Scopus licence and when you are using the WIFI from the TU Dresden you should have also access. If you are NOT at TUD but you have a ZIH login, please do connect to the University services via VPN (here you can find how to set it up: https://tu-dresden.de/zih/dienste/service-katalog/arbeitsumgebung/zugang_datennetz/vpn)"
   ]
  },
  {
   "cell_type": "code",
   "execution_count": 2,
   "metadata": {},
   "outputs": [
    {
     "data": {
      "text/html": [
       "<div>\n",
       "<style scoped>\n",
       "    .dataframe tbody tr th:only-of-type {\n",
       "        vertical-align: middle;\n",
       "    }\n",
       "\n",
       "    .dataframe tbody tr th {\n",
       "        vertical-align: top;\n",
       "    }\n",
       "\n",
       "    .dataframe thead th {\n",
       "        text-align: right;\n",
       "    }\n",
       "</style>\n",
       "<table border=\"1\" class=\"dataframe\">\n",
       "  <thead>\n",
       "    <tr style=\"text-align: right;\">\n",
       "      <th></th>\n",
       "      <th>eid</th>\n",
       "      <th>name</th>\n",
       "      <th>variant</th>\n",
       "      <th>documents</th>\n",
       "      <th>city</th>\n",
       "      <th>country</th>\n",
       "      <th>parent</th>\n",
       "    </tr>\n",
       "  </thead>\n",
       "  <tbody>\n",
       "    <tr>\n",
       "      <th>0</th>\n",
       "      <td>10-s2.0-60018353</td>\n",
       "      <td>Technische Universität Dresden</td>\n",
       "      <td></td>\n",
       "      <td>73061</td>\n",
       "      <td>Dresden</td>\n",
       "      <td>Germany</td>\n",
       "      <td>0</td>\n",
       "    </tr>\n",
       "    <tr>\n",
       "      <th>1</th>\n",
       "      <td>10-s2.0-60025676</td>\n",
       "      <td>Dresden University Faculty of Medicine and Uni...</td>\n",
       "      <td>University Hospital Carl Gustav Carus</td>\n",
       "      <td>18947</td>\n",
       "      <td>Dresden</td>\n",
       "      <td>Germany</td>\n",
       "      <td>0</td>\n",
       "    </tr>\n",
       "    <tr>\n",
       "      <th>2</th>\n",
       "      <td>10-s2.0-60102531</td>\n",
       "      <td>Center for Regenerative Therapies Dresden</td>\n",
       "      <td>Technische Universität Dresden</td>\n",
       "      <td>1465</td>\n",
       "      <td>Dresden</td>\n",
       "      <td>Germany</td>\n",
       "      <td>0</td>\n",
       "    </tr>\n",
       "    <tr>\n",
       "      <th>3</th>\n",
       "      <td>10-s2.0-60117057</td>\n",
       "      <td>Technische Universität Dresden Institut für Fe...</td>\n",
       "      <td>Technische Universität Dresden Institut Für Fe...</td>\n",
       "      <td>313</td>\n",
       "      <td>Dresden</td>\n",
       "      <td>Germany</td>\n",
       "      <td>0</td>\n",
       "    </tr>\n",
       "    <tr>\n",
       "      <th>4</th>\n",
       "      <td>10-s2.0-60017479</td>\n",
       "      <td>Herzzentrum Dresden Universitätsklinik</td>\n",
       "      <td>Herzzentrum Dresden</td>\n",
       "      <td>203</td>\n",
       "      <td>Dresden</td>\n",
       "      <td>Germany</td>\n",
       "      <td>0</td>\n",
       "    </tr>\n",
       "  </tbody>\n",
       "</table>\n",
       "</div>"
      ],
      "text/plain": [
       "                eid                                               name  \\\n",
       "0  10-s2.0-60018353                     Technische Universität Dresden   \n",
       "1  10-s2.0-60025676  Dresden University Faculty of Medicine and Uni...   \n",
       "2  10-s2.0-60102531          Center for Regenerative Therapies Dresden   \n",
       "3  10-s2.0-60117057  Technische Universität Dresden Institut für Fe...   \n",
       "4  10-s2.0-60017479             Herzzentrum Dresden Universitätsklinik   \n",
       "\n",
       "                                             variant documents     city  \\\n",
       "0                                                        73061  Dresden   \n",
       "1              University Hospital Carl Gustav Carus     18947  Dresden   \n",
       "2                     Technische Universität Dresden      1465  Dresden   \n",
       "3  Technische Universität Dresden Institut Für Fe...       313  Dresden   \n",
       "4                                Herzzentrum Dresden       203  Dresden   \n",
       "\n",
       "   country parent  \n",
       "0  Germany      0  \n",
       "1  Germany      0  \n",
       "2  Germany      0  \n",
       "3  Germany      0  \n",
       "4  Germany      0  "
      ]
     },
     "execution_count": 2,
     "metadata": {},
     "output_type": "execute_result"
    }
   ],
   "source": [
    "# information for Affiliation search can be found here:\n",
    "# https://pybliometrics.readthedocs.io/en/stable/reference/pybliometrics.AffiliationSearch.html\n",
    "\n",
    "from pybliometrics.scopus import AffiliationSearch\n",
    "tud = AffiliationSearch('AFFIL(TU DRESDEN)')\n",
    "\n",
    "pd.DataFrame(tud.affiliations).head()"
   ]
  },
  {
   "cell_type": "markdown",
   "metadata": {},
   "source": [
    "Let us see what is the content connected to each affiliation. Therefore, you need to use the <code>eid<\\code> number:"
   ]
  },
  {
   "cell_type": "code",
   "execution_count": 3,
   "metadata": {},
   "outputs": [
    {
     "name": "stdout",
     "output_type": "stream",
     "text": [
      "80\n"
     ]
    }
   ],
   "source": [
    "# Let us take a look at the entry 'Herzzentrum Dresden Universitätsklinik' \n",
    "# TU Dresden is big (73061 documents) and retrieving information will take some time\n",
    "# so as an example the Herzzentrum in Dresden is  better:\n",
    "\n",
    "from pybliometrics.scopus import ContentAffiliationRetrieval\n",
    "content_herz = ContentAffiliationRetrieval('10-s2.0-60017479')\n",
    "\n",
    "print (content_herz.author_count)"
   ]
  },
  {
   "cell_type": "markdown",
   "metadata": {},
   "source": [
    "More output options can be found here (https://pybliometrics.readthedocs.io/en/stable/reference/pybliometrics.ContentAffiliationRetrieval.html)"
   ]
  },
  {
   "cell_type": "code",
   "execution_count": 4,
   "metadata": {},
   "outputs": [
    {
     "data": {
      "text/plain": [
       "'https://api.elsevier.com/content/search/scopus?query=af-id%2860017479%29'"
      ]
     },
     "execution_count": 4,
     "metadata": {},
     "output_type": "execute_result"
    }
   ],
   "source": [
    "# this gives you the search link to make a scopus search and get all the connected documents\n",
    "# %28 stands for '('\n",
    "content_herz.search_link"
   ]
  },
  {
   "cell_type": "code",
   "execution_count": 6,
   "metadata": {},
   "outputs": [],
   "source": [
    "from pybliometrics.scopus import ScopusSearch\n",
    "scopus_herz = ScopusSearch('af-id(60017479)',verbose=True)\n",
    "\n",
    "# here we put the flag verbose=True to see the progress of the query\n",
    "# more infos and options here: https://pybliometrics.readthedocs.io/en/stable/reference/pybliometrics.ScopusSearch.html\n",
    "# note that the first part of the eid is deleted\n"
   ]
  },
  {
   "cell_type": "code",
   "execution_count": 7,
   "metadata": {},
   "outputs": [
    {
     "data": {
      "text/plain": [
       "203"
      ]
     },
     "execution_count": 7,
     "metadata": {},
     "output_type": "execute_result"
    }
   ],
   "source": [
    "len(scopus_herz.results)"
   ]
  },
  {
   "cell_type": "code",
   "execution_count": 8,
   "metadata": {},
   "outputs": [
    {
     "data": {
      "text/plain": [
       "Document(eid='2-s2.0-85086052311', doi='10.1093/europace/euaa004', pii=None, pubmed_id='32044994', title='A collective European experience with left atrial appendage suture ligation using the LARIAT+ device', subtype='ar', subtypeDescription='Article', creator='Tilz R.R.', afid='60106629;60026701;60025676;60024930;60023691;60022215;60021361;60019619;60015196;112698174', affilname='Deutsches Zentrum für Herz-Kreislauf-Forschung e. V.;Fuwai Hospital, Chinese Academy of Medical Sciences &amp; Peking Union Medical College;Dresden University Faculty of Medicine and University Hospital Carl Gustav Carus;Harefield Hospital;University of California, San Francisco;Asklepios Klinik St. Georg;Uniwersytet Jagielloński w Krakowie;UniversitatsSpital Zurich;Universitätsklinikum Schleswig-Holstein Campus Lübeck;CardioVascular Center', affiliation_city='Berlin;Beijing;Dresden;Harefield;San Francisco;Hamburg;Krakow;Zurich;Lubeck;Frankfurt am Main', affiliation_country='Germany;China;Germany;United Kingdom;United States;Germany;Poland;Switzerland;Germany;Germany', author_count='21', author_names='Tilz, Roland Richard;Fink, Thomas;Bartus, Krzysztof;Wong, Tom;Vogler, Julia;Nentwich, Karin;Panniker, Sandeep;Fang, Qizhi;Piorkowski, Christopher;Liosis, Spyridon;Gaspar, Thomas;Sawan, Noureddin;Metzner, Andreas;Nietlispach, Fabian;Maisano, Francesco;Lee, Randall J.;Foran, John P.;Ouyang, Feifan;Sievert, Horst;Deneke, Thomas;Kuck, Karl Heinz', author_ids='16065182300;56506701000;7801496026;56804219800;56462409700;7801504318;57199296960;7202644235;6507628380;55752008200;35242589300;57189361229;24492091900;6507483548;7004629354;7408201639;7005638290;7004894867;7006236064;55909968600;35237924900', author_afids='60015196-60106629-60022215;60015196-60022215;60021361;60024930;60015196;112698174;60024930;60023691;60025676;60015196;60025676;60015196;60022215;60019619;60019619;60023691;60024930;60022215-60026701;112698174;112698174;60015196-60106629-60022215', coverDate='2020-06-01', coverDisplayDate='1 June 2020', publicationName='Europace : European pacing, arrhythmias, and cardiac electrophysiology : journal of the working groups on cardiac pacing, arrhythmias, and cardiac cellular electrophysiology of the European Society of Cardiology', issn=None, source_id='23181', eIssn='15322092', aggregationType='Journal', volume='22', issueIdentifier='6', article_number=None, pageRange='924-931', description='Published on behalf of the European Society of Cardiology. All rights reserved. © The Author(s) 2020. For permissions, please email: journals.permissions@oup.com. AIMS: We report the collective European experience of percutaneous left atrial appendage (LAA) suture ligation using the recent generation LARIAT+ suture delivery device. METHODS AND RESULTS: A total of 141 patients with non-valvular atrial fibrillation and contraindication to oral anticoagulation (OAC), thrombo-embolic events despite OAC or electrical LAA isolation were enrolled at seven European hospitals to undergo LAA ligation. Patients were followed up by clinical visits and transoesophageal echocardiography (TOE) following LAA closure. Left atrial appendage ligation was completed in 138/141 patients (97.8%). Three patients did not undergo attempted deployment of the LARIAT device due to pericardial adhesion after previous epicardial ventricular tachycardia ablation (n\\u2009=\\u20091), a pericardial access-related complication (n\\u2009=\\u20091), and multiple posterior LAA lobes (n\\u2009=\\u20091). Serious 30-day procedural adverse events occurred in 4/141 patients (2.8%). There were two device-related LAA perforations (1.4%) not resulting in any corrective intervention as the LAA was completely sealed with the LARIAT. Minor adverse events occurred in 19 patients (13.5%), including two pericardial effusions due to procedure-related pericarditis requiring pericardiocentesis. Transoesophageal echocardiography was performed after LAA ligation in 103/138 patients (74.6%) after a mean of 181\\u2009±\\u200972\\u2009days. Complete LAA closure was documented in 100 patients (97.1%). Two patients (1.8% of patients with follow-up) experienced a transient ischaemic attack at 4 and 7\\u2009months follow-up, although there was no leak observed with TOE. There were two deaths during long-term follow-up which were both not device related. CONCLUSION: Initial experience with the LARIAT+ device demonstrates feasibility of LAA exclusion. Further larger prospective studies with longer follow-up are warranted.', authkeywords='Atrial fibrillation | Cardioembolic stroke | LAA isolation | LAA ligation | LARIAT', citedby_count='0', openaccess='0', fund_acr=None, fund_no='undefined', fund_sponsor=None)"
      ]
     },
     "execution_count": 8,
     "metadata": {},
     "output_type": "execute_result"
    }
   ],
   "source": [
    "# The second document found by Scopus for this affiliation id\n",
    "scopus_herz.results[1]"
   ]
  },
  {
   "cell_type": "code",
   "execution_count": 9,
   "metadata": {},
   "outputs": [
    {
     "data": {
      "text/plain": [
       "'Atrial fibrillation | Cardioembolic stroke | LAA isolation | LAA ligation | LARIAT'"
      ]
     },
     "execution_count": 9,
     "metadata": {},
     "output_type": "execute_result"
    }
   ],
   "source": [
    "# keywords of the publication\n",
    "scopus_herz.results[1].authkeywords"
   ]
  },
  {
   "cell_type": "code",
   "execution_count": 10,
   "metadata": {},
   "outputs": [
    {
     "data": {
      "text/plain": [
       "'Published on behalf of the European Society of Cardiology. All rights reserved. © The Author(s) 2020. For permissions, please email: journals.permissions@oup.com. AIMS: We report the collective European experience of percutaneous left atrial appendage (LAA) suture ligation using the recent generation LARIAT+ suture delivery device. METHODS AND RESULTS: A total of 141 patients with non-valvular atrial fibrillation and contraindication to oral anticoagulation (OAC), thrombo-embolic events despite OAC or electrical LAA isolation were enrolled at seven European hospitals to undergo LAA ligation. Patients were followed up by clinical visits and transoesophageal echocardiography (TOE) following LAA closure. Left atrial appendage ligation was completed in 138/141 patients (97.8%). Three patients did not undergo attempted deployment of the LARIAT device due to pericardial adhesion after previous epicardial ventricular tachycardia ablation (n\\u2009=\\u20091), a pericardial access-related complication (n\\u2009=\\u20091), and multiple posterior LAA lobes (n\\u2009=\\u20091). Serious 30-day procedural adverse events occurred in 4/141 patients (2.8%). There were two device-related LAA perforations (1.4%) not resulting in any corrective intervention as the LAA was completely sealed with the LARIAT. Minor adverse events occurred in 19 patients (13.5%), including two pericardial effusions due to procedure-related pericarditis requiring pericardiocentesis. Transoesophageal echocardiography was performed after LAA ligation in 103/138 patients (74.6%) after a mean of 181\\u2009±\\u200972\\u2009days. Complete LAA closure was documented in 100 patients (97.1%). Two patients (1.8% of patients with follow-up) experienced a transient ischaemic attack at 4 and 7\\u2009months follow-up, although there was no leak observed with TOE. There were two deaths during long-term follow-up which were both not device related. CONCLUSION: Initial experience with the LARIAT+ device demonstrates feasibility of LAA exclusion. Further larger prospective studies with longer follow-up are warranted.'"
      ]
     },
     "execution_count": 10,
     "metadata": {},
     "output_type": "execute_result"
    }
   ],
   "source": [
    "# the abstract\n",
    "scopus_herz.results[1].description"
   ]
  },
  {
   "cell_type": "markdown",
   "metadata": {},
   "source": [
    "Not all of the entries have keywords or abstracts saved and this might give you a 'None'."
   ]
  },
  {
   "cell_type": "code",
   "execution_count": 11,
   "metadata": {},
   "outputs": [
    {
     "name": "stdout",
     "output_type": "stream",
     "text": [
      "None\n"
     ]
    }
   ],
   "source": [
    "print (scopus_herz.results[0].authkeywords)"
   ]
  },
  {
   "cell_type": "markdown",
   "metadata": {},
   "source": [
    "So now it is up to you to:\n",
    "- search for a affiliation or author of your choice\n",
    "- search all the corresponding documents of this affil. or author\n",
    "- connect all the keywords or abstracts together to form a big string\n",
    "- this can be used to create a word cloud"
   ]
  },
  {
   "cell_type": "markdown",
   "metadata": {},
   "source": [
    "Here is a basic example of how to create a word cloud with python."
   ]
  },
  {
   "cell_type": "code",
   "execution_count": 12,
   "metadata": {},
   "outputs": [
    {
     "data": {
      "image/png": "[encoded data removed]",
      "text/plain": [
       "<Figure size 432x288 with 1 Axes>"
      ]
     },
     "metadata": {
      "needs_background": "light"
     },
     "output_type": "display_data"
    }
   ],
   "source": [
    "# Libraries\n",
    "# !pip install wordcloud\n",
    "\n",
    "from wordcloud import WordCloud\n",
    "import matplotlib.pyplot as plt\n",
    " \n",
    "# Create a list of word\n",
    "text=(\"Python Python Python Matplotlib Matplotlib Seaborn Network Plot Violin Chart Pandas Datascience Wordcloud Spider Radar Parrallel Alpha Color Brewer Density Scatter Barplot Barplot Boxplot Violinplot Treemap Stacked Area Chart Chart Visualization Dataviz Donut Pie Time-Series Wordcloud Wordcloud Sankey Bubble\")\n",
    " \n",
    "# Create the wordcloud object\n",
    "wordcloud = WordCloud(width=480, height=480, margin=0).generate(text)\n",
    " \n",
    "# Display the generated image:\n",
    "plt.imshow(wordcloud, interpolation='bilinear')\n",
    "plt.axis(\"off\")\n",
    "plt.margins(x=0, y=0)\n",
    "plt.show()\n"
   ]
  },
  {
   "cell_type": "markdown",
   "metadata": {},
   "source": [
    "here you can find more ideas of how to make your word cloud look better:\n",
    "https://amueller.github.io/word_cloud/auto_examples/index.html#example-gallery"
   ]
  },
  {
   "cell_type": "markdown",
   "metadata": {},
   "source": [
    "You can for example print the word cloud in the form wanted. For example:\n",
    "https://amueller.github.io/word_cloud/auto_examples/frequency.html#sphx-glr-auto-examples-frequency-py"
   ]
  }
 ],
 "metadata": {
  "kernelspec": {
   "display_name": "Python 3",
   "language": "python",
   "name": "python3"
  },
  "language_info": {
   "codemirror_mode": {
    "name": "ipython",
    "version": 3
   },
   "file_extension": ".py",
   "mimetype": "text/x-python",
   "name": "python",
   "nbconvert_exporter": "python",
   "pygments_lexer": "ipython3",
   "version": "3.7.6"
  }
 },
 "nbformat": 4,
 "nbformat_minor": 4
}
